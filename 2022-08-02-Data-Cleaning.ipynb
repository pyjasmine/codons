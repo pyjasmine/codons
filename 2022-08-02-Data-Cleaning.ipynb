{
 "cells": [
  {
   "cell_type": "markdown",
   "metadata": {},
   "source": [
    "# Project: Predicting Kingdom and RNA Type Using Codon Frequency"
   ]
  },
  {
   "cell_type": "markdown",
   "metadata": {},
   "source": [
    "##### by: Jasmine Marzouk"
   ]
  },
  {
   "cell_type": "markdown",
   "metadata": {},
   "source": [
    "## Notebook 1: Data Cleaning"
   ]
  },
  {
   "cell_type": "markdown",
   "metadata": {},
   "source": [
    "---"
   ]
  },
  {
   "cell_type": "markdown",
   "metadata": {},
   "source": [
    "# Data dictionary:\n",
    "\n",
    "- Kingdom: string: the kingdom classification of the species\n",
    "\n",
    "    - pri: primate\n",
    "    - rod: rodent\n",
    "    - mam: mammalian\n",
    "    - vrt: vertebrate\n",
    "    - inv: invertebrate\n",
    "    - pln: plant\n",
    "    - bct: bacteria\n",
    "    - vrl: virus\n",
    "    - phg :bacteriophage\n",
    "    - arc: archaea\n",
    "    - plm: plasmid\n",
    "\n",
    "    --\n",
    "\n",
    "- DNAtype: int\n",
    "\n",
    "    - 0: nuclear\n",
    "    - 1: mitochondrion\n",
    "    - 2: chloroplast\n",
    "    - 3: cyanelle\n",
    "    - 4: plastid\n",
    "    - 5: nucleomorph\n",
    "    - 6: secondary endosymbiont\n",
    "    - 7: chromoplast\n",
    "    - 8: leukoplast\n",
    "    - 9: NA\n",
    "    - 10: proplastid\n",
    "    - 11: apicoplast\n",
    "    - 12: kinetoplast\n",
    "    \n",
    "    --\n",
    "    \n",
    "- Species ID: int: \n",
    "    the species ID on the CUTG codon database.\n",
    "- Ncodons: int \n",
    "    the number of codonds in the sequence.\n",
    "- SpeciesName: string\n",
    "    Species name\n",
    "- Codons: float\n",
    "    the 64 codons, as frequencies (per thousand codons)\n",
    "\n",
    "\n",
    "The dataset was found on the UCI repository for machine learning: https://archive.ics.uci.edu/ml/datasets/Codon+usage"
   ]
  },
  {
   "cell_type": "markdown",
   "metadata": {},
   "source": [
    "---"
   ]
  },
  {
   "cell_type": "code",
   "execution_count": 2,
   "metadata": {},
   "outputs": [],
   "source": [
    "import numpy as np\n",
    "import pandas as pd\n",
    "import matplotlib.pyplot as plt\n",
    "import seaborn as sns\n",
    "import plotly.express as px\n",
    "import plotly.graph_objects as go\n",
    "from scipy import stats\n"
   ]
  },
  {
   "cell_type": "code",
   "execution_count": 3,
   "metadata": {},
   "outputs": [
    {
     "name": "stderr",
     "output_type": "stream",
     "text": [
      "/tmp/ipykernel_78630/713123252.py:1: DtypeWarning: Columns (5,6) have mixed types. Specify dtype option on import or set low_memory=False.\n",
      "  dfcodon = pd.read_csv('../data/codon_usage.csv')\n"
     ]
    }
   ],
   "source": [
    "dfcodon = pd.read_csv('../data/codon_usage.csv')\n"
   ]
  },
  {
   "cell_type": "code",
   "execution_count": 4,
   "metadata": {},
   "outputs": [
    {
     "data": {
      "text/plain": [
       "(13028, 69)"
      ]
     },
     "execution_count": 4,
     "metadata": {},
     "output_type": "execute_result"
    }
   ],
   "source": [
    "# Looking at the shape of the dataframe\n",
    "dfcodon.shape\n"
   ]
  },
  {
   "cell_type": "code",
   "execution_count": 5,
   "metadata": {},
   "outputs": [
    {
     "data": {
      "text/html": [
       "<div>\n",
       "<style scoped>\n",
       "    .dataframe tbody tr th:only-of-type {\n",
       "        vertical-align: middle;\n",
       "    }\n",
       "\n",
       "    .dataframe tbody tr th {\n",
       "        vertical-align: top;\n",
       "    }\n",
       "\n",
       "    .dataframe thead th {\n",
       "        text-align: right;\n",
       "    }\n",
       "</style>\n",
       "<table border=\"1\" class=\"dataframe\">\n",
       "  <thead>\n",
       "    <tr style=\"text-align: right;\">\n",
       "      <th></th>\n",
       "      <th>Kingdom</th>\n",
       "      <th>DNAtype</th>\n",
       "      <th>SpeciesID</th>\n",
       "      <th>Ncodons</th>\n",
       "      <th>SpeciesName</th>\n",
       "      <th>UUU</th>\n",
       "      <th>UUC</th>\n",
       "      <th>UUA</th>\n",
       "      <th>UUG</th>\n",
       "      <th>CUU</th>\n",
       "      <th>...</th>\n",
       "      <th>CGG</th>\n",
       "      <th>AGA</th>\n",
       "      <th>AGG</th>\n",
       "      <th>GAU</th>\n",
       "      <th>GAC</th>\n",
       "      <th>GAA</th>\n",
       "      <th>GAG</th>\n",
       "      <th>UAA</th>\n",
       "      <th>UAG</th>\n",
       "      <th>UGA</th>\n",
       "    </tr>\n",
       "  </thead>\n",
       "  <tbody>\n",
       "    <tr>\n",
       "      <th>0</th>\n",
       "      <td>vrl</td>\n",
       "      <td>0</td>\n",
       "      <td>100217</td>\n",
       "      <td>1995</td>\n",
       "      <td>Epizootic haematopoietic necrosis virus</td>\n",
       "      <td>0.01654</td>\n",
       "      <td>0.01203</td>\n",
       "      <td>0.00050</td>\n",
       "      <td>0.00351</td>\n",
       "      <td>0.01203</td>\n",
       "      <td>...</td>\n",
       "      <td>0.00451</td>\n",
       "      <td>0.01303</td>\n",
       "      <td>0.03559</td>\n",
       "      <td>0.01003</td>\n",
       "      <td>0.04612</td>\n",
       "      <td>0.01203</td>\n",
       "      <td>0.04361</td>\n",
       "      <td>0.00251</td>\n",
       "      <td>0.00050</td>\n",
       "      <td>0.00000</td>\n",
       "    </tr>\n",
       "    <tr>\n",
       "      <th>1</th>\n",
       "      <td>vrl</td>\n",
       "      <td>0</td>\n",
       "      <td>100220</td>\n",
       "      <td>1474</td>\n",
       "      <td>Bohle iridovirus</td>\n",
       "      <td>0.02714</td>\n",
       "      <td>0.01357</td>\n",
       "      <td>0.00068</td>\n",
       "      <td>0.00678</td>\n",
       "      <td>0.00407</td>\n",
       "      <td>...</td>\n",
       "      <td>0.00136</td>\n",
       "      <td>0.01696</td>\n",
       "      <td>0.03596</td>\n",
       "      <td>0.01221</td>\n",
       "      <td>0.04545</td>\n",
       "      <td>0.01560</td>\n",
       "      <td>0.04410</td>\n",
       "      <td>0.00271</td>\n",
       "      <td>0.00068</td>\n",
       "      <td>0.00000</td>\n",
       "    </tr>\n",
       "    <tr>\n",
       "      <th>2</th>\n",
       "      <td>vrl</td>\n",
       "      <td>0</td>\n",
       "      <td>100755</td>\n",
       "      <td>4862</td>\n",
       "      <td>Sweet potato leaf curl virus</td>\n",
       "      <td>0.01974</td>\n",
       "      <td>0.0218</td>\n",
       "      <td>0.01357</td>\n",
       "      <td>0.01543</td>\n",
       "      <td>0.00782</td>\n",
       "      <td>...</td>\n",
       "      <td>0.00596</td>\n",
       "      <td>0.01974</td>\n",
       "      <td>0.02489</td>\n",
       "      <td>0.03126</td>\n",
       "      <td>0.02036</td>\n",
       "      <td>0.02242</td>\n",
       "      <td>0.02468</td>\n",
       "      <td>0.00391</td>\n",
       "      <td>0.00000</td>\n",
       "      <td>0.00144</td>\n",
       "    </tr>\n",
       "    <tr>\n",
       "      <th>3</th>\n",
       "      <td>vrl</td>\n",
       "      <td>0</td>\n",
       "      <td>100880</td>\n",
       "      <td>1915</td>\n",
       "      <td>Northern cereal mosaic virus</td>\n",
       "      <td>0.01775</td>\n",
       "      <td>0.02245</td>\n",
       "      <td>0.01619</td>\n",
       "      <td>0.00992</td>\n",
       "      <td>0.01567</td>\n",
       "      <td>...</td>\n",
       "      <td>0.00366</td>\n",
       "      <td>0.01410</td>\n",
       "      <td>0.01671</td>\n",
       "      <td>0.03760</td>\n",
       "      <td>0.01932</td>\n",
       "      <td>0.03029</td>\n",
       "      <td>0.03446</td>\n",
       "      <td>0.00261</td>\n",
       "      <td>0.00157</td>\n",
       "      <td>0.00000</td>\n",
       "    </tr>\n",
       "    <tr>\n",
       "      <th>4</th>\n",
       "      <td>vrl</td>\n",
       "      <td>0</td>\n",
       "      <td>100887</td>\n",
       "      <td>22831</td>\n",
       "      <td>Soil-borne cereal mosaic virus</td>\n",
       "      <td>0.02816</td>\n",
       "      <td>0.01371</td>\n",
       "      <td>0.00767</td>\n",
       "      <td>0.03679</td>\n",
       "      <td>0.01380</td>\n",
       "      <td>...</td>\n",
       "      <td>0.00604</td>\n",
       "      <td>0.01494</td>\n",
       "      <td>0.01734</td>\n",
       "      <td>0.04148</td>\n",
       "      <td>0.02483</td>\n",
       "      <td>0.03359</td>\n",
       "      <td>0.03679</td>\n",
       "      <td>0.00000</td>\n",
       "      <td>0.00044</td>\n",
       "      <td>0.00131</td>\n",
       "    </tr>\n",
       "    <tr>\n",
       "      <th>5</th>\n",
       "      <td>vrl</td>\n",
       "      <td>0</td>\n",
       "      <td>101029</td>\n",
       "      <td>5274</td>\n",
       "      <td>Human adenovirus type 7d</td>\n",
       "      <td>0.02579</td>\n",
       "      <td>0.02218</td>\n",
       "      <td>0.01479</td>\n",
       "      <td>0.01024</td>\n",
       "      <td>0.02294</td>\n",
       "      <td>...</td>\n",
       "      <td>0.00303</td>\n",
       "      <td>0.01593</td>\n",
       "      <td>0.00171</td>\n",
       "      <td>0.02427</td>\n",
       "      <td>0.02503</td>\n",
       "      <td>0.02825</td>\n",
       "      <td>0.01270</td>\n",
       "      <td>0.00133</td>\n",
       "      <td>0.00038</td>\n",
       "      <td>0.00209</td>\n",
       "    </tr>\n",
       "    <tr>\n",
       "      <th>6</th>\n",
       "      <td>vrl</td>\n",
       "      <td>0</td>\n",
       "      <td>101688</td>\n",
       "      <td>3042</td>\n",
       "      <td>Apple latent spherical virus</td>\n",
       "      <td>0.04635</td>\n",
       "      <td>0.01545</td>\n",
       "      <td>0.02005</td>\n",
       "      <td>0.02400</td>\n",
       "      <td>0.02761</td>\n",
       "      <td>...</td>\n",
       "      <td>0.00329</td>\n",
       "      <td>0.01315</td>\n",
       "      <td>0.00822</td>\n",
       "      <td>0.04011</td>\n",
       "      <td>0.01183</td>\n",
       "      <td>0.02663</td>\n",
       "      <td>0.02663</td>\n",
       "      <td>0.00033</td>\n",
       "      <td>0.00033</td>\n",
       "      <td>0.00000</td>\n",
       "    </tr>\n",
       "    <tr>\n",
       "      <th>7</th>\n",
       "      <td>vrl</td>\n",
       "      <td>0</td>\n",
       "      <td>101764</td>\n",
       "      <td>2801</td>\n",
       "      <td>Aconitum latent virus</td>\n",
       "      <td>0.02285</td>\n",
       "      <td>0.02678</td>\n",
       "      <td>0.01214</td>\n",
       "      <td>0.02321</td>\n",
       "      <td>0.01714</td>\n",
       "      <td>...</td>\n",
       "      <td>0.00678</td>\n",
       "      <td>0.01250</td>\n",
       "      <td>0.01107</td>\n",
       "      <td>0.03534</td>\n",
       "      <td>0.01571</td>\n",
       "      <td>0.03642</td>\n",
       "      <td>0.02785</td>\n",
       "      <td>0.00107</td>\n",
       "      <td>0.00036</td>\n",
       "      <td>0.00071</td>\n",
       "    </tr>\n",
       "    <tr>\n",
       "      <th>8</th>\n",
       "      <td>vrl</td>\n",
       "      <td>0</td>\n",
       "      <td>101947</td>\n",
       "      <td>2897</td>\n",
       "      <td>Pseudorabies virus Ea</td>\n",
       "      <td>0.01105</td>\n",
       "      <td>0.02106</td>\n",
       "      <td>0.00035</td>\n",
       "      <td>0.00104</td>\n",
       "      <td>0.00035</td>\n",
       "      <td>...</td>\n",
       "      <td>0.02658</td>\n",
       "      <td>0.00207</td>\n",
       "      <td>0.00311</td>\n",
       "      <td>0.00414</td>\n",
       "      <td>0.04556</td>\n",
       "      <td>0.00449</td>\n",
       "      <td>0.04867</td>\n",
       "      <td>0.00138</td>\n",
       "      <td>0.00035</td>\n",
       "      <td>0.00138</td>\n",
       "    </tr>\n",
       "    <tr>\n",
       "      <th>9</th>\n",
       "      <td>vrl</td>\n",
       "      <td>0</td>\n",
       "      <td>10249</td>\n",
       "      <td>61247</td>\n",
       "      <td>Vaccinia virus Copenhagen</td>\n",
       "      <td>0.03411</td>\n",
       "      <td>0.0143</td>\n",
       "      <td>0.02771</td>\n",
       "      <td>0.01869</td>\n",
       "      <td>0.01148</td>\n",
       "      <td>...</td>\n",
       "      <td>0.00167</td>\n",
       "      <td>0.02230</td>\n",
       "      <td>0.00411</td>\n",
       "      <td>0.04866</td>\n",
       "      <td>0.01559</td>\n",
       "      <td>0.03695</td>\n",
       "      <td>0.01412</td>\n",
       "      <td>0.00250</td>\n",
       "      <td>0.00077</td>\n",
       "      <td>0.00103</td>\n",
       "    </tr>\n",
       "  </tbody>\n",
       "</table>\n",
       "<p>10 rows × 69 columns</p>\n",
       "</div>"
      ],
      "text/plain": [
       "  Kingdom  DNAtype  SpeciesID  Ncodons  \\\n",
       "0     vrl        0     100217     1995   \n",
       "1     vrl        0     100220     1474   \n",
       "2     vrl        0     100755     4862   \n",
       "3     vrl        0     100880     1915   \n",
       "4     vrl        0     100887    22831   \n",
       "5     vrl        0     101029     5274   \n",
       "6     vrl        0     101688     3042   \n",
       "7     vrl        0     101764     2801   \n",
       "8     vrl        0     101947     2897   \n",
       "9     vrl        0      10249    61247   \n",
       "\n",
       "                               SpeciesName      UUU      UUC      UUA  \\\n",
       "0  Epizootic haematopoietic necrosis virus  0.01654  0.01203  0.00050   \n",
       "1                         Bohle iridovirus  0.02714  0.01357  0.00068   \n",
       "2             Sweet potato leaf curl virus  0.01974   0.0218  0.01357   \n",
       "3             Northern cereal mosaic virus  0.01775  0.02245  0.01619   \n",
       "4           Soil-borne cereal mosaic virus  0.02816  0.01371  0.00767   \n",
       "5                 Human adenovirus type 7d  0.02579  0.02218  0.01479   \n",
       "6             Apple latent spherical virus  0.04635  0.01545  0.02005   \n",
       "7                    Aconitum latent virus  0.02285  0.02678  0.01214   \n",
       "8                    Pseudorabies virus Ea  0.01105  0.02106  0.00035   \n",
       "9                Vaccinia virus Copenhagen  0.03411   0.0143  0.02771   \n",
       "\n",
       "       UUG      CUU  ...      CGG      AGA      AGG      GAU      GAC  \\\n",
       "0  0.00351  0.01203  ...  0.00451  0.01303  0.03559  0.01003  0.04612   \n",
       "1  0.00678  0.00407  ...  0.00136  0.01696  0.03596  0.01221  0.04545   \n",
       "2  0.01543  0.00782  ...  0.00596  0.01974  0.02489  0.03126  0.02036   \n",
       "3  0.00992  0.01567  ...  0.00366  0.01410  0.01671  0.03760  0.01932   \n",
       "4  0.03679  0.01380  ...  0.00604  0.01494  0.01734  0.04148  0.02483   \n",
       "5  0.01024  0.02294  ...  0.00303  0.01593  0.00171  0.02427  0.02503   \n",
       "6  0.02400  0.02761  ...  0.00329  0.01315  0.00822  0.04011  0.01183   \n",
       "7  0.02321  0.01714  ...  0.00678  0.01250  0.01107  0.03534  0.01571   \n",
       "8  0.00104  0.00035  ...  0.02658  0.00207  0.00311  0.00414  0.04556   \n",
       "9  0.01869  0.01148  ...  0.00167  0.02230  0.00411  0.04866  0.01559   \n",
       "\n",
       "       GAA      GAG      UAA      UAG      UGA  \n",
       "0  0.01203  0.04361  0.00251  0.00050  0.00000  \n",
       "1  0.01560  0.04410  0.00271  0.00068  0.00000  \n",
       "2  0.02242  0.02468  0.00391  0.00000  0.00144  \n",
       "3  0.03029  0.03446  0.00261  0.00157  0.00000  \n",
       "4  0.03359  0.03679  0.00000  0.00044  0.00131  \n",
       "5  0.02825  0.01270  0.00133  0.00038  0.00209  \n",
       "6  0.02663  0.02663  0.00033  0.00033  0.00000  \n",
       "7  0.03642  0.02785  0.00107  0.00036  0.00071  \n",
       "8  0.00449  0.04867  0.00138  0.00035  0.00138  \n",
       "9  0.03695  0.01412  0.00250  0.00077  0.00103  \n",
       "\n",
       "[10 rows x 69 columns]"
      ]
     },
     "execution_count": 5,
     "metadata": {},
     "output_type": "execute_result"
    }
   ],
   "source": [
    "dfcodon.head(10)\n"
   ]
  },
  {
   "cell_type": "markdown",
   "metadata": {},
   "source": [
    "---"
   ]
  },
  {
   "cell_type": "markdown",
   "metadata": {},
   "source": [
    "### Checking data types"
   ]
  },
  {
   "cell_type": "code",
   "execution_count": 6,
   "metadata": {},
   "outputs": [
    {
     "name": "stdout",
     "output_type": "stream",
     "text": [
      "<class 'pandas.core.frame.DataFrame'>\n",
      "RangeIndex: 13028 entries, 0 to 13027\n",
      "Data columns (total 69 columns):\n",
      " #   Column       Non-Null Count  Dtype  \n",
      "---  ------       --------------  -----  \n",
      " 0   Kingdom      13028 non-null  object \n",
      " 1   DNAtype      13028 non-null  int64  \n",
      " 2   SpeciesID    13028 non-null  int64  \n",
      " 3   Ncodons      13028 non-null  int64  \n",
      " 4   SpeciesName  13028 non-null  object \n",
      " 5   UUU          13028 non-null  object \n",
      " 6   UUC          13028 non-null  object \n",
      " 7   UUA          13028 non-null  float64\n",
      " 8   UUG          13028 non-null  float64\n",
      " 9   CUU          13028 non-null  float64\n",
      " 10  CUC          13028 non-null  float64\n",
      " 11  CUA          13028 non-null  float64\n",
      " 12  CUG          13028 non-null  float64\n",
      " 13  AUU          13028 non-null  float64\n",
      " 14  AUC          13028 non-null  float64\n",
      " 15  AUA          13028 non-null  float64\n",
      " 16  AUG          13028 non-null  float64\n",
      " 17  GUU          13028 non-null  float64\n",
      " 18  GUC          13028 non-null  float64\n",
      " 19  GUA          13028 non-null  float64\n",
      " 20  GUG          13028 non-null  float64\n",
      " 21  GCU          13028 non-null  float64\n",
      " 22  GCC          13028 non-null  float64\n",
      " 23  GCA          13028 non-null  float64\n",
      " 24  GCG          13028 non-null  float64\n",
      " 25  CCU          13028 non-null  float64\n",
      " 26  CCC          13028 non-null  float64\n",
      " 27  CCA          13028 non-null  float64\n",
      " 28  CCG          13028 non-null  float64\n",
      " 29  UGG          13028 non-null  float64\n",
      " 30  GGU          13028 non-null  float64\n",
      " 31  GGC          13028 non-null  float64\n",
      " 32  GGA          13028 non-null  float64\n",
      " 33  GGG          13028 non-null  float64\n",
      " 34  UCU          13028 non-null  float64\n",
      " 35  UCC          13028 non-null  float64\n",
      " 36  UCA          13028 non-null  float64\n",
      " 37  UCG          13028 non-null  float64\n",
      " 38  AGU          13028 non-null  float64\n",
      " 39  AGC          13028 non-null  float64\n",
      " 40  ACU          13028 non-null  float64\n",
      " 41  ACC          13028 non-null  float64\n",
      " 42  ACA          13028 non-null  float64\n",
      " 43  ACG          13028 non-null  float64\n",
      " 44  UAU          13028 non-null  float64\n",
      " 45  UAC          13028 non-null  float64\n",
      " 46  CAA          13028 non-null  float64\n",
      " 47  CAG          13028 non-null  float64\n",
      " 48  AAU          13028 non-null  float64\n",
      " 49  AAC          13028 non-null  float64\n",
      " 50  UGU          13028 non-null  float64\n",
      " 51  UGC          13028 non-null  float64\n",
      " 52  CAU          13028 non-null  float64\n",
      " 53  CAC          13028 non-null  float64\n",
      " 54  AAA          13028 non-null  float64\n",
      " 55  AAG          13028 non-null  float64\n",
      " 56  CGU          13028 non-null  float64\n",
      " 57  CGC          13028 non-null  float64\n",
      " 58  CGA          13028 non-null  float64\n",
      " 59  CGG          13028 non-null  float64\n",
      " 60  AGA          13028 non-null  float64\n",
      " 61  AGG          13028 non-null  float64\n",
      " 62  GAU          13028 non-null  float64\n",
      " 63  GAC          13028 non-null  float64\n",
      " 64  GAA          13028 non-null  float64\n",
      " 65  GAG          13028 non-null  float64\n",
      " 66  UAA          13028 non-null  float64\n",
      " 67  UAG          13028 non-null  float64\n",
      " 68  UGA          13028 non-null  float64\n",
      "dtypes: float64(62), int64(3), object(4)\n",
      "memory usage: 6.9+ MB\n"
     ]
    }
   ],
   "source": [
    "dfcodon.info()\n"
   ]
  },
  {
   "cell_type": "markdown",
   "metadata": {},
   "source": [
    "Looking at the data types there appears to be two inconsistancies in columns `UUU` and `UUC`.\n",
    "Since they are the codon columns and the contents of the cells in these columns are floats, the data type should reflect this. I will change the datatypes for these columns using the `astype()` function."
   ]
  },
  {
   "cell_type": "code",
   "execution_count": 7,
   "metadata": {},
   "outputs": [
    {
     "name": "stdout",
     "output_type": "stream",
     "text": [
      "could not convert string to float: 'non-B hepatitis virus'\n",
      "could not convert string to float: '-'\n"
     ]
    }
   ],
   "source": [
    "for col in dfcodon.columns[5:]:\n",
    "    try:\n",
    "        dfcodon[col] = dfcodon[col].astype(float)\n",
    "    except Exception as e:\n",
    "        print(e)\n"
   ]
  },
  {
   "cell_type": "markdown",
   "metadata": {},
   "source": [
    "According to the error message there is a string type in a couple of the column rows, this makes sense now as to why the dtype was object instead of a float type."
   ]
  },
  {
   "cell_type": "code",
   "execution_count": 8,
   "metadata": {},
   "outputs": [],
   "source": [
    "# creating a separate dataframe to further investigate the issue of the object dtype\n",
    "dfjustcodon1 = dfcodon.drop(\n",
    "    ['Kingdom', 'DNAtype', 'SpeciesID', 'Ncodons', 'SpeciesName'], axis=1).copy()\n"
   ]
  },
  {
   "cell_type": "code",
   "execution_count": 9,
   "metadata": {},
   "outputs": [],
   "source": [
    "def char_finder(data_frame, series_name):\n",
    "    '''\n",
    "    Function taken from the following link: https://towardsdatascience.com/data-cleaning-automatically-removing-bad-data-c4274c21e299\n",
    "\n",
    "    '''\n",
    "    cnt = 0\n",
    "    print(series_name)\n",
    "    for row in data_frame[series_name]:\n",
    "        try:\n",
    "            float(row)  # changed to float to not flag NaNs or decimals.\n",
    "            pass\n",
    "        except ValueError:\n",
    "            print(data_frame.loc[cnt, series_name], \"-> at row:\"+str(cnt))\n",
    "        cnt += 1\n"
   ]
  },
  {
   "cell_type": "code",
   "execution_count": 10,
   "metadata": {},
   "outputs": [
    {
     "name": "stdout",
     "output_type": "stream",
     "text": [
      "UUU\n",
      "non-B hepatitis virus -> at row:486\n",
      "12;I -> at row:5063\n",
      "UUC\n",
      "- -> at row:5063\n",
      "UUA\n",
      "UUG\n",
      "CUU\n",
      "CUC\n",
      "CUA\n",
      "CUG\n",
      "AUU\n",
      "AUC\n",
      "AUA\n",
      "AUG\n",
      "GUU\n",
      "GUC\n",
      "GUA\n",
      "GUG\n",
      "GCU\n",
      "GCC\n",
      "GCA\n",
      "GCG\n",
      "CCU\n",
      "CCC\n",
      "CCA\n",
      "CCG\n",
      "UGG\n",
      "GGU\n",
      "GGC\n",
      "GGA\n",
      "GGG\n",
      "UCU\n",
      "UCC\n",
      "UCA\n",
      "UCG\n",
      "AGU\n",
      "AGC\n",
      "ACU\n",
      "ACC\n",
      "ACA\n",
      "ACG\n",
      "UAU\n",
      "UAC\n",
      "CAA\n",
      "CAG\n",
      "AAU\n",
      "AAC\n",
      "UGU\n",
      "UGC\n",
      "CAU\n",
      "CAC\n",
      "AAA\n",
      "AAG\n",
      "CGU\n",
      "CGC\n",
      "CGA\n",
      "CGG\n",
      "AGA\n",
      "AGG\n",
      "GAU\n",
      "GAC\n",
      "GAA\n",
      "GAG\n",
      "UAA\n",
      "UAG\n",
      "UGA\n"
     ]
    }
   ],
   "source": [
    "for col in dfjustcodon1:\n",
    "    char_finder(dfjustcodon1, col)\n"
   ]
  },
  {
   "cell_type": "markdown",
   "metadata": {},
   "source": [
    "The `char_finder` function has located the rows that contain the strings, I will further look at these columns and see what is going on."
   ]
  },
  {
   "cell_type": "code",
   "execution_count": 11,
   "metadata": {},
   "outputs": [
    {
     "data": {
      "text/plain": [
       "Kingdom                          vrl\n",
       "DNAtype                            0\n",
       "SpeciesID                      12440\n",
       "Ncodons                         1238\n",
       "SpeciesName                    Non-A\n",
       "UUU            non-B hepatitis virus\n",
       "UUC                          0.04362\n",
       "UUA                            0.021\n",
       "UUG                          0.01292\n",
       "CUU                          0.01292\n",
       "Name: 486, dtype: object"
      ]
     },
     "execution_count": 11,
     "metadata": {},
     "output_type": "execute_result"
    }
   ],
   "source": [
    "# row 486\n",
    "dfcodon.loc[486].head(10)\n"
   ]
  },
  {
   "cell_type": "code",
   "execution_count": 12,
   "metadata": {},
   "outputs": [
    {
     "data": {
      "text/plain": [
       "Kingdom                                                  bct\n",
       "DNAtype                                                    0\n",
       "SpeciesID                                             353569\n",
       "Ncodons                                                 1698\n",
       "SpeciesName    Salmonella enterica subsp. enterica serovar 4\n",
       "UUU                                                     12;I\n",
       "UUC                                                        -\n",
       "UUA                                                   0.0212\n",
       "UUG                                                  0.02356\n",
       "CUU                                                  0.01178\n",
       "Name: 5063, dtype: object"
      ]
     },
     "execution_count": 12,
     "metadata": {},
     "output_type": "execute_result"
    }
   ],
   "source": [
    "# row 5063\n",
    "dfcodon.loc[5063].head(10)\n"
   ]
  },
  {
   "cell_type": "markdown",
   "metadata": {},
   "source": [
    "So now I can see the issue here lies in the csv file, as it is comma seperated this has caused the name 'Non-A, non-B hepatitis virus' as it was recorded in the CUTG repository to offset the entire row.\n",
    "this issue will have to be dealt with in the CSV file by addding quotation marks around the name. The CSV file will be reuploaded into a new dataframe.\n",
    "\n",
    "This should then resolve the issue with the codon columns that were object type."
   ]
  },
  {
   "cell_type": "code",
   "execution_count": 13,
   "metadata": {},
   "outputs": [],
   "source": [
    "# reloading the fixed dataframe\n",
    "dfcodon1 = pd.read_csv('../data/codon_usage_fixed.csv')\n"
   ]
  },
  {
   "cell_type": "code",
   "execution_count": 14,
   "metadata": {},
   "outputs": [
    {
     "name": "stdout",
     "output_type": "stream",
     "text": [
      "<class 'pandas.core.frame.DataFrame'>\n",
      "RangeIndex: 13028 entries, 0 to 13027\n",
      "Data columns (total 69 columns):\n",
      " #   Column       Non-Null Count  Dtype  \n",
      "---  ------       --------------  -----  \n",
      " 0   Kingdom      13028 non-null  object \n",
      " 1   DNAtype      13028 non-null  int64  \n",
      " 2   SpeciesID    13028 non-null  int64  \n",
      " 3   Ncodons      13028 non-null  int64  \n",
      " 4   SpeciesName  13028 non-null  object \n",
      " 5   UUU          13028 non-null  float64\n",
      " 6   UUC          13028 non-null  float64\n",
      " 7   UUA          13028 non-null  float64\n",
      " 8   UUG          13028 non-null  float64\n",
      " 9   CUU          13028 non-null  float64\n",
      " 10  CUC          13028 non-null  float64\n",
      " 11  CUA          13028 non-null  float64\n",
      " 12  CUG          13028 non-null  float64\n",
      " 13  AUU          13028 non-null  float64\n",
      " 14  AUC          13028 non-null  float64\n",
      " 15  AUA          13028 non-null  float64\n",
      " 16  AUG          13028 non-null  float64\n",
      " 17  GUU          13028 non-null  float64\n",
      " 18  GUC          13028 non-null  float64\n",
      " 19  GUA          13028 non-null  float64\n",
      " 20  GUG          13028 non-null  float64\n",
      " 21  GCU          13028 non-null  float64\n",
      " 22  GCC          13028 non-null  float64\n",
      " 23  GCA          13028 non-null  float64\n",
      " 24  GCG          13028 non-null  float64\n",
      " 25  CCU          13028 non-null  float64\n",
      " 26  CCC          13028 non-null  float64\n",
      " 27  CCA          13028 non-null  float64\n",
      " 28  CCG          13028 non-null  float64\n",
      " 29  UGG          13028 non-null  float64\n",
      " 30  GGU          13028 non-null  float64\n",
      " 31  GGC          13028 non-null  float64\n",
      " 32  GGA          13028 non-null  float64\n",
      " 33  GGG          13028 non-null  float64\n",
      " 34  UCU          13028 non-null  float64\n",
      " 35  UCC          13028 non-null  float64\n",
      " 36  UCA          13028 non-null  float64\n",
      " 37  UCG          13028 non-null  float64\n",
      " 38  AGU          13028 non-null  float64\n",
      " 39  AGC          13028 non-null  float64\n",
      " 40  ACU          13028 non-null  float64\n",
      " 41  ACC          13028 non-null  float64\n",
      " 42  ACA          13028 non-null  float64\n",
      " 43  ACG          13028 non-null  float64\n",
      " 44  UAU          13028 non-null  float64\n",
      " 45  UAC          13028 non-null  float64\n",
      " 46  CAA          13028 non-null  float64\n",
      " 47  CAG          13028 non-null  float64\n",
      " 48  AAU          13028 non-null  float64\n",
      " 49  AAC          13028 non-null  float64\n",
      " 50  UGU          13028 non-null  float64\n",
      " 51  UGC          13028 non-null  float64\n",
      " 52  CAU          13028 non-null  float64\n",
      " 53  CAC          13028 non-null  float64\n",
      " 54  AAA          13028 non-null  float64\n",
      " 55  AAG          13028 non-null  float64\n",
      " 56  CGU          13028 non-null  float64\n",
      " 57  CGC          13028 non-null  float64\n",
      " 58  CGA          13028 non-null  float64\n",
      " 59  CGG          13028 non-null  float64\n",
      " 60  AGA          13028 non-null  float64\n",
      " 61  AGG          13028 non-null  float64\n",
      " 62  GAU          13028 non-null  float64\n",
      " 63  GAC          13028 non-null  float64\n",
      " 64  GAA          13028 non-null  float64\n",
      " 65  GAG          13028 non-null  float64\n",
      " 66  UAA          13028 non-null  float64\n",
      " 67  UAG          13027 non-null  float64\n",
      " 68  UGA          13026 non-null  float64\n",
      "dtypes: float64(64), int64(3), object(2)\n",
      "memory usage: 6.9+ MB\n"
     ]
    }
   ],
   "source": [
    "dfcodon1.info()\n"
   ]
  },
  {
   "cell_type": "markdown",
   "metadata": {},
   "source": [
    "`UUU` and `UUC` have now been fixed and are of dtype float."
   ]
  },
  {
   "cell_type": "markdown",
   "metadata": {},
   "source": [
    "---"
   ]
  },
  {
   "cell_type": "markdown",
   "metadata": {},
   "source": [
    "### Checking for duplicates"
   ]
  },
  {
   "cell_type": "code",
   "execution_count": 15,
   "metadata": {},
   "outputs": [
    {
     "data": {
      "text/plain": [
       "0"
      ]
     },
     "execution_count": 15,
     "metadata": {},
     "output_type": "execute_result"
    }
   ],
   "source": [
    "dfcodon1.duplicated().sum()\n"
   ]
  },
  {
   "cell_type": "markdown",
   "metadata": {},
   "source": [
    "There are no duplicated values in the dataframe."
   ]
  },
  {
   "cell_type": "markdown",
   "metadata": {},
   "source": [
    "---"
   ]
  },
  {
   "cell_type": "markdown",
   "metadata": {},
   "source": [
    "### Checking for null values"
   ]
  },
  {
   "cell_type": "code",
   "execution_count": 16,
   "metadata": {},
   "outputs": [],
   "source": [
    "pd.set_option('display.max_rows', 1000)\n"
   ]
  },
  {
   "cell_type": "code",
   "execution_count": 17,
   "metadata": {},
   "outputs": [
    {
     "data": {
      "text/plain": [
       "UGA            2\n",
       "UAG            1\n",
       "ACG            0\n",
       "AAC            0\n",
       "AAU            0\n",
       "CAG            0\n",
       "CAA            0\n",
       "UAC            0\n",
       "UAU            0\n",
       "ACA            0\n",
       "UGC            0\n",
       "ACC            0\n",
       "ACU            0\n",
       "AGC            0\n",
       "AGU            0\n",
       "UCG            0\n",
       "UGU            0\n",
       "CAU            0\n",
       "UCC            0\n",
       "CAC            0\n",
       "AAA            0\n",
       "AAG            0\n",
       "CGU            0\n",
       "CGC            0\n",
       "CGA            0\n",
       "CGG            0\n",
       "AGA            0\n",
       "AGG            0\n",
       "GAU            0\n",
       "GAC            0\n",
       "GAA            0\n",
       "GAG            0\n",
       "UAA            0\n",
       "UCA            0\n",
       "Kingdom        0\n",
       "DNAtype        0\n",
       "CUU            0\n",
       "AUA            0\n",
       "AUC            0\n",
       "AUU            0\n",
       "CUG            0\n",
       "CUA            0\n",
       "CUC            0\n",
       "UUG            0\n",
       "GGG            0\n",
       "UUA            0\n",
       "UUC            0\n",
       "UUU            0\n",
       "SpeciesName    0\n",
       "Ncodons        0\n",
       "SpeciesID      0\n",
       "AUG            0\n",
       "GUU            0\n",
       "GUC            0\n",
       "GUA            0\n",
       "GUG            0\n",
       "GCU            0\n",
       "GCC            0\n",
       "GCA            0\n",
       "GCG            0\n",
       "CCU            0\n",
       "CCC            0\n",
       "CCA            0\n",
       "CCG            0\n",
       "UGG            0\n",
       "GGU            0\n",
       "GGC            0\n",
       "GGA            0\n",
       "UCU            0\n",
       "dtype: int64"
      ]
     },
     "execution_count": 17,
     "metadata": {},
     "output_type": "execute_result"
    }
   ],
   "source": [
    "dfcodon1.isnull().sum().sort_values(ascending=False)\n"
   ]
  },
  {
   "cell_type": "markdown",
   "metadata": {},
   "source": [
    "There are a few missing values, located in columns `UGA` and `UAG`."
   ]
  },
  {
   "cell_type": "code",
   "execution_count": 18,
   "metadata": {},
   "outputs": [
    {
     "data": {
      "text/html": [
       "<div>\n",
       "<style scoped>\n",
       "    .dataframe tbody tr th:only-of-type {\n",
       "        vertical-align: middle;\n",
       "    }\n",
       "\n",
       "    .dataframe tbody tr th {\n",
       "        vertical-align: top;\n",
       "    }\n",
       "\n",
       "    .dataframe thead th {\n",
       "        text-align: right;\n",
       "    }\n",
       "</style>\n",
       "<table border=\"1\" class=\"dataframe\">\n",
       "  <thead>\n",
       "    <tr style=\"text-align: right;\">\n",
       "      <th></th>\n",
       "      <th>Kingdom</th>\n",
       "      <th>DNAtype</th>\n",
       "      <th>SpeciesID</th>\n",
       "      <th>Ncodons</th>\n",
       "      <th>SpeciesName</th>\n",
       "      <th>UUU</th>\n",
       "      <th>UUC</th>\n",
       "      <th>UUA</th>\n",
       "      <th>UUG</th>\n",
       "      <th>CUU</th>\n",
       "      <th>...</th>\n",
       "      <th>CGG</th>\n",
       "      <th>AGA</th>\n",
       "      <th>AGG</th>\n",
       "      <th>GAU</th>\n",
       "      <th>GAC</th>\n",
       "      <th>GAA</th>\n",
       "      <th>GAG</th>\n",
       "      <th>UAA</th>\n",
       "      <th>UAG</th>\n",
       "      <th>UGA</th>\n",
       "    </tr>\n",
       "  </thead>\n",
       "  <tbody>\n",
       "    <tr>\n",
       "      <th>5063</th>\n",
       "      <td>bct</td>\n",
       "      <td>0</td>\n",
       "      <td>353569</td>\n",
       "      <td>1698</td>\n",
       "      <td>Salmonella enterica subsp. enterica serovar 4 ...</td>\n",
       "      <td>0.0212</td>\n",
       "      <td>0.02356</td>\n",
       "      <td>0.01178</td>\n",
       "      <td>0.01296</td>\n",
       "      <td>0.0106</td>\n",
       "      <td>...</td>\n",
       "      <td>0.00707</td>\n",
       "      <td>0.00118</td>\n",
       "      <td>0.0</td>\n",
       "      <td>0.02945</td>\n",
       "      <td>0.02356</td>\n",
       "      <td>0.04476</td>\n",
       "      <td>0.02473</td>\n",
       "      <td>0.00118</td>\n",
       "      <td>NaN</td>\n",
       "      <td>NaN</td>\n",
       "    </tr>\n",
       "  </tbody>\n",
       "</table>\n",
       "<p>1 rows × 69 columns</p>\n",
       "</div>"
      ],
      "text/plain": [
       "     Kingdom  DNAtype  SpeciesID  Ncodons  \\\n",
       "5063     bct        0     353569     1698   \n",
       "\n",
       "                                            SpeciesName     UUU      UUC  \\\n",
       "5063  Salmonella enterica subsp. enterica serovar 4 ...  0.0212  0.02356   \n",
       "\n",
       "          UUA      UUG     CUU  ...      CGG      AGA  AGG      GAU      GAC  \\\n",
       "5063  0.01178  0.01296  0.0106  ...  0.00707  0.00118  0.0  0.02945  0.02356   \n",
       "\n",
       "          GAA      GAG      UAA  UAG  UGA  \n",
       "5063  0.04476  0.02473  0.00118  NaN  NaN  \n",
       "\n",
       "[1 rows x 69 columns]"
      ]
     },
     "execution_count": 18,
     "metadata": {},
     "output_type": "execute_result"
    }
   ],
   "source": [
    "dfcodon1[dfcodon1['UAG'].isna()]\n"
   ]
  },
  {
   "cell_type": "code",
   "execution_count": 19,
   "metadata": {},
   "outputs": [
    {
     "data": {
      "text/html": [
       "<div>\n",
       "<style scoped>\n",
       "    .dataframe tbody tr th:only-of-type {\n",
       "        vertical-align: middle;\n",
       "    }\n",
       "\n",
       "    .dataframe tbody tr th {\n",
       "        vertical-align: top;\n",
       "    }\n",
       "\n",
       "    .dataframe thead th {\n",
       "        text-align: right;\n",
       "    }\n",
       "</style>\n",
       "<table border=\"1\" class=\"dataframe\">\n",
       "  <thead>\n",
       "    <tr style=\"text-align: right;\">\n",
       "      <th></th>\n",
       "      <th>Kingdom</th>\n",
       "      <th>DNAtype</th>\n",
       "      <th>SpeciesID</th>\n",
       "      <th>Ncodons</th>\n",
       "      <th>SpeciesName</th>\n",
       "      <th>UUU</th>\n",
       "      <th>UUC</th>\n",
       "      <th>UUA</th>\n",
       "      <th>UUG</th>\n",
       "      <th>CUU</th>\n",
       "      <th>...</th>\n",
       "      <th>CGG</th>\n",
       "      <th>AGA</th>\n",
       "      <th>AGG</th>\n",
       "      <th>GAU</th>\n",
       "      <th>GAC</th>\n",
       "      <th>GAA</th>\n",
       "      <th>GAG</th>\n",
       "      <th>UAA</th>\n",
       "      <th>UAG</th>\n",
       "      <th>UGA</th>\n",
       "    </tr>\n",
       "  </thead>\n",
       "  <tbody>\n",
       "    <tr>\n",
       "      <th>486</th>\n",
       "      <td>vrl</td>\n",
       "      <td>0</td>\n",
       "      <td>12440</td>\n",
       "      <td>1238</td>\n",
       "      <td>Non-A non-B hepatitis virus</td>\n",
       "      <td>0.04362</td>\n",
       "      <td>0.02100</td>\n",
       "      <td>0.01292</td>\n",
       "      <td>0.01292</td>\n",
       "      <td>0.03554</td>\n",
       "      <td>...</td>\n",
       "      <td>0.00323</td>\n",
       "      <td>0.00242</td>\n",
       "      <td>0.00162</td>\n",
       "      <td>0.04443</td>\n",
       "      <td>0.01696</td>\n",
       "      <td>0.02423</td>\n",
       "      <td>0.02262</td>\n",
       "      <td>0.00162</td>\n",
       "      <td>0.0</td>\n",
       "      <td>NaN</td>\n",
       "    </tr>\n",
       "    <tr>\n",
       "      <th>5063</th>\n",
       "      <td>bct</td>\n",
       "      <td>0</td>\n",
       "      <td>353569</td>\n",
       "      <td>1698</td>\n",
       "      <td>Salmonella enterica subsp. enterica serovar 4 ...</td>\n",
       "      <td>0.02120</td>\n",
       "      <td>0.02356</td>\n",
       "      <td>0.01178</td>\n",
       "      <td>0.01296</td>\n",
       "      <td>0.01060</td>\n",
       "      <td>...</td>\n",
       "      <td>0.00707</td>\n",
       "      <td>0.00118</td>\n",
       "      <td>0.00000</td>\n",
       "      <td>0.02945</td>\n",
       "      <td>0.02356</td>\n",
       "      <td>0.04476</td>\n",
       "      <td>0.02473</td>\n",
       "      <td>0.00118</td>\n",
       "      <td>NaN</td>\n",
       "      <td>NaN</td>\n",
       "    </tr>\n",
       "  </tbody>\n",
       "</table>\n",
       "<p>2 rows × 69 columns</p>\n",
       "</div>"
      ],
      "text/plain": [
       "     Kingdom  DNAtype  SpeciesID  Ncodons  \\\n",
       "486      vrl        0      12440     1238   \n",
       "5063     bct        0     353569     1698   \n",
       "\n",
       "                                            SpeciesName      UUU      UUC  \\\n",
       "486                         Non-A non-B hepatitis virus  0.04362  0.02100   \n",
       "5063  Salmonella enterica subsp. enterica serovar 4 ...  0.02120  0.02356   \n",
       "\n",
       "          UUA      UUG      CUU  ...      CGG      AGA      AGG      GAU  \\\n",
       "486   0.01292  0.01292  0.03554  ...  0.00323  0.00242  0.00162  0.04443   \n",
       "5063  0.01178  0.01296  0.01060  ...  0.00707  0.00118  0.00000  0.02945   \n",
       "\n",
       "          GAC      GAA      GAG      UAA  UAG  UGA  \n",
       "486   0.01696  0.02423  0.02262  0.00162  0.0  NaN  \n",
       "5063  0.02356  0.04476  0.02473  0.00118  NaN  NaN  \n",
       "\n",
       "[2 rows x 69 columns]"
      ]
     },
     "execution_count": 19,
     "metadata": {},
     "output_type": "execute_result"
    }
   ],
   "source": [
    "dfcodon1[dfcodon1['UGA'].isna()]\n"
   ]
  },
  {
   "cell_type": "markdown",
   "metadata": {},
   "source": [
    "It is easy to replace these values. I will take them from the CUTG database using the species name to find the appropriate value.\n",
    "\n",
    "- For `UGA` missing value in row 486, corresponding to species name `Non-A non-B hepatitis virus` the value is 0.0024\n",
    "- For `UAG` missing value in row 5063, corresponding to species name `Salmonella enterica subsp. enterica serovar 4,12;I,- [gbbct]: 2` the value is 0.0\n",
    "- For `UGA` missing value in row 5063, corresponding to species name `Salmonella enterica subsp. enterica serovar 4,12;I,- [gbbct]: 2` the value is 0.0\n",
    "\n",
    "I will fill in the missing data with these values.\n"
   ]
  },
  {
   "cell_type": "code",
   "execution_count": 20,
   "metadata": {},
   "outputs": [],
   "source": [
    "# filling in the missing values with the values I found from CUTG:\n",
    "\n",
    "dfcodon1.loc[486, 'UGA'] = 0.0024\n",
    "dfcodon1.loc[5063, 'UAG'] = 0.0\n",
    "dfcodon1.loc[5063, 'UGA'] = 0.0\n"
   ]
  },
  {
   "cell_type": "code",
   "execution_count": 21,
   "metadata": {},
   "outputs": [
    {
     "data": {
      "text/plain": [
       "Kingdom        0\n",
       "DNAtype        0\n",
       "SpeciesID      0\n",
       "Ncodons        0\n",
       "SpeciesName    0\n",
       "UUU            0\n",
       "UUC            0\n",
       "UUA            0\n",
       "UUG            0\n",
       "CUU            0\n",
       "CUC            0\n",
       "CUA            0\n",
       "CUG            0\n",
       "AUU            0\n",
       "AUC            0\n",
       "AUA            0\n",
       "AUG            0\n",
       "GUU            0\n",
       "GUC            0\n",
       "GUA            0\n",
       "GUG            0\n",
       "GCU            0\n",
       "GCC            0\n",
       "GCA            0\n",
       "GCG            0\n",
       "CCU            0\n",
       "CCC            0\n",
       "CCA            0\n",
       "CCG            0\n",
       "UGG            0\n",
       "GGU            0\n",
       "GGC            0\n",
       "GGA            0\n",
       "GGG            0\n",
       "UCU            0\n",
       "UCC            0\n",
       "UCA            0\n",
       "UCG            0\n",
       "AGU            0\n",
       "AGC            0\n",
       "ACU            0\n",
       "ACC            0\n",
       "ACA            0\n",
       "ACG            0\n",
       "UAU            0\n",
       "UAC            0\n",
       "CAA            0\n",
       "CAG            0\n",
       "AAU            0\n",
       "AAC            0\n",
       "UGU            0\n",
       "UGC            0\n",
       "CAU            0\n",
       "CAC            0\n",
       "AAA            0\n",
       "AAG            0\n",
       "CGU            0\n",
       "CGC            0\n",
       "CGA            0\n",
       "CGG            0\n",
       "AGA            0\n",
       "AGG            0\n",
       "GAU            0\n",
       "GAC            0\n",
       "GAA            0\n",
       "GAG            0\n",
       "UAA            0\n",
       "UAG            0\n",
       "UGA            0\n",
       "dtype: int64"
      ]
     },
     "execution_count": 21,
     "metadata": {},
     "output_type": "execute_result"
    }
   ],
   "source": [
    "# Checking the missing values have been replaced:\n",
    "dfcodon1.isna().sum()\n"
   ]
  },
  {
   "cell_type": "markdown",
   "metadata": {},
   "source": [
    "---"
   ]
  },
  {
   "cell_type": "markdown",
   "metadata": {},
   "source": [
    "### Renaming the Kingdom Classes:"
   ]
  },
  {
   "cell_type": "code",
   "execution_count": 22,
   "metadata": {},
   "outputs": [
    {
     "data": {
      "text/plain": [
       "0          virus\n",
       "1          virus\n",
       "2          virus\n",
       "3          virus\n",
       "4          virus\n",
       "          ...   \n",
       "13023    primate\n",
       "13024    primate\n",
       "13025    primate\n",
       "13026    primate\n",
       "13027    primate\n",
       "Name: Kingdom, Length: 13028, dtype: object"
      ]
     },
     "execution_count": 22,
     "metadata": {},
     "output_type": "execute_result"
    }
   ],
   "source": [
    "dfcodon1['Kingdom'].replace({'vrl': 'virus',\n",
    "                             'arc': 'archaea',\n",
    "                             'bct': 'bacteria',\n",
    "                             'phg': 'phage',\n",
    "                             'plm': 'plasmid',\n",
    "                             'pln': 'plant',\n",
    "                             'inv': 'invertebrate',\n",
    "                             'vrt': 'vertebrate',\n",
    "                             'mam': 'mammal',\n",
    "                             'rod': 'rodent',\n",
    "                             'pri': 'primate'\n",
    "                             }, inplace=True)\n",
    "\n",
    "dfcodon1['Kingdom']\n"
   ]
  },
  {
   "cell_type": "code",
   "execution_count": 24,
   "metadata": {},
   "outputs": [
    {
     "data": {
      "text/plain": [
       "0              nuclear\n",
       "1              nuclear\n",
       "2              nuclear\n",
       "3              nuclear\n",
       "4              nuclear\n",
       "             ...      \n",
       "13023          nuclear\n",
       "13024    mitochondrial\n",
       "13025    mitochondrial\n",
       "13026          nuclear\n",
       "13027    mitochondrial\n",
       "Name: DNAtype, Length: 13028, dtype: object"
      ]
     },
     "execution_count": 24,
     "metadata": {},
     "output_type": "execute_result"
    }
   ],
   "source": [
    "dfcodon1['DNAtype'].replace({0: 'nuclear',\n",
    "                             1: 'mitochondrial',\n",
    "                             2: 'chloroplast',\n",
    "                             }, inplace=True)\n",
    "\n",
    "dfcodon1['DNAtype']\n"
   ]
  },
  {
   "cell_type": "markdown",
   "metadata": {},
   "source": [
    "# Saving Work"
   ]
  },
  {
   "cell_type": "markdown",
   "metadata": {},
   "source": [
    "The Dataframe has been cleaned and missing values replaced. I will save this to a new dataframe to use in the following EDA section."
   ]
  },
  {
   "cell_type": "code",
   "execution_count": 25,
   "metadata": {},
   "outputs": [
    {
     "data": {
      "text/plain": [
       "['../data/dfcodon1.pkl']"
      ]
     },
     "execution_count": 25,
     "metadata": {},
     "output_type": "execute_result"
    }
   ],
   "source": [
    "import joblib\n",
    "# Save data as pickle file to data folder\n",
    "joblib.dump(dfcodon1, '../data/dfcodon1.pkl')\n"
   ]
  }
 ],
 "metadata": {
  "kernelspec": {
   "display_name": "Python 3.8.13 ('plotly_bokeh')",
   "language": "python",
   "name": "python3"
  },
  "language_info": {
   "codemirror_mode": {
    "name": "ipython",
    "version": 3
   },
   "file_extension": ".py",
   "mimetype": "text/x-python",
   "name": "python",
   "nbconvert_exporter": "python",
   "pygments_lexer": "ipython3",
   "version": "3.8.13"
  },
  "vscode": {
   "interpreter": {
    "hash": "b2552d6eb3daaebc59a7ce400d4e256405ba48cf0a857688d9d9b21f3c117d11"
   }
  }
 },
 "nbformat": 4,
 "nbformat_minor": 4
}
