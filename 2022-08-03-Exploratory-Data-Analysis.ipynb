{
 "cells": [
  {
   "cell_type": "markdown",
   "metadata": {},
   "source": [
    "## Notebook 2: Exploratory Data Analysis"
   ]
  },
  {
   "cell_type": "markdown",
   "metadata": {},
   "source": [
    "## Exploratory Data Analysis Method:\n",
    "\n",
    "In order to explore the data set and understand what it contains I will be aiming to answer the following questions:\n",
    "\n",
    "- What is the distribution of the target classes for Kingdom? \n",
    "- What is the distribution of the target classes for DNAtype?\n",
    "- What does the distribution for the Ncodons column look like?\n",
    "- Are there codons that have a higher occurance in certain DNA types?\n",
    "- Are there codons that have a higher occurence in certain Kingdoms?"
   ]
  },
  {
   "cell_type": "code",
   "execution_count": 128,
   "metadata": {},
   "outputs": [],
   "source": [
    "from sklearn.tree import DecisionTreeClassifier, plot_tree\n",
    "from sklearn.svm import SVC\n",
    "from sklearn.preprocessing import StandardScaler\n",
    "from sklearn.pipeline import Pipeline\n",
    "from sklearn.neighbors import KNeighborsClassifier\n",
    "from sklearn.model_selection import (GridSearchCV, cross_val_score,\n",
    "                                     train_test_split)\n",
    "from sklearn.metrics import (accuracy_score, auc, classification_report,\n",
    "                             confusion_matrix, f1_score, plot_confusion_matrix,\n",
    "                             plot_roc_curve, precision_score, recall_score,\n",
    "                             roc_auc_score, roc_curve)\n",
    "from sklearn.linear_model import LogisticRegression\n",
    "from sklearn.decomposition import PCA\n",
    "import warnings\n",
    "import joblib\n",
    "import matplotlib.pyplot as plt\n",
    "import numpy as np\n",
    "import pandas as pd\n",
    "import plotly.express as px\n",
    "import plotly.graph_objects as go\n",
    "import seaborn as sns\n",
    "from scipy import stats\n",
    "\n",
    "%matplotlib inline\n",
    "\n",
    "\n",
    "# warnings.filterwarnings(\"ignore\")\n",
    "np.random.seed(123)\n"
   ]
  },
  {
   "cell_type": "code",
   "execution_count": 129,
   "metadata": {},
   "outputs": [],
   "source": [
    "# importing the cleaned dataframe dfcodon1 and renaming it to codon\n",
    "\n",
    "codon = joblib.load('../data/dfcodon1.pkl')\n"
   ]
  },
  {
   "cell_type": "code",
   "execution_count": 130,
   "metadata": {},
   "outputs": [
    {
     "name": "stdout",
     "output_type": "stream",
     "text": [
      "The dataframe contains 13028 rows and 69 columns\n"
     ]
    }
   ],
   "source": [
    "# Dataframe Shape\n",
    "print(\n",
    "    f'The dataframe contains {codon.shape[0]} rows and {codon.shape[1]} columns')\n"
   ]
  },
  {
   "cell_type": "code",
   "execution_count": 131,
   "metadata": {},
   "outputs": [
    {
     "data": {
      "text/html": [
       "<div>\n",
       "<style scoped>\n",
       "    .dataframe tbody tr th:only-of-type {\n",
       "        vertical-align: middle;\n",
       "    }\n",
       "\n",
       "    .dataframe tbody tr th {\n",
       "        vertical-align: top;\n",
       "    }\n",
       "\n",
       "    .dataframe thead th {\n",
       "        text-align: right;\n",
       "    }\n",
       "</style>\n",
       "<table border=\"1\" class=\"dataframe\">\n",
       "  <thead>\n",
       "    <tr style=\"text-align: right;\">\n",
       "      <th></th>\n",
       "      <th>Kingdom</th>\n",
       "      <th>DNAtype</th>\n",
       "      <th>SpeciesID</th>\n",
       "      <th>Ncodons</th>\n",
       "      <th>SpeciesName</th>\n",
       "      <th>UUU</th>\n",
       "      <th>UUC</th>\n",
       "      <th>UUA</th>\n",
       "      <th>UUG</th>\n",
       "      <th>CUU</th>\n",
       "      <th>...</th>\n",
       "      <th>CGG</th>\n",
       "      <th>AGA</th>\n",
       "      <th>AGG</th>\n",
       "      <th>GAU</th>\n",
       "      <th>GAC</th>\n",
       "      <th>GAA</th>\n",
       "      <th>GAG</th>\n",
       "      <th>UAA</th>\n",
       "      <th>UAG</th>\n",
       "      <th>UGA</th>\n",
       "    </tr>\n",
       "  </thead>\n",
       "  <tbody>\n",
       "    <tr>\n",
       "      <th>11544</th>\n",
       "      <td>vertebrate</td>\n",
       "      <td>1</td>\n",
       "      <td>71258</td>\n",
       "      <td>4460</td>\n",
       "      <td>mitochondrion Hypopomus occidentalis</td>\n",
       "      <td>0.01951</td>\n",
       "      <td>0.02623</td>\n",
       "      <td>0.02354</td>\n",
       "      <td>0.01076</td>\n",
       "      <td>0.03274</td>\n",
       "      <td>...</td>\n",
       "      <td>0.00740</td>\n",
       "      <td>0.00000</td>\n",
       "      <td>0.00000</td>\n",
       "      <td>0.00090</td>\n",
       "      <td>0.00269</td>\n",
       "      <td>0.01726</td>\n",
       "      <td>0.00359</td>\n",
       "      <td>0.00404</td>\n",
       "      <td>0.00314</td>\n",
       "      <td>0.03139</td>\n",
       "    </tr>\n",
       "    <tr>\n",
       "      <th>12258</th>\n",
       "      <td>mammal</td>\n",
       "      <td>0</td>\n",
       "      <td>30521</td>\n",
       "      <td>14077</td>\n",
       "      <td>Bos grunniens</td>\n",
       "      <td>0.01698</td>\n",
       "      <td>0.01954</td>\n",
       "      <td>0.00789</td>\n",
       "      <td>0.01435</td>\n",
       "      <td>0.01279</td>\n",
       "      <td>...</td>\n",
       "      <td>0.00902</td>\n",
       "      <td>0.01179</td>\n",
       "      <td>0.00980</td>\n",
       "      <td>0.02579</td>\n",
       "      <td>0.02941</td>\n",
       "      <td>0.02998</td>\n",
       "      <td>0.03467</td>\n",
       "      <td>0.00107</td>\n",
       "      <td>0.00078</td>\n",
       "      <td>0.00199</td>\n",
       "    </tr>\n",
       "    <tr>\n",
       "      <th>2177</th>\n",
       "      <td>virus</td>\n",
       "      <td>0</td>\n",
       "      <td>394337</td>\n",
       "      <td>1359</td>\n",
       "      <td>Tomato leaf curl New Delhi virus-[Multan;Luffa]</td>\n",
       "      <td>0.02134</td>\n",
       "      <td>0.02428</td>\n",
       "      <td>0.00736</td>\n",
       "      <td>0.01177</td>\n",
       "      <td>0.01545</td>\n",
       "      <td>...</td>\n",
       "      <td>0.00736</td>\n",
       "      <td>0.01472</td>\n",
       "      <td>0.01325</td>\n",
       "      <td>0.02943</td>\n",
       "      <td>0.01840</td>\n",
       "      <td>0.02796</td>\n",
       "      <td>0.01545</td>\n",
       "      <td>0.00221</td>\n",
       "      <td>0.00147</td>\n",
       "      <td>0.00221</td>\n",
       "    </tr>\n",
       "    <tr>\n",
       "      <th>11615</th>\n",
       "      <td>vertebrate</td>\n",
       "      <td>0</td>\n",
       "      <td>7792</td>\n",
       "      <td>11800</td>\n",
       "      <td>Heterodontus francisci</td>\n",
       "      <td>0.01661</td>\n",
       "      <td>0.01720</td>\n",
       "      <td>0.00712</td>\n",
       "      <td>0.01025</td>\n",
       "      <td>0.00941</td>\n",
       "      <td>...</td>\n",
       "      <td>0.00890</td>\n",
       "      <td>0.01517</td>\n",
       "      <td>0.01025</td>\n",
       "      <td>0.02017</td>\n",
       "      <td>0.02339</td>\n",
       "      <td>0.02881</td>\n",
       "      <td>0.02661</td>\n",
       "      <td>0.00068</td>\n",
       "      <td>0.00042</td>\n",
       "      <td>0.00144</td>\n",
       "    </tr>\n",
       "    <tr>\n",
       "      <th>3172</th>\n",
       "      <td>bacteria</td>\n",
       "      <td>0</td>\n",
       "      <td>320122</td>\n",
       "      <td>13771</td>\n",
       "      <td>Clostridium phage phi CD119</td>\n",
       "      <td>0.03544</td>\n",
       "      <td>0.00588</td>\n",
       "      <td>0.04480</td>\n",
       "      <td>0.01089</td>\n",
       "      <td>0.01343</td>\n",
       "      <td>...</td>\n",
       "      <td>0.00029</td>\n",
       "      <td>0.02926</td>\n",
       "      <td>0.00508</td>\n",
       "      <td>0.04647</td>\n",
       "      <td>0.01017</td>\n",
       "      <td>0.06739</td>\n",
       "      <td>0.01808</td>\n",
       "      <td>0.00334</td>\n",
       "      <td>0.00182</td>\n",
       "      <td>0.00058</td>\n",
       "    </tr>\n",
       "  </tbody>\n",
       "</table>\n",
       "<p>5 rows × 69 columns</p>\n",
       "</div>"
      ],
      "text/plain": [
       "          Kingdom  DNAtype  SpeciesID  Ncodons  \\\n",
       "11544  vertebrate        1      71258     4460   \n",
       "12258      mammal        0      30521    14077   \n",
       "2177        virus        0     394337     1359   \n",
       "11615  vertebrate        0       7792    11800   \n",
       "3172     bacteria        0     320122    13771   \n",
       "\n",
       "                                           SpeciesName      UUU      UUC  \\\n",
       "11544             mitochondrion Hypopomus occidentalis  0.01951  0.02623   \n",
       "12258                                    Bos grunniens  0.01698  0.01954   \n",
       "2177   Tomato leaf curl New Delhi virus-[Multan;Luffa]  0.02134  0.02428   \n",
       "11615                           Heterodontus francisci  0.01661  0.01720   \n",
       "3172                       Clostridium phage phi CD119  0.03544  0.00588   \n",
       "\n",
       "           UUA      UUG      CUU  ...      CGG      AGA      AGG      GAU  \\\n",
       "11544  0.02354  0.01076  0.03274  ...  0.00740  0.00000  0.00000  0.00090   \n",
       "12258  0.00789  0.01435  0.01279  ...  0.00902  0.01179  0.00980  0.02579   \n",
       "2177   0.00736  0.01177  0.01545  ...  0.00736  0.01472  0.01325  0.02943   \n",
       "11615  0.00712  0.01025  0.00941  ...  0.00890  0.01517  0.01025  0.02017   \n",
       "3172   0.04480  0.01089  0.01343  ...  0.00029  0.02926  0.00508  0.04647   \n",
       "\n",
       "           GAC      GAA      GAG      UAA      UAG      UGA  \n",
       "11544  0.00269  0.01726  0.00359  0.00404  0.00314  0.03139  \n",
       "12258  0.02941  0.02998  0.03467  0.00107  0.00078  0.00199  \n",
       "2177   0.01840  0.02796  0.01545  0.00221  0.00147  0.00221  \n",
       "11615  0.02339  0.02881  0.02661  0.00068  0.00042  0.00144  \n",
       "3172   0.01017  0.06739  0.01808  0.00334  0.00182  0.00058  \n",
       "\n",
       "[5 rows x 69 columns]"
      ]
     },
     "execution_count": 131,
     "metadata": {},
     "output_type": "execute_result"
    }
   ],
   "source": [
    "# peeking at the dataframe\n",
    "codon.sample(5)\n"
   ]
  },
  {
   "cell_type": "code",
   "execution_count": 132,
   "metadata": {},
   "outputs": [
    {
     "data": {
      "text/html": [
       "<div>\n",
       "<style scoped>\n",
       "    .dataframe tbody tr th:only-of-type {\n",
       "        vertical-align: middle;\n",
       "    }\n",
       "\n",
       "    .dataframe tbody tr th {\n",
       "        vertical-align: top;\n",
       "    }\n",
       "\n",
       "    .dataframe thead th {\n",
       "        text-align: right;\n",
       "    }\n",
       "</style>\n",
       "<table border=\"1\" class=\"dataframe\">\n",
       "  <thead>\n",
       "    <tr style=\"text-align: right;\">\n",
       "      <th></th>\n",
       "      <th>DNAtype</th>\n",
       "      <th>SpeciesID</th>\n",
       "      <th>Ncodons</th>\n",
       "      <th>UUU</th>\n",
       "      <th>UUC</th>\n",
       "      <th>UUA</th>\n",
       "      <th>UUG</th>\n",
       "      <th>CUU</th>\n",
       "      <th>CUC</th>\n",
       "      <th>CUA</th>\n",
       "      <th>...</th>\n",
       "      <th>CGG</th>\n",
       "      <th>AGA</th>\n",
       "      <th>AGG</th>\n",
       "      <th>GAU</th>\n",
       "      <th>GAC</th>\n",
       "      <th>GAA</th>\n",
       "      <th>GAG</th>\n",
       "      <th>UAA</th>\n",
       "      <th>UAG</th>\n",
       "      <th>UGA</th>\n",
       "    </tr>\n",
       "  </thead>\n",
       "  <tbody>\n",
       "    <tr>\n",
       "      <th>count</th>\n",
       "      <td>13028.000000</td>\n",
       "      <td>13028.000000</td>\n",
       "      <td>1.302800e+04</td>\n",
       "      <td>13028.000000</td>\n",
       "      <td>13028.000000</td>\n",
       "      <td>13028.000000</td>\n",
       "      <td>13028.000000</td>\n",
       "      <td>13028.000000</td>\n",
       "      <td>13028.000000</td>\n",
       "      <td>13028.000000</td>\n",
       "      <td>...</td>\n",
       "      <td>13028.000000</td>\n",
       "      <td>13028.000000</td>\n",
       "      <td>13028.000000</td>\n",
       "      <td>13028.000000</td>\n",
       "      <td>13028.000000</td>\n",
       "      <td>13028.000000</td>\n",
       "      <td>13028.000000</td>\n",
       "      <td>13028.000000</td>\n",
       "      <td>13028.000000</td>\n",
       "      <td>13028.000000</td>\n",
       "    </tr>\n",
       "    <tr>\n",
       "      <th>mean</th>\n",
       "      <td>0.367209</td>\n",
       "      <td>130451.105926</td>\n",
       "      <td>7.960576e+04</td>\n",
       "      <td>0.024819</td>\n",
       "      <td>0.023440</td>\n",
       "      <td>0.020635</td>\n",
       "      <td>0.014104</td>\n",
       "      <td>0.017822</td>\n",
       "      <td>0.018286</td>\n",
       "      <td>0.019043</td>\n",
       "      <td>...</td>\n",
       "      <td>0.005452</td>\n",
       "      <td>0.009929</td>\n",
       "      <td>0.006422</td>\n",
       "      <td>0.024183</td>\n",
       "      <td>0.021164</td>\n",
       "      <td>0.028292</td>\n",
       "      <td>0.021683</td>\n",
       "      <td>0.001640</td>\n",
       "      <td>0.000590</td>\n",
       "      <td>0.006178</td>\n",
       "    </tr>\n",
       "    <tr>\n",
       "      <th>std</th>\n",
       "      <td>0.688726</td>\n",
       "      <td>124787.086107</td>\n",
       "      <td>7.197010e+05</td>\n",
       "      <td>0.017627</td>\n",
       "      <td>0.011597</td>\n",
       "      <td>0.020709</td>\n",
       "      <td>0.009279</td>\n",
       "      <td>0.010587</td>\n",
       "      <td>0.014572</td>\n",
       "      <td>0.024251</td>\n",
       "      <td>...</td>\n",
       "      <td>0.006601</td>\n",
       "      <td>0.008574</td>\n",
       "      <td>0.006387</td>\n",
       "      <td>0.013826</td>\n",
       "      <td>0.013038</td>\n",
       "      <td>0.014343</td>\n",
       "      <td>0.015018</td>\n",
       "      <td>0.001785</td>\n",
       "      <td>0.000882</td>\n",
       "      <td>0.010344</td>\n",
       "    </tr>\n",
       "    <tr>\n",
       "      <th>min</th>\n",
       "      <td>0.000000</td>\n",
       "      <td>7.000000</td>\n",
       "      <td>1.000000e+03</td>\n",
       "      <td>0.000000</td>\n",
       "      <td>0.000000</td>\n",
       "      <td>0.000000</td>\n",
       "      <td>0.000000</td>\n",
       "      <td>0.000000</td>\n",
       "      <td>0.000000</td>\n",
       "      <td>0.000000</td>\n",
       "      <td>...</td>\n",
       "      <td>0.000000</td>\n",
       "      <td>0.000000</td>\n",
       "      <td>0.000000</td>\n",
       "      <td>0.000000</td>\n",
       "      <td>0.000000</td>\n",
       "      <td>0.000000</td>\n",
       "      <td>0.000000</td>\n",
       "      <td>0.000000</td>\n",
       "      <td>0.000000</td>\n",
       "      <td>0.000000</td>\n",
       "    </tr>\n",
       "    <tr>\n",
       "      <th>25%</th>\n",
       "      <td>0.000000</td>\n",
       "      <td>28850.750000</td>\n",
       "      <td>1.602000e+03</td>\n",
       "      <td>0.013910</td>\n",
       "      <td>0.015380</td>\n",
       "      <td>0.005610</td>\n",
       "      <td>0.007108</td>\n",
       "      <td>0.010890</td>\n",
       "      <td>0.007830</td>\n",
       "      <td>0.005300</td>\n",
       "      <td>...</td>\n",
       "      <td>0.001220</td>\n",
       "      <td>0.001690</td>\n",
       "      <td>0.001168</td>\n",
       "      <td>0.012390</td>\n",
       "      <td>0.011860</td>\n",
       "      <td>0.017360</td>\n",
       "      <td>0.009710</td>\n",
       "      <td>0.000560</td>\n",
       "      <td>0.000000</td>\n",
       "      <td>0.000410</td>\n",
       "    </tr>\n",
       "    <tr>\n",
       "      <th>50%</th>\n",
       "      <td>0.000000</td>\n",
       "      <td>81971.500000</td>\n",
       "      <td>2.927500e+03</td>\n",
       "      <td>0.021750</td>\n",
       "      <td>0.021905</td>\n",
       "      <td>0.015260</td>\n",
       "      <td>0.013360</td>\n",
       "      <td>0.016130</td>\n",
       "      <td>0.014560</td>\n",
       "      <td>0.009680</td>\n",
       "      <td>...</td>\n",
       "      <td>0.003530</td>\n",
       "      <td>0.009270</td>\n",
       "      <td>0.004540</td>\n",
       "      <td>0.025435</td>\n",
       "      <td>0.019070</td>\n",
       "      <td>0.026085</td>\n",
       "      <td>0.020540</td>\n",
       "      <td>0.001380</td>\n",
       "      <td>0.000420</td>\n",
       "      <td>0.001130</td>\n",
       "    </tr>\n",
       "    <tr>\n",
       "      <th>75%</th>\n",
       "      <td>1.000000</td>\n",
       "      <td>222891.250000</td>\n",
       "      <td>9.120000e+03</td>\n",
       "      <td>0.031310</td>\n",
       "      <td>0.029210</td>\n",
       "      <td>0.029485</td>\n",
       "      <td>0.019803</td>\n",
       "      <td>0.022730</td>\n",
       "      <td>0.025110</td>\n",
       "      <td>0.017245</td>\n",
       "      <td>...</td>\n",
       "      <td>0.007150</td>\n",
       "      <td>0.015922</td>\n",
       "      <td>0.010250</td>\n",
       "      <td>0.034190</td>\n",
       "      <td>0.027690</td>\n",
       "      <td>0.036800</td>\n",
       "      <td>0.031122</td>\n",
       "      <td>0.002370</td>\n",
       "      <td>0.000830</td>\n",
       "      <td>0.002890</td>\n",
       "    </tr>\n",
       "    <tr>\n",
       "      <th>max</th>\n",
       "      <td>12.000000</td>\n",
       "      <td>465364.000000</td>\n",
       "      <td>4.066258e+07</td>\n",
       "      <td>0.217300</td>\n",
       "      <td>0.091690</td>\n",
       "      <td>0.151330</td>\n",
       "      <td>0.101190</td>\n",
       "      <td>0.089780</td>\n",
       "      <td>0.100350</td>\n",
       "      <td>0.163920</td>\n",
       "      <td>...</td>\n",
       "      <td>0.055540</td>\n",
       "      <td>0.098830</td>\n",
       "      <td>0.058430</td>\n",
       "      <td>0.185660</td>\n",
       "      <td>0.113840</td>\n",
       "      <td>0.144890</td>\n",
       "      <td>0.158550</td>\n",
       "      <td>0.045200</td>\n",
       "      <td>0.025610</td>\n",
       "      <td>0.106700</td>\n",
       "    </tr>\n",
       "  </tbody>\n",
       "</table>\n",
       "<p>8 rows × 67 columns</p>\n",
       "</div>"
      ],
      "text/plain": [
       "            DNAtype      SpeciesID       Ncodons           UUU           UUC  \\\n",
       "count  13028.000000   13028.000000  1.302800e+04  13028.000000  13028.000000   \n",
       "mean       0.367209  130451.105926  7.960576e+04      0.024819      0.023440   \n",
       "std        0.688726  124787.086107  7.197010e+05      0.017627      0.011597   \n",
       "min        0.000000       7.000000  1.000000e+03      0.000000      0.000000   \n",
       "25%        0.000000   28850.750000  1.602000e+03      0.013910      0.015380   \n",
       "50%        0.000000   81971.500000  2.927500e+03      0.021750      0.021905   \n",
       "75%        1.000000  222891.250000  9.120000e+03      0.031310      0.029210   \n",
       "max       12.000000  465364.000000  4.066258e+07      0.217300      0.091690   \n",
       "\n",
       "                UUA           UUG           CUU           CUC           CUA  \\\n",
       "count  13028.000000  13028.000000  13028.000000  13028.000000  13028.000000   \n",
       "mean       0.020635      0.014104      0.017822      0.018286      0.019043   \n",
       "std        0.020709      0.009279      0.010587      0.014572      0.024251   \n",
       "min        0.000000      0.000000      0.000000      0.000000      0.000000   \n",
       "25%        0.005610      0.007108      0.010890      0.007830      0.005300   \n",
       "50%        0.015260      0.013360      0.016130      0.014560      0.009680   \n",
       "75%        0.029485      0.019803      0.022730      0.025110      0.017245   \n",
       "max        0.151330      0.101190      0.089780      0.100350      0.163920   \n",
       "\n",
       "       ...           CGG           AGA           AGG           GAU  \\\n",
       "count  ...  13028.000000  13028.000000  13028.000000  13028.000000   \n",
       "mean   ...      0.005452      0.009929      0.006422      0.024183   \n",
       "std    ...      0.006601      0.008574      0.006387      0.013826   \n",
       "min    ...      0.000000      0.000000      0.000000      0.000000   \n",
       "25%    ...      0.001220      0.001690      0.001168      0.012390   \n",
       "50%    ...      0.003530      0.009270      0.004540      0.025435   \n",
       "75%    ...      0.007150      0.015922      0.010250      0.034190   \n",
       "max    ...      0.055540      0.098830      0.058430      0.185660   \n",
       "\n",
       "                GAC           GAA           GAG           UAA           UAG  \\\n",
       "count  13028.000000  13028.000000  13028.000000  13028.000000  13028.000000   \n",
       "mean       0.021164      0.028292      0.021683      0.001640      0.000590   \n",
       "std        0.013038      0.014343      0.015018      0.001785      0.000882   \n",
       "min        0.000000      0.000000      0.000000      0.000000      0.000000   \n",
       "25%        0.011860      0.017360      0.009710      0.000560      0.000000   \n",
       "50%        0.019070      0.026085      0.020540      0.001380      0.000420   \n",
       "75%        0.027690      0.036800      0.031122      0.002370      0.000830   \n",
       "max        0.113840      0.144890      0.158550      0.045200      0.025610   \n",
       "\n",
       "                UGA  \n",
       "count  13028.000000  \n",
       "mean       0.006178  \n",
       "std        0.010344  \n",
       "min        0.000000  \n",
       "25%        0.000410  \n",
       "50%        0.001130  \n",
       "75%        0.002890  \n",
       "max        0.106700  \n",
       "\n",
       "[8 rows x 67 columns]"
      ]
     },
     "execution_count": 132,
     "metadata": {},
     "output_type": "execute_result"
    }
   ],
   "source": [
    "# Describing the dataframe\n",
    "codon.describe()\n"
   ]
  },
  {
   "cell_type": "code",
   "execution_count": 133,
   "metadata": {},
   "outputs": [],
   "source": [
    "# Setting a theme for all the visualisations\n",
    "sns.set_theme(style=\"darkgrid\")\n",
    "sns.set(rc={'figure.figsize': (11.7, 8.27)})\n"
   ]
  },
  {
   "cell_type": "markdown",
   "metadata": {},
   "source": [
    "---"
   ]
  },
  {
   "cell_type": "markdown",
   "metadata": {},
   "source": [
    "Plan for EDA:\n",
    "- Univariate alalysis\n",
    "- Bivariate analysis\n",
    "- Check codon distribution for each Kingdom\n",
    "- Check codon distribution for each DNAtype"
   ]
  },
  {
   "cell_type": "markdown",
   "metadata": {},
   "source": [
    "## Univariate Analysis"
   ]
  },
  {
   "cell_type": "markdown",
   "metadata": {},
   "source": [
    "Due to the dataframe containing 69 columns, this will be hard to visualise without breaking up the dataframe into focus points. So, I will isolate the codon columns into a separate dataframe and the rest of the columns into another one, and then do univariate analysis."
   ]
  },
  {
   "cell_type": "markdown",
   "metadata": {},
   "source": [
    "- **Separating the codon only columns**"
   ]
  },
  {
   "cell_type": "code",
   "execution_count": 134,
   "metadata": {},
   "outputs": [
    {
     "data": {
      "text/html": [
       "<div>\n",
       "<style scoped>\n",
       "    .dataframe tbody tr th:only-of-type {\n",
       "        vertical-align: middle;\n",
       "    }\n",
       "\n",
       "    .dataframe tbody tr th {\n",
       "        vertical-align: top;\n",
       "    }\n",
       "\n",
       "    .dataframe thead th {\n",
       "        text-align: right;\n",
       "    }\n",
       "</style>\n",
       "<table border=\"1\" class=\"dataframe\">\n",
       "  <thead>\n",
       "    <tr style=\"text-align: right;\">\n",
       "      <th></th>\n",
       "      <th>UUU</th>\n",
       "      <th>UUC</th>\n",
       "      <th>UUA</th>\n",
       "      <th>UUG</th>\n",
       "      <th>CUU</th>\n",
       "      <th>CUC</th>\n",
       "      <th>CUA</th>\n",
       "      <th>CUG</th>\n",
       "      <th>AUU</th>\n",
       "      <th>AUC</th>\n",
       "      <th>...</th>\n",
       "      <th>CGG</th>\n",
       "      <th>AGA</th>\n",
       "      <th>AGG</th>\n",
       "      <th>GAU</th>\n",
       "      <th>GAC</th>\n",
       "      <th>GAA</th>\n",
       "      <th>GAG</th>\n",
       "      <th>UAA</th>\n",
       "      <th>UAG</th>\n",
       "      <th>UGA</th>\n",
       "    </tr>\n",
       "  </thead>\n",
       "  <tbody>\n",
       "    <tr>\n",
       "      <th>1830</th>\n",
       "      <td>0.02869</td>\n",
       "      <td>0.01967</td>\n",
       "      <td>0.01742</td>\n",
       "      <td>0.01527</td>\n",
       "      <td>0.02859</td>\n",
       "      <td>0.01312</td>\n",
       "      <td>0.01199</td>\n",
       "      <td>0.00932</td>\n",
       "      <td>0.02664</td>\n",
       "      <td>0.01178</td>\n",
       "      <td>...</td>\n",
       "      <td>0.00113</td>\n",
       "      <td>0.01445</td>\n",
       "      <td>0.00451</td>\n",
       "      <td>0.03043</td>\n",
       "      <td>0.02244</td>\n",
       "      <td>0.02613</td>\n",
       "      <td>0.02152</td>\n",
       "      <td>0.00092</td>\n",
       "      <td>0.00000</td>\n",
       "      <td>0.00020</td>\n",
       "    </tr>\n",
       "    <tr>\n",
       "      <th>2592</th>\n",
       "      <td>0.00948</td>\n",
       "      <td>0.02212</td>\n",
       "      <td>0.00316</td>\n",
       "      <td>0.01422</td>\n",
       "      <td>0.00790</td>\n",
       "      <td>0.01106</td>\n",
       "      <td>0.00790</td>\n",
       "      <td>0.02291</td>\n",
       "      <td>0.01106</td>\n",
       "      <td>0.02212</td>\n",
       "      <td>...</td>\n",
       "      <td>0.00316</td>\n",
       "      <td>0.01422</td>\n",
       "      <td>0.00790</td>\n",
       "      <td>0.00711</td>\n",
       "      <td>0.02765</td>\n",
       "      <td>0.01896</td>\n",
       "      <td>0.02291</td>\n",
       "      <td>0.00079</td>\n",
       "      <td>0.00000</td>\n",
       "      <td>0.00000</td>\n",
       "    </tr>\n",
       "    <tr>\n",
       "      <th>1004</th>\n",
       "      <td>0.01659</td>\n",
       "      <td>0.02461</td>\n",
       "      <td>0.01495</td>\n",
       "      <td>0.00981</td>\n",
       "      <td>0.01207</td>\n",
       "      <td>0.01433</td>\n",
       "      <td>0.01130</td>\n",
       "      <td>0.00940</td>\n",
       "      <td>0.01644</td>\n",
       "      <td>0.02250</td>\n",
       "      <td>...</td>\n",
       "      <td>0.00817</td>\n",
       "      <td>0.01521</td>\n",
       "      <td>0.01433</td>\n",
       "      <td>0.02666</td>\n",
       "      <td>0.02214</td>\n",
       "      <td>0.02764</td>\n",
       "      <td>0.01741</td>\n",
       "      <td>0.00319</td>\n",
       "      <td>0.00108</td>\n",
       "      <td>0.00057</td>\n",
       "    </tr>\n",
       "  </tbody>\n",
       "</table>\n",
       "<p>3 rows × 64 columns</p>\n",
       "</div>"
      ],
      "text/plain": [
       "          UUU      UUC      UUA      UUG      CUU      CUC      CUA      CUG  \\\n",
       "1830  0.02869  0.01967  0.01742  0.01527  0.02859  0.01312  0.01199  0.00932   \n",
       "2592  0.00948  0.02212  0.00316  0.01422  0.00790  0.01106  0.00790  0.02291   \n",
       "1004  0.01659  0.02461  0.01495  0.00981  0.01207  0.01433  0.01130  0.00940   \n",
       "\n",
       "          AUU      AUC  ...      CGG      AGA      AGG      GAU      GAC  \\\n",
       "1830  0.02664  0.01178  ...  0.00113  0.01445  0.00451  0.03043  0.02244   \n",
       "2592  0.01106  0.02212  ...  0.00316  0.01422  0.00790  0.00711  0.02765   \n",
       "1004  0.01644  0.02250  ...  0.00817  0.01521  0.01433  0.02666  0.02214   \n",
       "\n",
       "          GAA      GAG      UAA      UAG      UGA  \n",
       "1830  0.02613  0.02152  0.00092  0.00000  0.00020  \n",
       "2592  0.01896  0.02291  0.00079  0.00000  0.00000  \n",
       "1004  0.02764  0.01741  0.00319  0.00108  0.00057  \n",
       "\n",
       "[3 rows x 64 columns]"
      ]
     },
     "execution_count": 134,
     "metadata": {},
     "output_type": "execute_result"
    }
   ],
   "source": [
    "justcodon = codon.drop(\n",
    "    columns=['Kingdom', 'DNAtype', 'SpeciesID', 'Ncodons', 'SpeciesName'], axis=1)\n",
    "justcodon.sample(3)\n"
   ]
  },
  {
   "cell_type": "markdown",
   "metadata": {},
   "source": [
    "- **Separating the non codon into dataframe**"
   ]
  },
  {
   "cell_type": "code",
   "execution_count": 135,
   "metadata": {},
   "outputs": [
    {
     "data": {
      "text/html": [
       "<div>\n",
       "<style scoped>\n",
       "    .dataframe tbody tr th:only-of-type {\n",
       "        vertical-align: middle;\n",
       "    }\n",
       "\n",
       "    .dataframe tbody tr th {\n",
       "        vertical-align: top;\n",
       "    }\n",
       "\n",
       "    .dataframe thead th {\n",
       "        text-align: right;\n",
       "    }\n",
       "</style>\n",
       "<table border=\"1\" class=\"dataframe\">\n",
       "  <thead>\n",
       "    <tr style=\"text-align: right;\">\n",
       "      <th></th>\n",
       "      <th>Kingdom</th>\n",
       "      <th>DNAtype</th>\n",
       "      <th>SpeciesID</th>\n",
       "      <th>Ncodons</th>\n",
       "      <th>SpeciesName</th>\n",
       "    </tr>\n",
       "  </thead>\n",
       "  <tbody>\n",
       "    <tr>\n",
       "      <th>0</th>\n",
       "      <td>virus</td>\n",
       "      <td>0</td>\n",
       "      <td>100217</td>\n",
       "      <td>1995</td>\n",
       "      <td>Epizootic haematopoietic necrosis virus</td>\n",
       "    </tr>\n",
       "    <tr>\n",
       "      <th>1</th>\n",
       "      <td>virus</td>\n",
       "      <td>0</td>\n",
       "      <td>100220</td>\n",
       "      <td>1474</td>\n",
       "      <td>Bohle iridovirus</td>\n",
       "    </tr>\n",
       "    <tr>\n",
       "      <th>2</th>\n",
       "      <td>virus</td>\n",
       "      <td>0</td>\n",
       "      <td>100755</td>\n",
       "      <td>4862</td>\n",
       "      <td>Sweet potato leaf curl virus</td>\n",
       "    </tr>\n",
       "  </tbody>\n",
       "</table>\n",
       "</div>"
      ],
      "text/plain": [
       "  Kingdom  DNAtype  SpeciesID  Ncodons  \\\n",
       "0   virus        0     100217     1995   \n",
       "1   virus        0     100220     1474   \n",
       "2   virus        0     100755     4862   \n",
       "\n",
       "                               SpeciesName  \n",
       "0  Epizootic haematopoietic necrosis virus  \n",
       "1                         Bohle iridovirus  \n",
       "2             Sweet potato leaf curl virus  "
      ]
     },
     "execution_count": 135,
     "metadata": {},
     "output_type": "execute_result"
    }
   ],
   "source": [
    "non_codon = codon.drop(columns=codon.columns[5:], axis=1)\n",
    "non_codon.head(3)\n"
   ]
  },
  {
   "cell_type": "markdown",
   "metadata": {},
   "source": [
    "### Visualising non_codon"
   ]
  },
  {
   "cell_type": "markdown",
   "metadata": {},
   "source": [
    "- What is the distribution of the target classes for Kingdom?\n",
    "\n",
    "- What is the distribution of the target classes for DNAtype?"
   ]
  },
  {
   "cell_type": "markdown",
   "metadata": {},
   "source": [
    "I will not be looking at `SepciesID` or `SpeciesName` as these columns won't have a distribution that offers any noteworthy insights."
   ]
  },
  {
   "cell_type": "code",
   "execution_count": 136,
   "metadata": {},
   "outputs": [
    {
     "data": {
      "image/png": "[encoded data removed]",
      "text/plain": [
       "<Figure size 842.4x595.44 with 1 Axes>"
      ]
     },
     "metadata": {},
     "output_type": "display_data"
    },
    {
     "data": {
      "image/png": "[encoded data removed]",
      "text/plain": [
       "<Figure size 842.4x595.44 with 1 Axes>"
      ]
     },
     "metadata": {},
     "output_type": "display_data"
    },
    {
     "data": {
      "image/png": "[encoded data removed]",
      "text/plain": [
       "<Figure size 842.4x595.44 with 1 Axes>"
      ]
     },
     "metadata": {},
     "output_type": "display_data"
    }
   ],
   "source": [
    "for col in non_codon[['Kingdom', 'DNAtype', 'Ncodons']]:\n",
    "    plt.figure()\n",
    "    plt.title(f'Feature: {col}')\n",
    "    plt.hist(codon[col], bins=20)\n",
    "    plt.show()\n"
   ]
  },
  {
   "cell_type": "markdown",
   "metadata": {},
   "source": [
    "- `Kingdom` shows the counts of the different kingdom, with bacterial and viral being the ones with the most data points in this dataset.\n",
    "- `DNAtype` has 12 unique values, however there only seems to show 0, 1, and 2. I will have to apply a log to this graph to see the counts of the other dna types and they could be muted by the high counts from the top three.\n",
    "- `Ncodons` another distribution that is heavily skewed, I will visualise this one with a log transformation."
   ]
  },
  {
   "cell_type": "code",
   "execution_count": 137,
   "metadata": {},
   "outputs": [
    {
     "data": {
      "text/plain": [
       "bacteria        22.413264\n",
       "virus           21.737796\n",
       "plant           19.365981\n",
       "vertebrate      15.942585\n",
       "invertebrate    10.323918\n",
       "mammal           4.390543\n",
       "phage            1.688671\n",
       "rodent           1.650292\n",
       "primate          1.381640\n",
       "archaea          0.967148\n",
       "plasmid          0.138164\n",
       "Name: Kingdom, dtype: float64"
      ]
     },
     "execution_count": 137,
     "metadata": {},
     "output_type": "execute_result"
    },
    {
     "data": {
      "image/png": "[encoded data removed]",
      "text/plain": [
       "<Figure size 842.4x595.44 with 1 Axes>"
      ]
     },
     "metadata": {},
     "output_type": "display_data"
    }
   ],
   "source": [
    "# Looking at the Kingdom column distribution using log transformation:\n",
    "non_codon['Kingdom'].value_counts().plot(kind='bar', log=True)\n",
    "plt.title('Kingdom Column Distribution')\n",
    "plt.xlabel('Kingdoms')\n",
    "plt.ylabel('Log Counts')\n",
    "\n",
    "# Proportions of the Kingdom counts:\n",
    "non_codon['Kingdom'].value_counts(normalize=True)*100\n"
   ]
  },
  {
   "cell_type": "markdown",
   "metadata": {},
   "source": [
    "The dataset does contain rows for kingdoms beside the top three, however there is a high imbalance here. with some of the classes having less than 5%.\n",
    "I will drop `plm` since it is <2% (18 entries)."
   ]
  },
  {
   "cell_type": "code",
   "execution_count": 138,
   "metadata": {},
   "outputs": [
    {
     "name": "stdout",
     "output_type": "stream",
     "text": [
      "Proportions of DNAtype counts\n"
     ]
    },
    {
     "data": {
      "text/plain": [
       "0     71.131409\n",
       "1     22.252072\n",
       "2      6.263433\n",
       "4      0.237949\n",
       "12     0.038379\n",
       "3      0.015352\n",
       "9      0.015352\n",
       "5      0.015352\n",
       "11     0.015352\n",
       "6      0.007676\n",
       "7      0.007676\n",
       "Name: DNAtype, dtype: float64"
      ]
     },
     "execution_count": 138,
     "metadata": {},
     "output_type": "execute_result"
    },
    {
     "data": {
      "image/png": "[encoded data removed]",
      "text/plain": [
       "<Figure size 842.4x595.44 with 1 Axes>"
      ]
     },
     "metadata": {},
     "output_type": "display_data"
    }
   ],
   "source": [
    "# Looking at DNAtype column distribution with log transformation:\n",
    "non_codon['DNAtype'].value_counts().plot(kind='bar', log=True)\n",
    "plt.title('DNAtype column distribution')\n",
    "plt.xlabel('DNA Type')\n",
    "plt.ylabel('Log Counts')\n",
    "\n",
    "print('Proportions of DNAtype counts')\n",
    "# Proportions of the DNAtype counts:\n",
    "non_codon['DNAtype'].value_counts(normalize=True)*100\n"
   ]
  },
  {
   "cell_type": "markdown",
   "metadata": {},
   "source": [
    "- **Thoughts**:\n",
    "\n",
    "The columns `Kingdoms` and `DNAtype` will be the targets (separately) that I will be aiming to classify. Looking at the distributions, and the imbalances between the classes I will aim to drop some classes and the following is my reasoning.\n",
    "\n",
    "In terms of kingdoms, the Dataset contains the following:\n",
    "- pri: primate\n",
    "- rod: rodent\n",
    "- mam: mammalian\n",
    "- vrt: vertebrate\n",
    "- inv: invertebrate\n",
    "- pln: plant\n",
    "- bct: bacteria\n",
    "- vrl: virus\n",
    "- phg :bacteriophage\n",
    "- arc: archaea\n",
    "- plm: plasmid\n",
    "\n",
    "primate ,rodent, and mammalian can be grouped and renamed under the vertebrate kingdom, because they are vertebrates and are all mammals\n",
    "- vrt = vrt + pri + rod + mam \n",
    "\n",
    "The column will then have the following classes:\n",
    "- vrt: vertebrate\n",
    "- inv: invertebrate\n",
    "- pln: plant\n",
    "- bct: bacteria\n",
    "- vrl: virus\n",
    "- phg :bacteriophage\n",
    "- arc: archaea\n",
    "- plm: plasmid\n",
    "\n",
    "I will further disregard the rows that are class plm, as there are far too little entries (18 only).\n",
    "\n",
    "Final classes will be:\n",
    "\n",
    "- vrt: vertebrate\n",
    "- inv: invertebrate\n",
    "- pln: plant\n",
    "- bct: bacteria\n",
    "- vrl: virus\n",
    "- phg :bacteriophage\n",
    "- arc: archaea\n",
    "\n",
    "Finally I will look at the distribution after these changes.\n",
    "\n",
    "For the column `DNAtype`, it contains the following classes:\n",
    "- 0: nuclear\n",
    "- 1: mitochondrion\n",
    "- 2: chloroplast\n",
    "- 3: cyanelle\n",
    "- 4: plastid\n",
    "- 5: nucleomorph\n",
    "- 6: secondary endosymbiont\n",
    "- 7: chromoplast\n",
    "- 8: leukoplast\n",
    "- 9: NA\n",
    "- 10: proplastid\n",
    "- 11: apicoplast\n",
    "- 12: kinetoplast\n",
    "\n",
    "As seen in the `DNAtype` distribution, there is a high imbalance between these classes. I will focus here on the top three which are 0 (nuclear), 1 (mitochonrion), and 2(chloroplast). These three DNA types that are present in all of the kingdoms in our dataset, so I will go ahead with these as they are representative. I will drop all rows that do not contain 0, 1, or 2, as the are less than 1% of the dataset."
   ]
  },
  {
   "cell_type": "markdown",
   "metadata": {},
   "source": [
    "- **Kingdom Column**"
   ]
  },
  {
   "cell_type": "code",
   "execution_count": 139,
   "metadata": {},
   "outputs": [],
   "source": [
    "# changing the value names as stated above:\n",
    "non_codon = non_codon.replace(['primate', 'rodend', 'mammal'], 'vertebrate')\n",
    "\n",
    "# dropping rows with value plm\n",
    "non_codon = non_codon.drop(\n",
    "    non_codon.loc[non_codon['Kingdom'] == 'plasmid'].index)\n"
   ]
  },
  {
   "cell_type": "code",
   "execution_count": 140,
   "metadata": {},
   "outputs": [
    {
     "data": {
      "text/plain": [
       "Text(0, 0.5, 'Log Counts')"
      ]
     },
     "execution_count": 140,
     "metadata": {},
     "output_type": "execute_result"
    },
    {
     "data": {
      "image/png": "[encoded data removed]",
      "text/plain": [
       "<Figure size 842.4x595.44 with 1 Axes>"
      ]
     },
     "metadata": {},
     "output_type": "display_data"
    }
   ],
   "source": [
    "non_codon['Kingdom'].value_counts().plot(\n",
    "    kind='bar', log=True)  # no log applied\n",
    "plt.title('Kingdom Column Distribution')\n",
    "plt.xlabel('Kingdoms')\n",
    "plt.ylabel('Log Counts')\n"
   ]
  },
  {
   "cell_type": "code",
   "execution_count": 141,
   "metadata": {},
   "outputs": [
    {
     "data": {
      "text/plain": [
       "bacteria        2920\n",
       "virus           2832\n",
       "vertebrate      2829\n",
       "plant           2523\n",
       "invertebrate    1345\n",
       "phage            220\n",
       "rodent           215\n",
       "archaea          126\n",
       "Name: Kingdom, dtype: int64"
      ]
     },
     "execution_count": 141,
     "metadata": {},
     "output_type": "execute_result"
    }
   ],
   "source": [
    "non_codon['Kingdom'].value_counts()\n"
   ]
  },
  {
   "cell_type": "markdown",
   "metadata": {},
   "source": [
    "As there are still imbalances in the data, this makes sense since genome lengths differ between species, so this imbalance is inevitable. For example for archea there are only 209 species, "
   ]
  },
  {
   "cell_type": "markdown",
   "metadata": {},
   "source": [
    "> Note: these changes have currently been made to the dataframe `non_codon` I will now apply these changes to the main dataframe `codon`"
   ]
  },
  {
   "cell_type": "code",
   "execution_count": 142,
   "metadata": {},
   "outputs": [],
   "source": [
    "# changing the value names as stated above:\n",
    "codon = codon.replace(['primate', 'rodent', 'mammal'], 'vertebrate')\n",
    "\n",
    "# dropping rows with value plm\n",
    "codon = codon.drop(codon.loc[codon['Kingdom'] == 'plasmid'].index)\n"
   ]
  },
  {
   "cell_type": "markdown",
   "metadata": {},
   "source": [
    "- **DNAtype Column**"
   ]
  },
  {
   "cell_type": "code",
   "execution_count": 143,
   "metadata": {},
   "outputs": [],
   "source": [
    "# Dropping all rows that do not contain 0, 1, or 2 as DNAtype:\n",
    "non_codon = non_codon.drop(non_codon.loc[non_codon['DNAtype'] > 2].index)\n"
   ]
  },
  {
   "cell_type": "code",
   "execution_count": 144,
   "metadata": {},
   "outputs": [
    {
     "data": {
      "text/plain": [
       "Text(0, 0.5, 'Log Counts')"
      ]
     },
     "execution_count": 144,
     "metadata": {},
     "output_type": "execute_result"
    },
    {
     "data": {
      "image/png": "[encoded data removed]",
      "text/plain": [
       "<Figure size 842.4x595.44 with 1 Axes>"
      ]
     },
     "metadata": {},
     "output_type": "display_data"
    }
   ],
   "source": [
    "# Checking distribution:\n",
    "non_codon['DNAtype'].value_counts().plot(\n",
    "    kind='bar', log=True)  # log transformation not applied\n",
    "plt.title('DNAtype column distribution')\n",
    "plt.xlabel('DNA Type')\n",
    "plt.ylabel('Log Counts')\n"
   ]
  },
  {
   "cell_type": "markdown",
   "metadata": {},
   "source": [
    "The classes are highly imbalanced, but this can be adjusted later on during the modeling section."
   ]
  },
  {
   "cell_type": "markdown",
   "metadata": {},
   "source": [
    "Again, I will apply these changes to the original `codon` dataframe for consistency."
   ]
  },
  {
   "cell_type": "code",
   "execution_count": 145,
   "metadata": {},
   "outputs": [],
   "source": [
    "# Dropping rows in DNAtype with values larger than 2:\n",
    "codon = codon.drop(codon.loc[codon['DNAtype'] > 2].index)\n"
   ]
  },
  {
   "cell_type": "code",
   "execution_count": 146,
   "metadata": {},
   "outputs": [
    {
     "data": {
      "text/plain": [
       "<AxesSubplot:>"
      ]
     },
     "execution_count": 146,
     "metadata": {},
     "output_type": "execute_result"
    },
    {
     "data": {
      "image/png": "[encoded data removed]",
      "text/plain": [
       "<Figure size 842.4x595.44 with 1 Axes>"
      ]
     },
     "metadata": {},
     "output_type": "display_data"
    }
   ],
   "source": [
    "# Checking distribution in codon dataframe:\n",
    "codon['DNAtype'].value_counts().plot(kind='bar')\n"
   ]
  },
  {
   "cell_type": "markdown",
   "metadata": {},
   "source": [
    "- What does the distribution for the Ncodons column look like?"
   ]
  },
  {
   "cell_type": "code",
   "execution_count": 147,
   "metadata": {},
   "outputs": [
    {
     "data": {
      "image/png": "[encoded data removed]",
      "text/plain": [
       "<Figure size 842.4x595.44 with 1 Axes>"
      ]
     },
     "metadata": {},
     "output_type": "display_data"
    },
    {
     "name": "stdout",
     "output_type": "stream",
     "text": [
      "===============================================\n"
     ]
    },
    {
     "data": {
      "text/plain": [
       "0         7.598900\n",
       "1         7.296413\n",
       "2         8.489411\n",
       "3         7.557995\n",
       "4        10.035918\n",
       "           ...    \n",
       "13023     7.001246\n",
       "13024     7.634337\n",
       "13025     7.430707\n",
       "13026    17.520819\n",
       "13027    16.012624\n",
       "Name: Ncodons, Length: 12964, dtype: float64"
      ]
     },
     "execution_count": 147,
     "metadata": {},
     "output_type": "execute_result"
    }
   ],
   "source": [
    "# checking log transformed distribution\n",
    "plt.figure()\n",
    "plt.hist(non_codon['Ncodons'], bins=100)\n",
    "plt.show()\n",
    "\n",
    "print('===============================================')\n",
    "non_codon['Ncodons'] = np.log(non_codon['Ncodons']+1)\n",
    "non_codon['Ncodons']\n"
   ]
  },
  {
   "cell_type": "markdown",
   "metadata": {},
   "source": [
    "`Ncodons` is highly skewed, this is because there are more species with smaller genomes and so smaller number of codons in the sequence."
   ]
  },
  {
   "cell_type": "markdown",
   "metadata": {},
   "source": [
    "Applying the log transformation change to the original dataframe `codon`"
   ]
  },
  {
   "cell_type": "code",
   "execution_count": 148,
   "metadata": {},
   "outputs": [
    {
     "data": {
      "text/plain": [
       "0         7.598900\n",
       "1         7.296413\n",
       "2         8.489411\n",
       "3         7.557995\n",
       "4        10.035918\n",
       "           ...    \n",
       "13023     7.001246\n",
       "13024     7.634337\n",
       "13025     7.430707\n",
       "13026    17.520819\n",
       "13027    16.012624\n",
       "Name: Ncodons, Length: 12964, dtype: float64"
      ]
     },
     "execution_count": 148,
     "metadata": {},
     "output_type": "execute_result"
    }
   ],
   "source": [
    "codon['Ncodons'] = np.log(codon['Ncodons']+1)\n",
    "codon['Ncodons']\n"
   ]
  },
  {
   "cell_type": "markdown",
   "metadata": {},
   "source": [
    "Finally, the dataframe shape after transformation."
   ]
  },
  {
   "cell_type": "code",
   "execution_count": 149,
   "metadata": {},
   "outputs": [
    {
     "name": "stdout",
     "output_type": "stream",
     "text": [
      "The non_codon dataframe contains 12964 rows and 5\n",
      "The codon dataframe contains 12964 rows and 69\n"
     ]
    }
   ],
   "source": [
    "# the dataframe containing only the non_codon columns\n",
    "print(\n",
    "    f'The non_codon dataframe contains {non_codon.shape[0]} rows and {non_codon.shape[1]}')\n",
    "# the original codon dataframe\n",
    "print(\n",
    "    f'The codon dataframe contains {codon.shape[0]} rows and {codon.shape[1]}')\n"
   ]
  },
  {
   "cell_type": "markdown",
   "metadata": {},
   "source": [
    "---"
   ]
  },
  {
   "cell_type": "markdown",
   "metadata": {},
   "source": [
    "### Visualising non_codon"
   ]
  },
  {
   "cell_type": "code",
   "execution_count": 150,
   "metadata": {},
   "outputs": [
    {
     "data": {
      "text/html": [
       "<div>\n",
       "<style scoped>\n",
       "    .dataframe tbody tr th:only-of-type {\n",
       "        vertical-align: middle;\n",
       "    }\n",
       "\n",
       "    .dataframe tbody tr th {\n",
       "        vertical-align: top;\n",
       "    }\n",
       "\n",
       "    .dataframe thead th {\n",
       "        text-align: right;\n",
       "    }\n",
       "</style>\n",
       "<table border=\"1\" class=\"dataframe\">\n",
       "  <thead>\n",
       "    <tr style=\"text-align: right;\">\n",
       "      <th></th>\n",
       "      <th>UUU</th>\n",
       "      <th>UUC</th>\n",
       "      <th>UUA</th>\n",
       "      <th>UUG</th>\n",
       "      <th>CUU</th>\n",
       "      <th>CUC</th>\n",
       "      <th>CUA</th>\n",
       "      <th>CUG</th>\n",
       "      <th>AUU</th>\n",
       "      <th>AUC</th>\n",
       "      <th>...</th>\n",
       "      <th>CGG</th>\n",
       "      <th>AGA</th>\n",
       "      <th>AGG</th>\n",
       "      <th>GAU</th>\n",
       "      <th>GAC</th>\n",
       "      <th>GAA</th>\n",
       "      <th>GAG</th>\n",
       "      <th>UAA</th>\n",
       "      <th>UAG</th>\n",
       "      <th>UGA</th>\n",
       "    </tr>\n",
       "  </thead>\n",
       "  <tbody>\n",
       "    <tr>\n",
       "      <th>count</th>\n",
       "      <td>13028.000000</td>\n",
       "      <td>13028.000000</td>\n",
       "      <td>13028.000000</td>\n",
       "      <td>13028.000000</td>\n",
       "      <td>13028.000000</td>\n",
       "      <td>13028.000000</td>\n",
       "      <td>13028.000000</td>\n",
       "      <td>13028.000000</td>\n",
       "      <td>13028.000000</td>\n",
       "      <td>13028.000000</td>\n",
       "      <td>...</td>\n",
       "      <td>13028.000000</td>\n",
       "      <td>13028.000000</td>\n",
       "      <td>13028.000000</td>\n",
       "      <td>13028.000000</td>\n",
       "      <td>13028.000000</td>\n",
       "      <td>13028.000000</td>\n",
       "      <td>13028.000000</td>\n",
       "      <td>13028.000000</td>\n",
       "      <td>13028.000000</td>\n",
       "      <td>13028.000000</td>\n",
       "    </tr>\n",
       "    <tr>\n",
       "      <th>mean</th>\n",
       "      <td>0.024819</td>\n",
       "      <td>0.023440</td>\n",
       "      <td>0.020635</td>\n",
       "      <td>0.014104</td>\n",
       "      <td>0.017822</td>\n",
       "      <td>0.018286</td>\n",
       "      <td>0.019043</td>\n",
       "      <td>0.018455</td>\n",
       "      <td>0.028354</td>\n",
       "      <td>0.025036</td>\n",
       "      <td>...</td>\n",
       "      <td>0.005452</td>\n",
       "      <td>0.009929</td>\n",
       "      <td>0.006422</td>\n",
       "      <td>0.024183</td>\n",
       "      <td>0.021164</td>\n",
       "      <td>0.028292</td>\n",
       "      <td>0.021683</td>\n",
       "      <td>0.001640</td>\n",
       "      <td>0.000590</td>\n",
       "      <td>0.006178</td>\n",
       "    </tr>\n",
       "    <tr>\n",
       "      <th>std</th>\n",
       "      <td>0.017627</td>\n",
       "      <td>0.011597</td>\n",
       "      <td>0.020709</td>\n",
       "      <td>0.009279</td>\n",
       "      <td>0.010587</td>\n",
       "      <td>0.014572</td>\n",
       "      <td>0.024251</td>\n",
       "      <td>0.016583</td>\n",
       "      <td>0.017505</td>\n",
       "      <td>0.014595</td>\n",
       "      <td>...</td>\n",
       "      <td>0.006601</td>\n",
       "      <td>0.008574</td>\n",
       "      <td>0.006387</td>\n",
       "      <td>0.013826</td>\n",
       "      <td>0.013038</td>\n",
       "      <td>0.014343</td>\n",
       "      <td>0.015018</td>\n",
       "      <td>0.001785</td>\n",
       "      <td>0.000882</td>\n",
       "      <td>0.010344</td>\n",
       "    </tr>\n",
       "    <tr>\n",
       "      <th>min</th>\n",
       "      <td>0.000000</td>\n",
       "      <td>0.000000</td>\n",
       "      <td>0.000000</td>\n",
       "      <td>0.000000</td>\n",
       "      <td>0.000000</td>\n",
       "      <td>0.000000</td>\n",
       "      <td>0.000000</td>\n",
       "      <td>0.000000</td>\n",
       "      <td>0.000000</td>\n",
       "      <td>0.000000</td>\n",
       "      <td>...</td>\n",
       "      <td>0.000000</td>\n",
       "      <td>0.000000</td>\n",
       "      <td>0.000000</td>\n",
       "      <td>0.000000</td>\n",
       "      <td>0.000000</td>\n",
       "      <td>0.000000</td>\n",
       "      <td>0.000000</td>\n",
       "      <td>0.000000</td>\n",
       "      <td>0.000000</td>\n",
       "      <td>0.000000</td>\n",
       "    </tr>\n",
       "    <tr>\n",
       "      <th>25%</th>\n",
       "      <td>0.013910</td>\n",
       "      <td>0.015380</td>\n",
       "      <td>0.005610</td>\n",
       "      <td>0.007108</td>\n",
       "      <td>0.010890</td>\n",
       "      <td>0.007830</td>\n",
       "      <td>0.005300</td>\n",
       "      <td>0.007180</td>\n",
       "      <td>0.016370</td>\n",
       "      <td>0.015130</td>\n",
       "      <td>...</td>\n",
       "      <td>0.001220</td>\n",
       "      <td>0.001690</td>\n",
       "      <td>0.001168</td>\n",
       "      <td>0.012390</td>\n",
       "      <td>0.011860</td>\n",
       "      <td>0.017360</td>\n",
       "      <td>0.009710</td>\n",
       "      <td>0.000560</td>\n",
       "      <td>0.000000</td>\n",
       "      <td>0.000410</td>\n",
       "    </tr>\n",
       "    <tr>\n",
       "      <th>50%</th>\n",
       "      <td>0.021750</td>\n",
       "      <td>0.021905</td>\n",
       "      <td>0.015260</td>\n",
       "      <td>0.013360</td>\n",
       "      <td>0.016130</td>\n",
       "      <td>0.014560</td>\n",
       "      <td>0.009680</td>\n",
       "      <td>0.012800</td>\n",
       "      <td>0.025480</td>\n",
       "      <td>0.021540</td>\n",
       "      <td>...</td>\n",
       "      <td>0.003530</td>\n",
       "      <td>0.009270</td>\n",
       "      <td>0.004540</td>\n",
       "      <td>0.025435</td>\n",
       "      <td>0.019070</td>\n",
       "      <td>0.026085</td>\n",
       "      <td>0.020540</td>\n",
       "      <td>0.001380</td>\n",
       "      <td>0.000420</td>\n",
       "      <td>0.001130</td>\n",
       "    </tr>\n",
       "    <tr>\n",
       "      <th>75%</th>\n",
       "      <td>0.031310</td>\n",
       "      <td>0.029210</td>\n",
       "      <td>0.029485</td>\n",
       "      <td>0.019803</td>\n",
       "      <td>0.022730</td>\n",
       "      <td>0.025110</td>\n",
       "      <td>0.017245</td>\n",
       "      <td>0.024330</td>\n",
       "      <td>0.038113</td>\n",
       "      <td>0.031860</td>\n",
       "      <td>...</td>\n",
       "      <td>0.007150</td>\n",
       "      <td>0.015922</td>\n",
       "      <td>0.010250</td>\n",
       "      <td>0.034190</td>\n",
       "      <td>0.027690</td>\n",
       "      <td>0.036800</td>\n",
       "      <td>0.031122</td>\n",
       "      <td>0.002370</td>\n",
       "      <td>0.000830</td>\n",
       "      <td>0.002890</td>\n",
       "    </tr>\n",
       "    <tr>\n",
       "      <th>max</th>\n",
       "      <td>0.217300</td>\n",
       "      <td>0.091690</td>\n",
       "      <td>0.151330</td>\n",
       "      <td>0.101190</td>\n",
       "      <td>0.089780</td>\n",
       "      <td>0.100350</td>\n",
       "      <td>0.163920</td>\n",
       "      <td>0.107370</td>\n",
       "      <td>0.154060</td>\n",
       "      <td>0.088600</td>\n",
       "      <td>...</td>\n",
       "      <td>0.055540</td>\n",
       "      <td>0.098830</td>\n",
       "      <td>0.058430</td>\n",
       "      <td>0.185660</td>\n",
       "      <td>0.113840</td>\n",
       "      <td>0.144890</td>\n",
       "      <td>0.158550</td>\n",
       "      <td>0.045200</td>\n",
       "      <td>0.025610</td>\n",
       "      <td>0.106700</td>\n",
       "    </tr>\n",
       "  </tbody>\n",
       "</table>\n",
       "<p>8 rows × 64 columns</p>\n",
       "</div>"
      ],
      "text/plain": [
       "                UUU           UUC           UUA           UUG           CUU  \\\n",
       "count  13028.000000  13028.000000  13028.000000  13028.000000  13028.000000   \n",
       "mean       0.024819      0.023440      0.020635      0.014104      0.017822   \n",
       "std        0.017627      0.011597      0.020709      0.009279      0.010587   \n",
       "min        0.000000      0.000000      0.000000      0.000000      0.000000   \n",
       "25%        0.013910      0.015380      0.005610      0.007108      0.010890   \n",
       "50%        0.021750      0.021905      0.015260      0.013360      0.016130   \n",
       "75%        0.031310      0.029210      0.029485      0.019803      0.022730   \n",
       "max        0.217300      0.091690      0.151330      0.101190      0.089780   \n",
       "\n",
       "                CUC           CUA           CUG           AUU           AUC  \\\n",
       "count  13028.000000  13028.000000  13028.000000  13028.000000  13028.000000   \n",
       "mean       0.018286      0.019043      0.018455      0.028354      0.025036   \n",
       "std        0.014572      0.024251      0.016583      0.017505      0.014595   \n",
       "min        0.000000      0.000000      0.000000      0.000000      0.000000   \n",
       "25%        0.007830      0.005300      0.007180      0.016370      0.015130   \n",
       "50%        0.014560      0.009680      0.012800      0.025480      0.021540   \n",
       "75%        0.025110      0.017245      0.024330      0.038113      0.031860   \n",
       "max        0.100350      0.163920      0.107370      0.154060      0.088600   \n",
       "\n",
       "       ...           CGG           AGA           AGG           GAU  \\\n",
       "count  ...  13028.000000  13028.000000  13028.000000  13028.000000   \n",
       "mean   ...      0.005452      0.009929      0.006422      0.024183   \n",
       "std    ...      0.006601      0.008574      0.006387      0.013826   \n",
       "min    ...      0.000000      0.000000      0.000000      0.000000   \n",
       "25%    ...      0.001220      0.001690      0.001168      0.012390   \n",
       "50%    ...      0.003530      0.009270      0.004540      0.025435   \n",
       "75%    ...      0.007150      0.015922      0.010250      0.034190   \n",
       "max    ...      0.055540      0.098830      0.058430      0.185660   \n",
       "\n",
       "                GAC           GAA           GAG           UAA           UAG  \\\n",
       "count  13028.000000  13028.000000  13028.000000  13028.000000  13028.000000   \n",
       "mean       0.021164      0.028292      0.021683      0.001640      0.000590   \n",
       "std        0.013038      0.014343      0.015018      0.001785      0.000882   \n",
       "min        0.000000      0.000000      0.000000      0.000000      0.000000   \n",
       "25%        0.011860      0.017360      0.009710      0.000560      0.000000   \n",
       "50%        0.019070      0.026085      0.020540      0.001380      0.000420   \n",
       "75%        0.027690      0.036800      0.031122      0.002370      0.000830   \n",
       "max        0.113840      0.144890      0.158550      0.045200      0.025610   \n",
       "\n",
       "                UGA  \n",
       "count  13028.000000  \n",
       "mean       0.006178  \n",
       "std        0.010344  \n",
       "min        0.000000  \n",
       "25%        0.000410  \n",
       "50%        0.001130  \n",
       "75%        0.002890  \n",
       "max        0.106700  \n",
       "\n",
       "[8 rows x 64 columns]"
      ]
     },
     "execution_count": 150,
     "metadata": {},
     "output_type": "execute_result"
    }
   ],
   "source": [
    "justcodon.describe()\n"
   ]
  },
  {
   "cell_type": "markdown",
   "metadata": {},
   "source": [
    "The `justcodon` dataframe created from the original `codon` dataframe contains all the codon columns which are 64 columns in total, each column representing one of the 64 codons.\n",
    "\n",
    "The values in these columns are frequencies of the codon occurrence in each organism's genome (from nuclear, mitochondrial, or chloroplast RNA)\n",
    "\n",
    "The frequencies are caculated by taking a count of the total number of codons in the sequenced genome, counting the individual codon occurance, and then dividing this number by the total number of codons.\n",
    "\n",
    "for example :\n",
    "for `Enterobacteria phage P1`, the total number of codons is 71879, and the number of UGU occurances is 362, so the codon frequency is 0.00503."
   ]
  },
  {
   "cell_type": "markdown",
   "metadata": {},
   "source": [
    "- #### Codon columns distributions:"
   ]
  },
  {
   "cell_type": "code",
   "execution_count": 151,
   "metadata": {},
   "outputs": [
    {
     "data": {
      "image/png": "[encoded data removed]",
      "text/plain": [
       "<Figure size 2160x720 with 1 Axes>"
      ]
     },
     "metadata": {},
     "output_type": "display_data"
    }
   ],
   "source": [
    "plt.figure(figsize=(30, 10))\n",
    "sns.boxplot(data=justcodon, palette='Blues')\n",
    "plt.title('Codon Distributions')\n",
    "plt.axhline(y=justcodon.median().mean(), color='r')\n",
    "plt.xlabel('Codons')\n",
    "plt.show()\n"
   ]
  },
  {
   "cell_type": "markdown",
   "metadata": {},
   "source": [
    "**A few observations**\n",
    "- The stop codons `UAA`, `UAG` `UGA` have the lowest occurance, this makes sense since stop codons are what tells the translation machinery when to stop translation, so they will not be as frequent in the RNA/DNA sequence as the rest of the codons.\n",
    "\n",
    "- The start codon `AUG` occurance is quite similar accross all species as the distribution is tending towards the median.\n",
    "\n",
    "    - `UUU` `UUC`:\n",
    "- These codons encode for the amino acid Phenylalanine. As this amino acid only has two codons that can encode for it, the distributions have a similar median, but `UUU` has slightly more recorded occurances among the different species.\n",
    "\n",
    "    - `AUU` `AUC` `AUA`:\n",
    "- These three codons encode for the amino acid Isoleucine. From the distributions `AUU` and `AUC` has higher occurances in the species. So they tend to be the ones found most among species to encode for the amino acid, with `AUU` having a higher median so it is even more favoured over `AUC`.\n",
    "\n",
    "    - `ACU` `ACC` `ACA` `ACG`\n",
    "- These encode for the amino acid Theronine. The distributions show that `ACC` and `ACA` have a wider range of occurances among the species while `ACU` codon appears to be the higher occuring one for this amino acid.\n",
    "\n",
    "    - `CAA` `CAG`\n",
    "- These codons encode for the amino acid Glutamine. From the distributions it is apparent that `CAA` is more frequent in its occurance among species.\n",
    "\n",
    "    - `AAU` `AAC`\n",
    "- These codons encode for the amino acid Asparagine. Seeing that this amino acid only has two type of codons that can encode it, the distributions show a similar median for both however `AAC` tends to be favoured.\n",
    "\n",
    "These frequencies are highly dependent on the size of the sequence, DNA length that was sequenced. Therefore, it is important to view their distributions in relation to either DNA type or Kingdom."
   ]
  },
  {
   "cell_type": "markdown",
   "metadata": {},
   "source": [
    "--- "
   ]
  },
  {
   "cell_type": "markdown",
   "metadata": {},
   "source": [
    "## Bivariate Analysis"
   ]
  },
  {
   "cell_type": "markdown",
   "metadata": {},
   "source": [
    "### Kingdom classes:"
   ]
  },
  {
   "cell_type": "markdown",
   "metadata": {},
   "source": [
    "- Are there codons that have a higher occurence in certain Kingdoms?"
   ]
  },
  {
   "cell_type": "code",
   "execution_count": 152,
   "metadata": {},
   "outputs": [],
   "source": [
    "clustergraph_kingdom = codon.drop(\n",
    "    columns=['DNAtype', 'SpeciesID', 'Ncodons', 'SpeciesName'], axis=1)\n",
    "clustergraph_kingdom.set_index('Kingdom', inplace=True)\n"
   ]
  },
  {
   "cell_type": "code",
   "execution_count": 153,
   "metadata": {},
   "outputs": [
    {
     "data": {
      "application/vnd.plotly.v1+json": {
       "config": {
        "plotlyServerURL": "https://plot.ly"
       },
       "data": [
        {
         "coloraxis": "coloraxis",
         "hovertemplate": "x: %{x}<br>Kingdom: %{y}<br>color: %{z}<extra></extra>",
         "type": "heatmap",
         "x": [
          "UUU",
          "UUC",
          "UUA",
          "UUG",
          "CUU",
          "CUC",
          "CUA",
          "CUG",
          "AUU",
          "AUC",
          "AUA",
          "AUG",
          "GUU",
          "GUC",
          "GUA",
          "GUG",
          "GCU",
          "GCC",
          "GCA",
          "GCG",
          "CCU",
          "CCC",
          "CCA",
          "CCG",
          "UGG",
          "GGU",
          "GGC",
          "GGA",
          "GGG",
          "UCU",
          "UCC",
          "UCA",
          "UCG",
          "AGU",
          "AGC",
          "ACU",
          "ACC",
          "ACA",
          "ACG",
          "UAU",
          "UAC",
          "CAA",
          "CAG",
          "AAU",
          "AAC",
          "UGU",
          "UGC",
          "CAU",
          "CAC",
          "AAA",
          "AAG",
          "CGU",
          "CGC",
          "CGA",
          "CGG",
          "AGA",
          "AGG",
          "GAU",
          "GAC",
          "GAA",
          "GAG",
          "UAA",
          "UAG",
          "UGA"
         ],
         "y": [
          "archaea",
          "bacteria",
          "invertebrate",
          "phage",
          "plant",
          "vertebrate",
          "virus"
         ],
         "z": [
          [
           0.018051666666666664,
           0.021663730158730157,
           0.017770714285714286,
           0.01020857142857143,
           0.01725865079365079,
           0.02202936507936508,
           0.010441984126984128,
           0.015421666666666667,
           0.02276126984126984,
           0.020531190476190477,
           0.031218571428571425,
           0.022898174603174604,
           0.02284206349206349,
           0.020643015873015876,
           0.017072380952380953,
           0.01742857142857143,
           0.016431428571428573,
           0.02203888888888889,
           0.021166825396825396,
           0.015449126984126985,
           0.009577222222222223,
           0.009977936507936509,
           0.011866587301587302,
           0.011555079365079365,
           0.011536349206349206,
           0.016617698412698414,
           0.02112404761904762,
           0.021086746031746033,
           0.013554603174603176,
           0.009002539682539683,
           0.008494365079365079,
           0.011482222222222222,
           0.007492460317460318,
           0.008801428571428573,
           0.011985317460317462,
           0.01236484126984127,
           0.013901507936507936,
           0.014101428571428572,
           0.01164111111111111,
           0.019254761904761903,
           0.02198325396825397,
           0.010221984126984128,
           0.014869285714285713,
           0.019044603174603176,
           0.020882142857142856,
           0.004536111111111111,
           0.004079761904761905,
           0.006517063492063492,
           0.009413095238095238,
           0.031351587301587304,
           0.03207460317460318,
           0.003812222222222222,
           0.006751984126984127,
           0.0027017460317460317,
           0.005162460317460317,
           0.01529388888888889,
           0.017432936507936505,
           0.02591063492063492,
           0.029823253968253968,
           0.035891349206349205,
           0.04000928571428571,
           0.001465,
           0.0005767460317460317,
           0.001449047619047619
          ],
          [
           0.019038961617546264,
           0.019357344071281698,
           0.016817803289924608,
           0.013298149417409186,
           0.012365959561343384,
           0.015908992460589445,
           0.0059220287868403014,
           0.029903947909527075,
           0.02355923577793009,
           0.0252665627141878,
           0.009628673749143248,
           0.022592230980123373,
           0.016921634681288555,
           0.01961801576422207,
           0.011791230294722413,
           0.022085263879369432,
           0.017919852638793695,
           0.03167145305003427,
           0.018255681973954763,
           0.025574084989718984,
           0.008855651130911583,
           0.010164592186429061,
           0.008703026045236463,
           0.016813851953392734,
           0.0131251576422207,
           0.020095472926662097,
           0.030910407813570937,
           0.013378649760109664,
           0.01115267306374229,
           0.009550897875257026,
           0.009784071281699794,
           0.009322700479780672,
           0.010511117203564084,
           0.009064527073337903,
           0.01291226525017135,
           0.011359054146675804,
           0.02038705277587389,
           0.012182803289924606,
           0.013011339958875942,
           0.016777148732008224,
           0.01437582590815627,
           0.01719189170664839,
           0.01981642220699109,
           0.02190335846470185,
           0.019901655243317343,
           0.003944191226867718,
           0.0055314496230294725,
           0.01004264222069911,
           0.01098949965729952,
           0.03136567169294037,
           0.02196944825222755,
           0.010911463331048664,
           0.01948081220013708,
           0.004489259766963674,
           0.010224869773817683,
           0.006725150788211103,
           0.003565373543522961,
           0.029116048663468126,
           0.028007326936257713,
           0.035044773817683346,
           0.02652802604523646,
           0.0013895956134338586,
           0.0005364324880054832,
           0.001389664153529815
          ],
          [
           0.03591687406296852,
           0.02144575712143928,
           0.0318046251874063,
           0.01794766116941529,
           0.015642541229385305,
           0.01171607196401799,
           0.010098313343328336,
           0.014644032983508245,
           0.03609811844077961,
           0.01953326836581709,
           0.02244287856071964,
           0.02208623688155922,
           0.021557691154422787,
           0.013464362818590704,
           0.01420195652173913,
           0.016033088455772115,
           0.022113733133433282,
           0.01783478260869565,
           0.016269287856071964,
           0.008214940029985006,
           0.013521109445277362,
           0.009314422788605697,
           0.014610134932533735,
           0.006522376311844078,
           0.010525119940029984,
           0.019986649175412294,
           0.014629992503748126,
           0.022215877061469266,
           0.009035014992503747,
           0.017393995502248873,
           0.010981049475262367,
           0.015075329835082458,
           0.007139452773613194,
           0.011319685157421289,
           0.009760322338830585,
           0.016752331334332835,
           0.013626244377811092,
           0.016446896551724138,
           0.007368838080959521,
           0.020435232383808098,
           0.016600652173913044,
           0.017575067466266865,
           0.014457826086956524,
           0.026312863568215893,
           0.020760487256371814,
           0.010020697151424287,
           0.008849422788605697,
           0.012218695652173914,
           0.01042754872563718,
           0.02874418290854573,
           0.026658523238380808,
           0.008492016491754123,
           0.00690204647676162,
           0.006591019490254872,
           0.003418605697151424,
           0.013868590704647675,
           0.006620307346326837,
           0.025221424287856075,
           0.019571686656671666,
           0.029113913043478264,
           0.022121514242878563,
           0.002462368815592204,
           0.0007545652173913044,
           0.006509955022488755
          ],
          [
           0.021864272727272725,
           0.017826318181818183,
           0.015025318181818181,
           0.011820363636363638,
           0.018365136363636365,
           0.01037140909090909,
           0.006914454545454546,
           0.020969954545454545,
           0.028903681818181818,
           0.0188015,
           0.009396045454545456,
           0.027300454545454544,
           0.025069727272727275,
           0.011452681818181818,
           0.012827727272727272,
           0.014306727272727271,
           0.02886940909090909,
           0.018575909090909087,
           0.020315545454545458,
           0.015945818181818183,
           0.013878954545454547,
           0.0053110909090909085,
           0.009020636363636364,
           0.01249768181818182,
           0.014509045454545455,
           0.027502045454545453,
           0.018359454545454547,
           0.013064818181818183,
           0.008310954545454547,
           0.018090318181818183,
           0.008659045454545454,
           0.01320159090909091,
           0.007521272727272727,
           0.009913545454545454,
           0.010523272727272727,
           0.01922440909090909,
           0.016187772727272728,
           0.01384559090909091,
           0.010488181818181818,
           0.021218818181818182,
           0.013622590909090909,
           0.017855772727272727,
           0.0220885,
           0.026574454545454543,
           0.022177818181818184,
           0.005693090909090909,
           0.005565090909090909,
           0.010863954545454546,
           0.007807681818181818,
           0.03843822727272727,
           0.023908545454545453,
           0.01826659090909091,
           0.016157181818181817,
           0.006006772727272728,
           0.005159318181818182,
           0.007524090909090909,
           0.004152363636363636,
           0.03379709090909091,
           0.024568363636363635,
           0.03461254545454546,
           0.024192954545454545,
           0.002401636363636364,
           0.0003165454545454546,
           0.0019963636363636364
          ],
          [
           0.029043971887550202,
           0.023272763052208836,
           0.021609048192771086,
           0.019632871485943774,
           0.02054310843373494,
           0.01457695983935743,
           0.01027312048192771,
           0.012492714859437752,
           0.02961709236947791,
           0.0201514297188755,
           0.014630987951807228,
           0.022750638554216867,
           0.020504911646586344,
           0.014433156626506025,
           0.012460646586345383,
           0.01461863453815261,
           0.025027815261044178,
           0.017283510040160644,
           0.015870550200803215,
           0.009390767068273092,
           0.015154710843373494,
           0.009896590361445783,
           0.013733072289156626,
           0.007359546184738956,
           0.014317008032128513,
           0.021729883534136546,
           0.01549975502008032,
           0.019130670682730923,
           0.010494899598393575,
           0.021027373493975904,
           0.013429132530120484,
           0.014904666666666667,
           0.0087030281124498,
           0.011995835341365462,
           0.009643441767068274,
           0.01793114859437751,
           0.014084224899598392,
           0.012109301204819277,
           0.0071330160642570275,
           0.02256462248995984,
           0.01493274297188755,
           0.021283506024096385,
           0.015291200803212853,
           0.026292646586345378,
           0.01985109236947791,
           0.008117666666666667,
           0.007356835341365462,
           0.015979995983935746,
           0.009878413654618473,
           0.0292941124497992,
           0.026994755020080318,
           0.009910923694779116,
           0.0073299799196787155,
           0.008503698795180722,
           0.004639413654618473,
           0.012602574297188756,
           0.007512068273092369,
           0.028996506024096386,
           0.01877683935742972,
           0.029775453815261043,
           0.024610951807228915,
           0.0012200763052208836,
           0.0005936184738955824,
           0.0012260763052208835
          ],
          [
           0.02304284494086728,
           0.033569990144546646,
           0.02298957950065703,
           0.006243912614980289,
           0.024570640604467807,
           0.03200783508541393,
           0.05171411957950065,
           0.01745149802890933,
           0.03404909658344284,
           0.039961547306176085,
           0.028838212877792375,
           0.014772933639947437,
           0.011167585413929041,
           0.013426967805519054,
           0.01632273653088042,
           0.010501652431011827,
           0.016157667542706963,
           0.03172177726675427,
           0.023680446780551905,
           0.003486471747700394,
           0.012498160315374509,
           0.019645532194480946,
           0.02309911629434954,
           0.0031173784494086727,
           0.005824467805519053,
           0.009037138633377136,
           0.01831218791064389,
           0.02211899474375821,
           0.009371941524310118,
           0.011898646517739815,
           0.01917709921156373,
           0.02119259855453351,
           0.002506803547963206,
           0.004667943495400789,
           0.011510453350854141,
           0.015403130749014454,
           0.029508051905387647,
           0.03144793363994743,
           0.0036002496714848883,
           0.012223978318002628,
           0.01852716819973719,
           0.01911004599211564,
           0.009157519710906701,
           0.013131869250985546,
           0.026605177398160314,
           0.004538524967148488,
           0.007885473061760842,
           0.00766369579500657,
           0.017008101182654403,
           0.022326353482260187,
           0.009586731274638634,
           0.002854566360052562,
           0.004890811432325887,
           0.009252598554533508,
           0.0026889487516425755,
           0.002972473718791064,
           0.0027861070959264126,
           0.008951481603153745,
           0.015564067017082786,
           0.018459204993429696,
           0.011062913929040737,
           0.0021833344283837056,
           0.000620604467805519,
           0.0203313173455979
          ],
          [
           0.023782401129943502,
           0.018451242937853107,
           0.016106977401129943,
           0.01697128884180791,
           0.014806267655367232,
           0.013026391242937854,
           0.01087455861581921,
           0.014754996468926553,
           0.02242477048022599,
           0.016472831920903954,
           0.01717884533898305,
           0.02406234463276836,
           0.020150063559322032,
           0.014066620762711864,
           0.013246062853107345,
           0.019022129237288136,
           0.020043506355932203,
           0.016373686440677965,
           0.018914233757062145,
           0.009422927259887005,
           0.015537439971751412,
           0.012498248587570622,
           0.017980035310734464,
           0.007683820621468927,
           0.014169774011299435,
           0.01691968573446328,
           0.012947736581920905,
           0.01763932556497175,
           0.011964957627118643,
           0.016055526129943504,
           0.011990593220338984,
           0.016349286723163842,
           0.00734534604519774,
           0.012706034604519776,
           0.010705766242937852,
           0.01917866525423729,
           0.0154778354519774,
           0.021176956214689267,
           0.009324177259887005,
           0.02060978813559322,
           0.01642513418079096,
           0.021554544491525423,
           0.018040427259887006,
           0.027782884887005647,
           0.02177277895480226,
           0.011894809322033899,
           0.009406034604519773,
           0.013238379237288135,
           0.011612814265536724,
           0.030089438559322033,
           0.026093831214689264,
           0.007959516242937854,
           0.007608350988700565,
           0.006117436440677967,
           0.00516170197740113,
           0.016399678672316384,
           0.011948852401129943,
           0.029797249293785313,
           0.022485515536723163,
           0.029235939265536727,
           0.024423177966101692,
           0.0012447881355932204,
           0.0005589194915254237,
           0.0007353778248587571
          ]
         ]
        }
       ],
       "layout": {
        "coloraxis": {
         "colorscale": [
          [
           0,
           "#00224e"
          ],
          [
           0.1111111111111111,
           "#123570"
          ],
          [
           0.2222222222222222,
           "#3b496c"
          ],
          [
           0.3333333333333333,
           "#575d6d"
          ],
          [
           0.4444444444444444,
           "#707173"
          ],
          [
           0.5555555555555556,
           "#8a8678"
          ],
          [
           0.6666666666666666,
           "#a59c74"
          ],
          [
           0.7777777777777778,
           "#c3b369"
          ],
          [
           0.8888888888888888,
           "#e1cc55"
          ],
          [
           1,
           "#fee838"
          ]
         ]
        },
        "margin": {
         "t": 60
        },
        "template": {
         "data": {
          "bar": [
           {
            "error_x": {
             "color": "#2a3f5f"
            },
            "error_y": {
             "color": "#2a3f5f"
            },
            "marker": {
             "line": {
              "color": "#E5ECF6",
              "width": 0.5
             }
            },
            "type": "bar"
           }
          ],
          "barpolar": [
           {
            "marker": {
             "line": {
              "color": "#E5ECF6",
              "width": 0.5
             }
            },
            "type": "barpolar"
           }
          ],
          "carpet": [
           {
            "aaxis": {
             "endlinecolor": "#2a3f5f",
             "gridcolor": "white",
             "linecolor": "white",
             "minorgridcolor": "white",
             "startlinecolor": "#2a3f5f"
            },
            "baxis": {
             "endlinecolor": "#2a3f5f",
             "gridcolor": "white",
             "linecolor": "white",
             "minorgridcolor": "white",
             "startlinecolor": "#2a3f5f"
            },
            "type": "carpet"
           }
          ],
          "choropleth": [
           {
            "colorbar": {
             "outlinewidth": 0,
             "ticks": ""
            },
            "type": "choropleth"
           }
          ],
          "contour": [
           {
            "colorbar": {
             "outlinewidth": 0,
             "ticks": ""
            },
            "colorscale": [
             [
              0,
              "#0d0887"
             ],
             [
              0.1111111111111111,
              "#46039f"
             ],
             [
              0.2222222222222222,
              "#7201a8"
             ],
             [
              0.3333333333333333,
              "#9c179e"
             ],
             [
              0.4444444444444444,
              "#bd3786"
             ],
             [
              0.5555555555555556,
              "#d8576b"
             ],
             [
              0.6666666666666666,
              "#ed7953"
             ],
             [
              0.7777777777777778,
              "#fb9f3a"
             ],
             [
              0.8888888888888888,
              "#fdca26"
             ],
             [
              1,
              "#f0f921"
             ]
            ],
            "type": "contour"
           }
          ],
          "contourcarpet": [
           {
            "colorbar": {
             "outlinewidth": 0,
             "ticks": ""
            },
            "type": "contourcarpet"
           }
          ],
          "heatmap": [
           {
            "colorbar": {
             "outlinewidth": 0,
             "ticks": ""
            },
            "colorscale": [
             [
              0,
              "#0d0887"
             ],
             [
              0.1111111111111111,
              "#46039f"
             ],
             [
              0.2222222222222222,
              "#7201a8"
             ],
             [
              0.3333333333333333,
              "#9c179e"
             ],
             [
              0.4444444444444444,
              "#bd3786"
             ],
             [
              0.5555555555555556,
              "#d8576b"
             ],
             [
              0.6666666666666666,
              "#ed7953"
             ],
             [
              0.7777777777777778,
              "#fb9f3a"
             ],
             [
              0.8888888888888888,
              "#fdca26"
             ],
             [
              1,
              "#f0f921"
             ]
            ],
            "type": "heatmap"
           }
          ],
          "heatmapgl": [
           {
            "colorbar": {
             "outlinewidth": 0,
             "ticks": ""
            },
            "colorscale": [
             [
              0,
              "#0d0887"
             ],
             [
              0.1111111111111111,
              "#46039f"
             ],
             [
              0.2222222222222222,
              "#7201a8"
             ],
             [
              0.3333333333333333,
              "#9c179e"
             ],
             [
              0.4444444444444444,
              "#bd3786"
             ],
             [
              0.5555555555555556,
              "#d8576b"
             ],
             [
              0.6666666666666666,
              "#ed7953"
             ],
             [
              0.7777777777777778,
              "#fb9f3a"
             ],
             [
              0.8888888888888888,
              "#fdca26"
             ],
             [
              1,
              "#f0f921"
             ]
            ],
            "type": "heatmapgl"
           }
          ],
          "histogram": [
           {
            "marker": {
             "colorbar": {
              "outlinewidth": 0,
              "ticks": ""
             }
            },
            "type": "histogram"
           }
          ],
          "histogram2d": [
           {
            "colorbar": {
             "outlinewidth": 0,
             "ticks": ""
            },
            "colorscale": [
             [
              0,
              "#0d0887"
             ],
             [
              0.1111111111111111,
              "#46039f"
             ],
             [
              0.2222222222222222,
              "#7201a8"
             ],
             [
              0.3333333333333333,
              "#9c179e"
             ],
             [
              0.4444444444444444,
              "#bd3786"
             ],
             [
              0.5555555555555556,
              "#d8576b"
             ],
             [
              0.6666666666666666,
              "#ed7953"
             ],
             [
              0.7777777777777778,
              "#fb9f3a"
             ],
             [
              0.8888888888888888,
              "#fdca26"
             ],
             [
              1,
              "#f0f921"
             ]
            ],
            "type": "histogram2d"
           }
          ],
          "histogram2dcontour": [
           {
            "colorbar": {
             "outlinewidth": 0,
             "ticks": ""
            },
            "colorscale": [
             [
              0,
              "#0d0887"
             ],
             [
              0.1111111111111111,
              "#46039f"
             ],
             [
              0.2222222222222222,
              "#7201a8"
             ],
             [
              0.3333333333333333,
              "#9c179e"
             ],
             [
              0.4444444444444444,
              "#bd3786"
             ],
             [
              0.5555555555555556,
              "#d8576b"
             ],
             [
              0.6666666666666666,
              "#ed7953"
             ],
             [
              0.7777777777777778,
              "#fb9f3a"
             ],
             [
              0.8888888888888888,
              "#fdca26"
             ],
             [
              1,
              "#f0f921"
             ]
            ],
            "type": "histogram2dcontour"
           }
          ],
          "mesh3d": [
           {
            "colorbar": {
             "outlinewidth": 0,
             "ticks": ""
            },
            "type": "mesh3d"
           }
          ],
          "parcoords": [
           {
            "line": {
             "colorbar": {
              "outlinewidth": 0,
              "ticks": ""
             }
            },
            "type": "parcoords"
           }
          ],
          "pie": [
           {
            "automargin": true,
            "type": "pie"
           }
          ],
          "scatter": [
           {
            "marker": {
             "colorbar": {
              "outlinewidth": 0,
              "ticks": ""
             }
            },
            "type": "scatter"
           }
          ],
          "scatter3d": [
           {
            "line": {
             "colorbar": {
              "outlinewidth": 0,
              "ticks": ""
             }
            },
            "marker": {
             "colorbar": {
              "outlinewidth": 0,
              "ticks": ""
             }
            },
            "type": "scatter3d"
           }
          ],
          "scattercarpet": [
           {
            "marker": {
             "colorbar": {
              "outlinewidth": 0,
              "ticks": ""
             }
            },
            "type": "scattercarpet"
           }
          ],
          "scattergeo": [
           {
            "marker": {
             "colorbar": {
              "outlinewidth": 0,
              "ticks": ""
             }
            },
            "type": "scattergeo"
           }
          ],
          "scattergl": [
           {
            "marker": {
             "colorbar": {
              "outlinewidth": 0,
              "ticks": ""
             }
            },
            "type": "scattergl"
           }
          ],
          "scattermapbox": [
           {
            "marker": {
             "colorbar": {
              "outlinewidth": 0,
              "ticks": ""
             }
            },
            "type": "scattermapbox"
           }
          ],
          "scatterpolar": [
           {
            "marker": {
             "colorbar": {
              "outlinewidth": 0,
              "ticks": ""
             }
            },
            "type": "scatterpolar"
           }
          ],
          "scatterpolargl": [
           {
            "marker": {
             "colorbar": {
              "outlinewidth": 0,
              "ticks": ""
             }
            },
            "type": "scatterpolargl"
           }
          ],
          "scatterternary": [
           {
            "marker": {
             "colorbar": {
              "outlinewidth": 0,
              "ticks": ""
             }
            },
            "type": "scatterternary"
           }
          ],
          "surface": [
           {
            "colorbar": {
             "outlinewidth": 0,
             "ticks": ""
            },
            "colorscale": [
             [
              0,
              "#0d0887"
             ],
             [
              0.1111111111111111,
              "#46039f"
             ],
             [
              0.2222222222222222,
              "#7201a8"
             ],
             [
              0.3333333333333333,
              "#9c179e"
             ],
             [
              0.4444444444444444,
              "#bd3786"
             ],
             [
              0.5555555555555556,
              "#d8576b"
             ],
             [
              0.6666666666666666,
              "#ed7953"
             ],
             [
              0.7777777777777778,
              "#fb9f3a"
             ],
             [
              0.8888888888888888,
              "#fdca26"
             ],
             [
              1,
              "#f0f921"
             ]
            ],
            "type": "surface"
           }
          ],
          "table": [
           {
            "cells": {
             "fill": {
              "color": "#EBF0F8"
             },
             "line": {
              "color": "white"
             }
            },
            "header": {
             "fill": {
              "color": "#C8D4E3"
             },
             "line": {
              "color": "white"
             }
            },
            "type": "table"
           }
          ]
         },
         "layout": {
          "annotationdefaults": {
           "arrowcolor": "#2a3f5f",
           "arrowhead": 0,
           "arrowwidth": 1
          },
          "coloraxis": {
           "colorbar": {
            "outlinewidth": 0,
            "ticks": ""
           }
          },
          "colorscale": {
           "diverging": [
            [
             0,
             "#8e0152"
            ],
            [
             0.1,
             "#c51b7d"
            ],
            [
             0.2,
             "#de77ae"
            ],
            [
             0.3,
             "#f1b6da"
            ],
            [
             0.4,
             "#fde0ef"
            ],
            [
             0.5,
             "#f7f7f7"
            ],
            [
             0.6,
             "#e6f5d0"
            ],
            [
             0.7,
             "#b8e186"
            ],
            [
             0.8,
             "#7fbc41"
            ],
            [
             0.9,
             "#4d9221"
            ],
            [
             1,
             "#276419"
            ]
           ],
           "sequential": [
            [
             0,
             "#0d0887"
            ],
            [
             0.1111111111111111,
             "#46039f"
            ],
            [
             0.2222222222222222,
             "#7201a8"
            ],
            [
             0.3333333333333333,
             "#9c179e"
            ],
            [
             0.4444444444444444,
             "#bd3786"
            ],
            [
             0.5555555555555556,
             "#d8576b"
            ],
            [
             0.6666666666666666,
             "#ed7953"
            ],
            [
             0.7777777777777778,
             "#fb9f3a"
            ],
            [
             0.8888888888888888,
             "#fdca26"
            ],
            [
             1,
             "#f0f921"
            ]
           ],
           "sequentialminus": [
            [
             0,
             "#0d0887"
            ],
            [
             0.1111111111111111,
             "#46039f"
            ],
            [
             0.2222222222222222,
             "#7201a8"
            ],
            [
             0.3333333333333333,
             "#9c179e"
            ],
            [
             0.4444444444444444,
             "#bd3786"
            ],
            [
             0.5555555555555556,
             "#d8576b"
            ],
            [
             0.6666666666666666,
             "#ed7953"
            ],
            [
             0.7777777777777778,
             "#fb9f3a"
            ],
            [
             0.8888888888888888,
             "#fdca26"
            ],
            [
             1,
             "#f0f921"
            ]
           ]
          },
          "colorway": [
           "#636efa",
           "#EF553B",
           "#00cc96",
           "#ab63fa",
           "#FFA15A",
           "#19d3f3",
           "#FF6692",
           "#B6E880",
           "#FF97FF",
           "#FECB52"
          ],
          "font": {
           "color": "#2a3f5f"
          },
          "geo": {
           "bgcolor": "white",
           "lakecolor": "white",
           "landcolor": "#E5ECF6",
           "showlakes": true,
           "showland": true,
           "subunitcolor": "white"
          },
          "hoverlabel": {
           "align": "left"
          },
          "hovermode": "closest",
          "mapbox": {
           "style": "light"
          },
          "paper_bgcolor": "white",
          "plot_bgcolor": "#E5ECF6",
          "polar": {
           "angularaxis": {
            "gridcolor": "white",
            "linecolor": "white",
            "ticks": ""
           },
           "bgcolor": "#E5ECF6",
           "radialaxis": {
            "gridcolor": "white",
            "linecolor": "white",
            "ticks": ""
           }
          },
          "scene": {
           "xaxis": {
            "backgroundcolor": "#E5ECF6",
            "gridcolor": "white",
            "gridwidth": 2,
            "linecolor": "white",
            "showbackground": true,
            "ticks": "",
            "zerolinecolor": "white"
           },
           "yaxis": {
            "backgroundcolor": "#E5ECF6",
            "gridcolor": "white",
            "gridwidth": 2,
            "linecolor": "white",
            "showbackground": true,
            "ticks": "",
            "zerolinecolor": "white"
           },
           "zaxis": {
            "backgroundcolor": "#E5ECF6",
            "gridcolor": "white",
            "gridwidth": 2,
            "linecolor": "white",
            "showbackground": true,
            "ticks": "",
            "zerolinecolor": "white"
           }
          },
          "shapedefaults": {
           "line": {
            "color": "#2a3f5f"
           }
          },
          "ternary": {
           "aaxis": {
            "gridcolor": "white",
            "linecolor": "white",
            "ticks": ""
           },
           "baxis": {
            "gridcolor": "white",
            "linecolor": "white",
            "ticks": ""
           },
           "bgcolor": "#E5ECF6",
           "caxis": {
            "gridcolor": "white",
            "linecolor": "white",
            "ticks": ""
           }
          },
          "title": {
           "x": 0.05
          },
          "xaxis": {
           "automargin": true,
           "gridcolor": "white",
           "linecolor": "white",
           "ticks": "",
           "title": {
            "standoff": 15
           },
           "zerolinecolor": "white",
           "zerolinewidth": 2
          },
          "yaxis": {
           "automargin": true,
           "gridcolor": "white",
           "linecolor": "white",
           "ticks": "",
           "title": {
            "standoff": 15
           },
           "zerolinecolor": "white",
           "zerolinewidth": 2
          }
         }
        },
        "xaxis": {
         "constrain": "domain",
         "scaleanchor": "y"
        },
        "yaxis": {
         "autorange": true,
         "constrain": "domain",
         "title": {
          "text": "Kingdom"
         }
        }
       }
      }
     },
     "metadata": {},
     "output_type": "display_data"
    }
   ],
   "source": [
    "fig = px.imshow(clustergraph_kingdom.groupby(level='Kingdom').mean(\n",
    "),  color_continuous_scale='Cividis', origin='lower')  # or RdBu_r\n",
    "fig.update_layout()\n",
    "fig.show()\n"
   ]
  },
  {
   "cell_type": "markdown",
   "metadata": {},
   "source": [
    "From the heatmap it appears that `CUA` has a high occurance in the vertebrate kingdom. furthermore the Aspartic Acid (`GAU` and `GAC`) and Glutamic Acid (`GAA` and `GAG`) codons seem to have high occurances in all of the kingdoms but not as much in the vertebrate kingdom in comparison with the rest. \n",
    "\n",
    "`CAG` has a higher occurance for archea kingdom. \n",
    "\n",
    "`CUA` is highly favoured in vertebrates, this codon encodes for Leucine."
   ]
  },
  {
   "cell_type": "markdown",
   "metadata": {},
   "source": [
    "### DNAtype classes:"
   ]
  },
  {
   "cell_type": "markdown",
   "metadata": {},
   "source": [
    "- Are there codons that have a higher occurance in certain DNA types?"
   ]
  },
  {
   "cell_type": "code",
   "execution_count": 154,
   "metadata": {},
   "outputs": [],
   "source": [
    "clustergraph_dna = codon.drop(\n",
    "    columns=['Kingdom', 'SpeciesID', 'Ncodons', 'SpeciesName'], axis=1)\n",
    "clustergraph_dna.set_index('DNAtype', inplace=True)\n"
   ]
  },
  {
   "cell_type": "code",
   "execution_count": 155,
   "metadata": {},
   "outputs": [
    {
     "data": {
      "application/vnd.plotly.v1+json": {
       "config": {
        "plotlyServerURL": "https://plot.ly"
       },
       "data": [
        {
         "coloraxis": "coloraxis",
         "hovertemplate": "x: %{x}<br>DNAtype: %{y}<br>color: %{z}<extra></extra>",
         "type": "heatmap",
         "x": [
          "UUU",
          "UUC",
          "UUA",
          "UUG",
          "CUU",
          "CUC",
          "CUA",
          "CUG",
          "AUU",
          "AUC",
          "AUA",
          "AUG",
          "GUU",
          "GUC",
          "GUA",
          "GUG",
          "GCU",
          "GCC",
          "GCA",
          "GCG",
          "CCU",
          "CCC",
          "CCA",
          "CCG",
          "UGG",
          "GGU",
          "GGC",
          "GGA",
          "GGG",
          "UCU",
          "UCC",
          "UCA",
          "UCG",
          "AGU",
          "AGC",
          "ACU",
          "ACC",
          "ACA",
          "ACG",
          "UAU",
          "UAC",
          "CAA",
          "CAG",
          "AAU",
          "AAC",
          "UGU",
          "UGC",
          "CAU",
          "CAC",
          "AAA",
          "AAG",
          "CGU",
          "CGC",
          "CGA",
          "CGG",
          "AGA",
          "AGG",
          "GAU",
          "GAC",
          "GAA",
          "GAG",
          "UAA",
          "UAG",
          "UGA"
         ],
         "y": [
          0,
          1,
          2
         ],
         "z": [
          [
           0.019914984322629475,
           0.020938622553789598,
           0.013676720726565035,
           0.015406902367823548,
           0.014493291166612608,
           0.01594805924964861,
           0.007786746675316251,
           0.022272047788950155,
           0.02208997080765488,
           0.021946854795112984,
           0.011992207806249324,
           0.023950678992323497,
           0.018595231916963998,
           0.01741161314736728,
           0.011082346199589144,
           0.020616795329224783,
           0.02072083900962266,
           0.023931959130716832,
           0.01809240242188345,
           0.015177100227051573,
           0.01279819764298843,
           0.011658412801383933,
           0.013708395502216456,
           0.010973680397880853,
           0.013534850254081522,
           0.01907441885609255,
           0.021606076332576492,
           0.016987752189425883,
           0.011133906368256029,
           0.013484938912314845,
           0.0121611093091145,
           0.012467518650664935,
           0.008707494864309655,
           0.010567247269975133,
           0.012695002702994918,
           0.015354612390528707,
           0.01812591415288139,
           0.015632700832522436,
           0.01032453346307709,
           0.01692399827008325,
           0.016826093631743973,
           0.018446263379824846,
           0.020066491512595954,
           0.022869075575737915,
           0.022525741161206616,
           0.008218077630014056,
           0.009051086603957184,
           0.011276683965834144,
           0.011671216347713266,
           0.02862205535733593,
           0.027767881933181963,
           0.009067004000432479,
           0.012112766785598443,
           0.005362494323710672,
           0.006744224240458428,
           0.011311018488485243,
           0.00825381230403287,
           0.02857958914477241,
           0.025576063358200885,
           0.030699219375067574,
           0.027940527624608066,
           0.0013897069953508487,
           0.0005953324683749595,
           0.0010618780408692833
          ],
          [
           0.03359701621248706,
           0.032158230424284236,
           0.03756420489824077,
           0.007176892031735081,
           0.026639227319765438,
           0.029586843739220423,
           0.056094115212142116,
           0.009523942738875473,
           0.04442473956536737,
           0.03780962055881339,
           0.03709259744739565,
           0.012535294929285961,
           0.014179227319765437,
           0.010659834425664021,
           0.01997182476716109,
           0.005654553294239393,
           0.01655968954812004,
           0.02840151431528113,
           0.02386796136598827,
           0.002638533977233529,
           0.013004125560538116,
           0.017691817868230427,
           0.023267578475336323,
           0.0022180855467402553,
           0.004307050707140394,
           0.010520341497067955,
           0.015158085546740254,
           0.022849717143842707,
           0.00907733356329769,
           0.014217067954467057,
           0.01708626767850983,
           0.023553425319075543,
           0.002208164884442911,
           0.005186812694032425,
           0.008162528458088996,
           0.016874611935150052,
           0.027038830631252158,
           0.03277766816143498,
           0.0026869023801310795,
           0.016370293204553292,
           0.016104277337012765,
           0.02046883753018282,
           0.0031700793377026563,
           0.016933728872024836,
           0.023473408071748875,
           0.003635881338392549,
           0.004308613314936185,
           0.008596212487064506,
           0.015445853742669886,
           0.02323775094860297,
           0.003794484304932735,
           0.00282522249051397,
           0.0033461296998965164,
           0.009913825457054156,
           0.0015363953087271474,
           0.003634522249051397,
           0.0010499517074853398,
           0.008118665056916179,
           0.010888206278026906,
           0.017443801310796828,
           0.004482669886167644,
           0.0025403070024146257,
           0.0006249361848913418,
           0.024031738530527768
          ],
          [
           0.04751921568627451,
           0.02113591911764706,
           0.038055821078431376,
           0.023631985294117648,
           0.024224375,
           0.0054564338235294114,
           0.015620882352941175,
           0.007062095588235294,
           0.04157962009803921,
           0.015175232843137255,
           0.02261487745098039,
           0.019829963235294117,
           0.01905905637254902,
           0.006166041666666666,
           0.019795061274509803,
           0.007766213235294118,
           0.02306900735294118,
           0.006565110294117647,
           0.01316906862745098,
           0.004531899509803922,
           0.01452232843137255,
           0.006412610294117647,
           0.011705808823529411,
           0.004434375,
           0.015714644607843137,
           0.019681740196078434,
           0.004461372549019608,
           0.019320073529411765,
           0.00905031862745098,
           0.029775379901960785,
           0.012173676470588235,
           0.019602757352941178,
           0.0073043872549019605,
           0.014865208333333334,
           0.0034473039215686275,
           0.019848075980392156,
           0.006952254901960784,
           0.01048515931372549,
           0.004187254901960784,
           0.03809514705882353,
           0.00936906862745098,
           0.025843198529411762,
           0.007475600490196078,
           0.03771768382352941,
           0.010984914215686275,
           0.009639375,
           0.0029900612745098042,
           0.024762855392156863,
           0.006635098039215687,
           0.04448762254901961,
           0.014021973039215685,
           0.014123529411764707,
           0.004181850490196078,
           0.014558578431372548,
           0.004541678921568627,
           0.016455196078431374,
           0.0048861642156862745,
           0.030971691176470587,
           0.008197536764705882,
           0.0390390931372549,
           0.012240833333333333,
           0.0012795833333333333,
           0.00042448529411764707,
           0.001097830882352941
          ]
         ]
        }
       ],
       "layout": {
        "coloraxis": {
         "colorscale": [
          [
           0,
           "#00224e"
          ],
          [
           0.1111111111111111,
           "#123570"
          ],
          [
           0.2222222222222222,
           "#3b496c"
          ],
          [
           0.3333333333333333,
           "#575d6d"
          ],
          [
           0.4444444444444444,
           "#707173"
          ],
          [
           0.5555555555555556,
           "#8a8678"
          ],
          [
           0.6666666666666666,
           "#a59c74"
          ],
          [
           0.7777777777777778,
           "#c3b369"
          ],
          [
           0.8888888888888888,
           "#e1cc55"
          ],
          [
           1,
           "#fee838"
          ]
         ]
        },
        "margin": {
         "t": 60
        },
        "template": {
         "data": {
          "bar": [
           {
            "error_x": {
             "color": "#2a3f5f"
            },
            "error_y": {
             "color": "#2a3f5f"
            },
            "marker": {
             "line": {
              "color": "#E5ECF6",
              "width": 0.5
             }
            },
            "type": "bar"
           }
          ],
          "barpolar": [
           {
            "marker": {
             "line": {
              "color": "#E5ECF6",
              "width": 0.5
             }
            },
            "type": "barpolar"
           }
          ],
          "carpet": [
           {
            "aaxis": {
             "endlinecolor": "#2a3f5f",
             "gridcolor": "white",
             "linecolor": "white",
             "minorgridcolor": "white",
             "startlinecolor": "#2a3f5f"
            },
            "baxis": {
             "endlinecolor": "#2a3f5f",
             "gridcolor": "white",
             "linecolor": "white",
             "minorgridcolor": "white",
             "startlinecolor": "#2a3f5f"
            },
            "type": "carpet"
           }
          ],
          "choropleth": [
           {
            "colorbar": {
             "outlinewidth": 0,
             "ticks": ""
            },
            "type": "choropleth"
           }
          ],
          "contour": [
           {
            "colorbar": {
             "outlinewidth": 0,
             "ticks": ""
            },
            "colorscale": [
             [
              0,
              "#0d0887"
             ],
             [
              0.1111111111111111,
              "#46039f"
             ],
             [
              0.2222222222222222,
              "#7201a8"
             ],
             [
              0.3333333333333333,
              "#9c179e"
             ],
             [
              0.4444444444444444,
              "#bd3786"
             ],
             [
              0.5555555555555556,
              "#d8576b"
             ],
             [
              0.6666666666666666,
              "#ed7953"
             ],
             [
              0.7777777777777778,
              "#fb9f3a"
             ],
             [
              0.8888888888888888,
              "#fdca26"
             ],
             [
              1,
              "#f0f921"
             ]
            ],
            "type": "contour"
           }
          ],
          "contourcarpet": [
           {
            "colorbar": {
             "outlinewidth": 0,
             "ticks": ""
            },
            "type": "contourcarpet"
           }
          ],
          "heatmap": [
           {
            "colorbar": {
             "outlinewidth": 0,
             "ticks": ""
            },
            "colorscale": [
             [
              0,
              "#0d0887"
             ],
             [
              0.1111111111111111,
              "#46039f"
             ],
             [
              0.2222222222222222,
              "#7201a8"
             ],
             [
              0.3333333333333333,
              "#9c179e"
             ],
             [
              0.4444444444444444,
              "#bd3786"
             ],
             [
              0.5555555555555556,
              "#d8576b"
             ],
             [
              0.6666666666666666,
              "#ed7953"
             ],
             [
              0.7777777777777778,
              "#fb9f3a"
             ],
             [
              0.8888888888888888,
              "#fdca26"
             ],
             [
              1,
              "#f0f921"
             ]
            ],
            "type": "heatmap"
           }
          ],
          "heatmapgl": [
           {
            "colorbar": {
             "outlinewidth": 0,
             "ticks": ""
            },
            "colorscale": [
             [
              0,
              "#0d0887"
             ],
             [
              0.1111111111111111,
              "#46039f"
             ],
             [
              0.2222222222222222,
              "#7201a8"
             ],
             [
              0.3333333333333333,
              "#9c179e"
             ],
             [
              0.4444444444444444,
              "#bd3786"
             ],
             [
              0.5555555555555556,
              "#d8576b"
             ],
             [
              0.6666666666666666,
              "#ed7953"
             ],
             [
              0.7777777777777778,
              "#fb9f3a"
             ],
             [
              0.8888888888888888,
              "#fdca26"
             ],
             [
              1,
              "#f0f921"
             ]
            ],
            "type": "heatmapgl"
           }
          ],
          "histogram": [
           {
            "marker": {
             "colorbar": {
              "outlinewidth": 0,
              "ticks": ""
             }
            },
            "type": "histogram"
           }
          ],
          "histogram2d": [
           {
            "colorbar": {
             "outlinewidth": 0,
             "ticks": ""
            },
            "colorscale": [
             [
              0,
              "#0d0887"
             ],
             [
              0.1111111111111111,
              "#46039f"
             ],
             [
              0.2222222222222222,
              "#7201a8"
             ],
             [
              0.3333333333333333,
              "#9c179e"
             ],
             [
              0.4444444444444444,
              "#bd3786"
             ],
             [
              0.5555555555555556,
              "#d8576b"
             ],
             [
              0.6666666666666666,
              "#ed7953"
             ],
             [
              0.7777777777777778,
              "#fb9f3a"
             ],
             [
              0.8888888888888888,
              "#fdca26"
             ],
             [
              1,
              "#f0f921"
             ]
            ],
            "type": "histogram2d"
           }
          ],
          "histogram2dcontour": [
           {
            "colorbar": {
             "outlinewidth": 0,
             "ticks": ""
            },
            "colorscale": [
             [
              0,
              "#0d0887"
             ],
             [
              0.1111111111111111,
              "#46039f"
             ],
             [
              0.2222222222222222,
              "#7201a8"
             ],
             [
              0.3333333333333333,
              "#9c179e"
             ],
             [
              0.4444444444444444,
              "#bd3786"
             ],
             [
              0.5555555555555556,
              "#d8576b"
             ],
             [
              0.6666666666666666,
              "#ed7953"
             ],
             [
              0.7777777777777778,
              "#fb9f3a"
             ],
             [
              0.8888888888888888,
              "#fdca26"
             ],
             [
              1,
              "#f0f921"
             ]
            ],
            "type": "histogram2dcontour"
           }
          ],
          "mesh3d": [
           {
            "colorbar": {
             "outlinewidth": 0,
             "ticks": ""
            },
            "type": "mesh3d"
           }
          ],
          "parcoords": [
           {
            "line": {
             "colorbar": {
              "outlinewidth": 0,
              "ticks": ""
             }
            },
            "type": "parcoords"
           }
          ],
          "pie": [
           {
            "automargin": true,
            "type": "pie"
           }
          ],
          "scatter": [
           {
            "marker": {
             "colorbar": {
              "outlinewidth": 0,
              "ticks": ""
             }
            },
            "type": "scatter"
           }
          ],
          "scatter3d": [
           {
            "line": {
             "colorbar": {
              "outlinewidth": 0,
              "ticks": ""
             }
            },
            "marker": {
             "colorbar": {
              "outlinewidth": 0,
              "ticks": ""
             }
            },
            "type": "scatter3d"
           }
          ],
          "scattercarpet": [
           {
            "marker": {
             "colorbar": {
              "outlinewidth": 0,
              "ticks": ""
             }
            },
            "type": "scattercarpet"
           }
          ],
          "scattergeo": [
           {
            "marker": {
             "colorbar": {
              "outlinewidth": 0,
              "ticks": ""
             }
            },
            "type": "scattergeo"
           }
          ],
          "scattergl": [
           {
            "marker": {
             "colorbar": {
              "outlinewidth": 0,
              "ticks": ""
             }
            },
            "type": "scattergl"
           }
          ],
          "scattermapbox": [
           {
            "marker": {
             "colorbar": {
              "outlinewidth": 0,
              "ticks": ""
             }
            },
            "type": "scattermapbox"
           }
          ],
          "scatterpolar": [
           {
            "marker": {
             "colorbar": {
              "outlinewidth": 0,
              "ticks": ""
             }
            },
            "type": "scatterpolar"
           }
          ],
          "scatterpolargl": [
           {
            "marker": {
             "colorbar": {
              "outlinewidth": 0,
              "ticks": ""
             }
            },
            "type": "scatterpolargl"
           }
          ],
          "scatterternary": [
           {
            "marker": {
             "colorbar": {
              "outlinewidth": 0,
              "ticks": ""
             }
            },
            "type": "scatterternary"
           }
          ],
          "surface": [
           {
            "colorbar": {
             "outlinewidth": 0,
             "ticks": ""
            },
            "colorscale": [
             [
              0,
              "#0d0887"
             ],
             [
              0.1111111111111111,
              "#46039f"
             ],
             [
              0.2222222222222222,
              "#7201a8"
             ],
             [
              0.3333333333333333,
              "#9c179e"
             ],
             [
              0.4444444444444444,
              "#bd3786"
             ],
             [
              0.5555555555555556,
              "#d8576b"
             ],
             [
              0.6666666666666666,
              "#ed7953"
             ],
             [
              0.7777777777777778,
              "#fb9f3a"
             ],
             [
              0.8888888888888888,
              "#fdca26"
             ],
             [
              1,
              "#f0f921"
             ]
            ],
            "type": "surface"
           }
          ],
          "table": [
           {
            "cells": {
             "fill": {
              "color": "#EBF0F8"
             },
             "line": {
              "color": "white"
             }
            },
            "header": {
             "fill": {
              "color": "#C8D4E3"
             },
             "line": {
              "color": "white"
             }
            },
            "type": "table"
           }
          ]
         },
         "layout": {
          "annotationdefaults": {
           "arrowcolor": "#2a3f5f",
           "arrowhead": 0,
           "arrowwidth": 1
          },
          "coloraxis": {
           "colorbar": {
            "outlinewidth": 0,
            "ticks": ""
           }
          },
          "colorscale": {
           "diverging": [
            [
             0,
             "#8e0152"
            ],
            [
             0.1,
             "#c51b7d"
            ],
            [
             0.2,
             "#de77ae"
            ],
            [
             0.3,
             "#f1b6da"
            ],
            [
             0.4,
             "#fde0ef"
            ],
            [
             0.5,
             "#f7f7f7"
            ],
            [
             0.6,
             "#e6f5d0"
            ],
            [
             0.7,
             "#b8e186"
            ],
            [
             0.8,
             "#7fbc41"
            ],
            [
             0.9,
             "#4d9221"
            ],
            [
             1,
             "#276419"
            ]
           ],
           "sequential": [
            [
             0,
             "#0d0887"
            ],
            [
             0.1111111111111111,
             "#46039f"
            ],
            [
             0.2222222222222222,
             "#7201a8"
            ],
            [
             0.3333333333333333,
             "#9c179e"
            ],
            [
             0.4444444444444444,
             "#bd3786"
            ],
            [
             0.5555555555555556,
             "#d8576b"
            ],
            [
             0.6666666666666666,
             "#ed7953"
            ],
            [
             0.7777777777777778,
             "#fb9f3a"
            ],
            [
             0.8888888888888888,
             "#fdca26"
            ],
            [
             1,
             "#f0f921"
            ]
           ],
           "sequentialminus": [
            [
             0,
             "#0d0887"
            ],
            [
             0.1111111111111111,
             "#46039f"
            ],
            [
             0.2222222222222222,
             "#7201a8"
            ],
            [
             0.3333333333333333,
             "#9c179e"
            ],
            [
             0.4444444444444444,
             "#bd3786"
            ],
            [
             0.5555555555555556,
             "#d8576b"
            ],
            [
             0.6666666666666666,
             "#ed7953"
            ],
            [
             0.7777777777777778,
             "#fb9f3a"
            ],
            [
             0.8888888888888888,
             "#fdca26"
            ],
            [
             1,
             "#f0f921"
            ]
           ]
          },
          "colorway": [
           "#636efa",
           "#EF553B",
           "#00cc96",
           "#ab63fa",
           "#FFA15A",
           "#19d3f3",
           "#FF6692",
           "#B6E880",
           "#FF97FF",
           "#FECB52"
          ],
          "font": {
           "color": "#2a3f5f"
          },
          "geo": {
           "bgcolor": "white",
           "lakecolor": "white",
           "landcolor": "#E5ECF6",
           "showlakes": true,
           "showland": true,
           "subunitcolor": "white"
          },
          "hoverlabel": {
           "align": "left"
          },
          "hovermode": "closest",
          "mapbox": {
           "style": "light"
          },
          "paper_bgcolor": "white",
          "plot_bgcolor": "#E5ECF6",
          "polar": {
           "angularaxis": {
            "gridcolor": "white",
            "linecolor": "white",
            "ticks": ""
           },
           "bgcolor": "#E5ECF6",
           "radialaxis": {
            "gridcolor": "white",
            "linecolor": "white",
            "ticks": ""
           }
          },
          "scene": {
           "xaxis": {
            "backgroundcolor": "#E5ECF6",
            "gridcolor": "white",
            "gridwidth": 2,
            "linecolor": "white",
            "showbackground": true,
            "ticks": "",
            "zerolinecolor": "white"
           },
           "yaxis": {
            "backgroundcolor": "#E5ECF6",
            "gridcolor": "white",
            "gridwidth": 2,
            "linecolor": "white",
            "showbackground": true,
            "ticks": "",
            "zerolinecolor": "white"
           },
           "zaxis": {
            "backgroundcolor": "#E5ECF6",
            "gridcolor": "white",
            "gridwidth": 2,
            "linecolor": "white",
            "showbackground": true,
            "ticks": "",
            "zerolinecolor": "white"
           }
          },
          "shapedefaults": {
           "line": {
            "color": "#2a3f5f"
           }
          },
          "ternary": {
           "aaxis": {
            "gridcolor": "white",
            "linecolor": "white",
            "ticks": ""
           },
           "baxis": {
            "gridcolor": "white",
            "linecolor": "white",
            "ticks": ""
           },
           "bgcolor": "#E5ECF6",
           "caxis": {
            "gridcolor": "white",
            "linecolor": "white",
            "ticks": ""
           }
          },
          "title": {
           "x": 0.05
          },
          "xaxis": {
           "automargin": true,
           "gridcolor": "white",
           "linecolor": "white",
           "ticks": "",
           "title": {
            "standoff": 15
           },
           "zerolinecolor": "white",
           "zerolinewidth": 2
          },
          "yaxis": {
           "automargin": true,
           "gridcolor": "white",
           "linecolor": "white",
           "ticks": "",
           "title": {
            "standoff": 15
           },
           "zerolinecolor": "white",
           "zerolinewidth": 2
          }
         }
        },
        "xaxis": {
         "constrain": "domain",
         "scaleanchor": "y"
        },
        "yaxis": {
         "autorange": true,
         "constrain": "domain",
         "title": {
          "text": "DNAtype"
         }
        }
       }
      }
     },
     "metadata": {},
     "output_type": "display_data"
    }
   ],
   "source": [
    "fig = px.imshow(clustergraph_dna.groupby(level='DNAtype').mean(),\n",
    "                color_continuous_scale='Cividis', origin='lower')  # or RdBu_r\n",
    "fig.update_layout()\n",
    "fig.show()\n"
   ]
  },
  {
   "cell_type": "markdown",
   "metadata": {},
   "source": [
    "In the heatmap for DNAtype codon frequencies, there are some codons that have frequencies. It appears that for DNAtype 1 which is mitochondria, there is a higher frequency of `CUA` which codes for the amino acid Leucine. While for Nuclear DNA there is almost an avoidance of the `CUA` codon. Moreover, in terms of the stop codons, it appears that mitochondrial DNA (1) seems to favour `UGA` stop codon over the over two.\n",
    "\n",
    "Another noteworthy pattern, mitochondrial DNA shows obvious order of favouring for the Theronine amino acid encoding codons; `ACG`, `ACA`, `ACC`, and `ACU`. There is a higher occurance of `ACA` for this amino acid.\n",
    "\n",
    "Nuclear DNA (0) seems to have a different pattern, in terms of frequency there are obvious codons that are more occurent for amino acids, however it isn't as pronounced."
   ]
  },
  {
   "cell_type": "markdown",
   "metadata": {},
   "source": [
    "---"
   ]
  },
  {
   "cell_type": "markdown",
   "metadata": {},
   "source": [
    "# Saving data"
   ]
  },
  {
   "cell_type": "code",
   "execution_count": 156,
   "metadata": {},
   "outputs": [
    {
     "data": {
      "text/plain": [
       "array(['virus', 'archaea', 'bacteria', 'phage', 'plant', 'invertebrate',\n",
       "       'vertebrate'], dtype=object)"
      ]
     },
     "execution_count": 156,
     "metadata": {},
     "output_type": "execute_result"
    }
   ],
   "source": [
    "codon['Kingdom'].unique()\n"
   ]
  },
  {
   "cell_type": "code",
   "execution_count": 157,
   "metadata": {},
   "outputs": [
    {
     "data": {
      "text/plain": [
       "['../data/codon_after_eda.pkl']"
      ]
     },
     "execution_count": 157,
     "metadata": {},
     "output_type": "execute_result"
    }
   ],
   "source": [
    "# Save data as pickle file to data folder\n",
    "joblib.dump(codon, '../data/codon_after_eda.pkl')\n"
   ]
  },
  {
   "cell_type": "code",
   "execution_count": null,
   "metadata": {},
   "outputs": [],
   "source": []
  }
 ],
 "metadata": {
  "kernelspec": {
   "display_name": "Python 3.8.13 ('plotly_bokeh')",
   "language": "python",
   "name": "python3"
  },
  "language_info": {
   "codemirror_mode": {
    "name": "ipython",
    "version": 3
   },
   "file_extension": ".py",
   "mimetype": "text/x-python",
   "name": "python",
   "nbconvert_exporter": "python",
   "pygments_lexer": "ipython3",
   "version": "3.8.13"
  },
  "orig_nbformat": 4,
  "vscode": {
   "interpreter": {
    "hash": "b2552d6eb3daaebc59a7ce400d4e256405ba48cf0a857688d9d9b21f3c117d11"
   }
  }
 },
 "nbformat": 4,
 "nbformat_minor": 2
}
