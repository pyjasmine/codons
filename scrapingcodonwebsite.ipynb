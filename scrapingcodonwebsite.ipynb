{
 "cells": [
  {
   "cell_type": "code",
   "execution_count": 310,
   "metadata": {},
   "outputs": [],
   "source": [
    "# Standard imports\n",
    "import numpy as np\n",
    "import pandas as pd\n",
    "\n",
    "# For web scraping\n",
    "import requests\n",
    "from bs4 import BeautifulSoup\n",
    "\n",
    "# For performing regex operations\n",
    "import re\n",
    "\n",
    "# For adding delays so that we don't spam requests\n",
    "import time"
   ]
  },
  {
   "cell_type": "code",
   "execution_count": null,
   "metadata": {},
   "outputs": [],
   "source": [
    "import re\n",
    "def codon_scrape(url):\n",
    "    \n",
    "\n",
    "    def first_layer_url(url):\n",
    "        response = requests.get(url)\n",
    "        soup = BeautifulSoup(response.content)\n",
    "        project_href = [i['href'] for i in soup.find_all('a', href=True)]\n",
    "        r = re.compile('codon\\/[a-zA-Z]+.html')\n",
    "        filtered_href = list(filter(r.search, project_href))\n",
    "        filtered_href = ['https://www.kazusa.or.jp'+i for i in filtered_href] #now I have a list of the urls containing each of the letters/mito and chloro\n",
    "\n",
    "        \n",
    "    def second_layer_url(filtered_href):\n",
    "        \n",
    "        for i in firsturls: #this should go through each organism url\n",
    "            response1 = requests.get(i)\n",
    "            soup1 = BeautifulSoup(response1.content)\n",
    "            project_href1 = [i['href'] for i in soup1.find_all('a', href=True)]\n",
    "            r = re.compile('ccodon\\/cgi\\-bin\\/showcodon\\.cgi\\?species=\\d{1,10}')\n",
    "            filtered_href1 = list(filter(r.search, project_href1))\n",
    "            filtered_href1.append(['https://www.kazusa.or.jp'+i for i in filtered_href1])\n",
    "    \n",
    "    def third_layer_data(filtered_href1):#this function should extract the codons and their frequencies from each organism url and assign it to a variable?\n",
    "         \n",
    "         \n",
    "         for i in filtered_href1:\n",
    "            response2 = requests.get(i)\n",
    "            soup2 = BeautifulSoup(response2.content)\n",
    "\n",
    "            codonpage = soup.find(\"strong\").find(text=True)\n",
    "\n",
    "            data = []\n",
    "\n",
    "            for info in codonpage:\n",
    "                item = {}\n",
    "\n",
    "                item['species_name'] = str(codonpage).split('<i>')[1].split('</i>')[0]\n",
    "                item['nr_of_codons'] = str(codonpage).split(' (')[1].split(')</str')[0]\n",
    "                item['kingdom'] = str(codonpage).split('>[gb')[1].split(']: ')[0]            \n",
    "\n",
    "        \n",
    "        \n",
    "    \n",
    "    "
   ]
  },
  {
   "cell_type": "markdown",
   "metadata": {},
   "source": [
    "website has three levels\n",
    "\n",
    "first level selecting alphabet  url\n",
    "second level selecting organism name url\n",
    "thrid level codons data\n",
    "\n",
    "\n",
    "okay so \n",
    "function that goes through first layer and finds urls puts them in a list\n",
    "another function goes through second layer urls and extraxts them into a list\n",
    "thrid goes through the urls and extracts the data into a csv file?\n",
    "\n",
    "\n",
    "\n",
    "\n",
    "\n",
    "\n",
    "project_href = [i['href'] for i in soup.find_all('a', href=True)]\n"
   ]
  },
  {
   "cell_type": "code",
   "execution_count": 311,
   "metadata": {},
   "outputs": [],
   "source": [
    "# Save the URL of the webpage we want to scrape to a variable\n",
    "url = 'https://www.kazusa.or.jp/codon/cgi-bin/showcodon.cgi?species=100'"
   ]
  },
  {
   "cell_type": "code",
   "execution_count": 312,
   "metadata": {},
   "outputs": [],
   "source": [
    "# Send a get request and assign the response to a variable\n",
    "response = requests.get(url)"
   ]
  },
  {
   "cell_type": "code",
   "execution_count": 313,
   "metadata": {},
   "outputs": [],
   "source": [
    "# Turn the undecoded content into a Beautiful Soup object and assign it to a variable\n",
    "soup = BeautifulSoup(response.content)"
   ]
  },
  {
   "cell_type": "code",
   "execution_count": 314,
   "metadata": {},
   "outputs": [
    {
     "name": "stdout",
     "output_type": "stream",
     "text": [
      "<html>\n",
      " <head>\n",
      "  <meta content=\"text/html; charset=utf-8\" http-equiv=\"Content-Type\"/>\n",
      "  <title>\n",
      "   Codon usage table\n",
      "  </title>\n",
      " </head>\n",
      " <body bgcolor=\"#F0F0F0\">\n",
      "  <strong>\n",
      "   <i>\n",
      "    Ancylobacter aquaticus\n",
      "   </i>\n",
      "   [gbbct]: 4 CDS's (1108 codons)\n",
      "  </strong>\n",
      "  <hr align=\"LEFT\" size=\"1\"/>\n",
      "  fields: [triplet] [frequency:\n",
      "  <strong>\n",
      "   per thousand\n",
      "  </strong>\n",
      "  ] ([number])\n",
      "  <hr align=\"LEFT\" size=\"1\"/>\n",
      "  <pre>\n",
      "UUU  2.7(     3)  UCU  0.9(     1)  UAU 16.2(    18)  UGU  0.0(     0)\n",
      "UUC 20.8(    23)  UCC 19.0(    21)  UAC  9.9(    11)  UGC  9.9(    11)\n",
      "UUA  0.0(     0)  UCA  2.7(     3)  UAA  0.0(     0)  UGA  2.7(     3)\n",
      "UUG  3.6(     4)  UCG 19.9(    22)  UAG  0.9(     1)  UGG  9.9(    11)\n",
      "\n",
      "CUU  6.3(     7)  CCU  1.8(     2)  CAU 13.5(    15)  CGU 15.3(    17)\n",
      "CUC 39.7(    44)  CCC 16.2(    18)  CAC 13.5(    15)  CGC 39.7(    44)\n",
      "CUA  0.0(     0)  CCA  0.9(     1)  CAA  0.9(     1)  CGA  0.9(     1)\n",
      "CUG 37.9(    42)  CCG 34.3(    38)  CAG 27.1(    30)  CGG 16.2(    18)\n",
      "\n",
      "AUU  6.3(     7)  ACU  2.7(     3)  AAU  3.6(     4)  AGU  0.9(     1)\n",
      "AUC 26.2(    29)  ACC 40.6(    45)  AAC 20.8(    23)  AGC 15.3(    17)\n",
      "AUA  0.9(     1)  ACA  0.9(     1)  AAA  2.7(     3)  AGA  0.0(     0)\n",
      "AUG 17.1(    19)  ACG 26.2(    29)  AAG 43.3(    48)  AGG  2.7(     3)\n",
      "\n",
      "GUU  9.0(    10)  GCU  9.9(    11)  GAU 18.1(    20)  GGU  6.3(     7)\n",
      "GUC 36.1(    40)  GCC 70.4(    78)  GAC 35.2(    39)  GGC 53.2(    59)\n",
      "GUA  1.8(     2)  GCA  8.1(     9)  GAA 26.2(    29)  GGA  8.1(     9)\n",
      "GUG 26.2(    29)  GCG 51.4(    57)  GAG 37.9(    42)  GGG  8.1(     9)\n",
      "</pre>\n",
      "  <hr align=\"LEFT\" size=\"1\"/>\n",
      "  Coding GC 66.52%\n",
      "1st letter GC 67.06%\n",
      "2nd letter GC 49.55%\n",
      "3rd letter GC 82.94%\n",
      "  <br/>\n",
      "  <hr align=\"LEFT\" size=\"1\"/>\n",
      "  <form action=\"./showcodon.cgi\" method=\"GET\">\n",
      "   <strong>\n",
      "    Format:\n",
      "   </strong>\n",
      "   <br/>\n",
      "   <!-- INPUT TYPE=\"HIDDEN\" NAME=\"species\" VALUE=\"Ancylobacter aquaticus [gbbct]\" -->\n",
      "   <input name=\"species\" type=\"HIDDEN\" value=\"100\"/>\n",
      "   <select name=\"aa\">\n",
      "    <option selected=\"\">\n",
      "     SELECT A CODE\n",
      "     <option value=\"1\">\n",
      "      1: Standard\n",
      "      <option value=\"2\">\n",
      "       2: Vertebrate Mitochondrial\n",
      "       <option value=\"3\">\n",
      "        3: Yeast Mitochondrial\n",
      "        <option value=\"4\">\n",
      "         4: Mold, Protozoan, Coelenterate Mitochondrial\n",
      "         <option value=\"4\">\n",
      "          (4:)\tand Mycoplasma/Spiroplasma\n",
      "          <option value=\"5\">\n",
      "           5: Invertebrate Mitochondrial\n",
      "           <option value=\"6\">\n",
      "            6: Ciliate Macronuclear and Dasycladacean\n",
      "            <option value=\"9\">\n",
      "             9: Echinoderm Mitochondrial\n",
      "             <option value=\"10\">\n",
      "              10: Alternative Ciliate Macronuclear\n",
      "              <option value=\"11\">\n",
      "               11: Eubacterial\n",
      "               <option value=\"12\">\n",
      "                12: Alternative Yeast\n",
      "                <option value=\"13\">\n",
      "                 13: Ascidian Mitochondrial\n",
      "                 <option value=\"14\">\n",
      "                  14: Flatworm Mitochondrial\n",
      "                  <option value=\"15\">\n",
      "                   15: Blepharisma Nuclear Code\n",
      "                  </option>\n",
      "                 </option>\n",
      "                </option>\n",
      "               </option>\n",
      "              </option>\n",
      "             </option>\n",
      "            </option>\n",
      "           </option>\n",
      "          </option>\n",
      "         </option>\n",
      "        </option>\n",
      "       </option>\n",
      "      </option>\n",
      "     </option>\n",
      "    </option>\n",
      "   </select>\n",
      "   <a href=\"http://www3.ncbi.nlm.nih.gov/htbin-post/Taxonomy/wprintgc?mode=t\">\n",
      "    Genetic codes (NCBI)\n",
      "   </a>\n",
      "   <br/>\n",
      "   <input checked=\"\" name=\"style\" type=\"radio\" value=\"N\"/>\n",
      "   <!-- INPUT TYPE=\"hidden\" NAME=\"style\" VALUE=\"N\" -->\n",
      "   Codon Usage Table with Amino Acids\n",
      "   <br/>\n",
      "   <input name=\"style\" type=\"radio\" value=\"GCG\"/>\n",
      "   A style like CodonFrequency output in GCG\n",
      "   <a href=\"http://www.gcg.com/products/software.html\">\n",
      "    Wisconsin Package\n",
      "    <sup>\n",
      "     TM\n",
      "    </sup>\n",
      "   </a>\n",
      "   <br/>\n",
      "   <!-- INPUT TYPE=\"radio\" NAME=\"style\" VALUE=\"BT\")Back translation (comming soon)\n",
      "(BR)\n",
      "(TEXTAREA NAME=\"aa_src\" ROWS=\"2\" COLS=\"60\")(/TEXTAREA)\n",
      "(P -->\n",
      "   <input type=\"SUBMIT\" value=\"Submit\"/>\n",
      "  </form>\n",
      "  <hr align=\"LEFT\" size=\"1\"/>\n",
      "  <form action=\"srchcds.cgi\" method=\"POST\">\n",
      "   <strong>\n",
      "    CDS Search:\n",
      "   </strong>\n",
      "   <br/>\n",
      "   <input name=\"key\" size=\"40\" type=\"TEXT\"/>\n",
      "   <input type=\"SUBMIT\" value=\"Submit\"/>\n",
      "   <input name=\"abbrev\" type=\"HIDDEN\" value=\"100\"/>\n",
      "   <input name=\"entry\" type=\"HIDDEN\" value=\"bct\"/>\n",
      "   <input name=\"sponly\" type=\"HIDDEN\" value=\"Ancylobacter aquaticus\"/>\n",
      "   <br/>\n",
      "   Keyword example: ribosomal protein / MAP kinase\n",
      "  </form>\n",
      "  <!-- A HREF=\"ftp://ftp.kazusa.or.jp/pub/codon/current/species/100.bct\" -->\n",
      "  <a href=\"http://www.kazusa.or.jp/codon/current/species/100\">\n",
      "   List of codon usage for each CDS\n",
      "  </a>\n",
      "  <a href=\"http://www.kazusa.or.jp/codon/current/CODON_LABEL\">\n",
      "   (format)\n",
      "  </a>\n",
      "  <hr align=\"LEFT\" size=\"1\"/>\n",
      "  <i>\n",
      "   <a href=\"/codon/\">\n",
      "    Homepage\n",
      "   </a>\n",
      "  </i>\n",
      " </body>\n",
      "</html>\n",
      "\n"
     ]
    }
   ],
   "source": [
    "print(soup.prettify())"
   ]
  },
  {
   "cell_type": "code",
   "execution_count": 315,
   "metadata": {},
   "outputs": [
    {
     "data": {
      "text/plain": [
       "'Codon usage table'"
      ]
     },
     "execution_count": 315,
     "metadata": {},
     "output_type": "execute_result"
    }
   ],
   "source": [
    "soup.title.text"
   ]
  },
  {
   "cell_type": "code",
   "execution_count": 316,
   "metadata": {},
   "outputs": [],
   "source": [
    "# Find a <div> tag with class='col-xs-12 col-lg-8 text-center' in our souped webpage\n",
    "#soup.find('pre', href_='<a href=\"/codon/A.html\">A</a>')"
   ]
  },
  {
   "cell_type": "code",
   "execution_count": 395,
   "metadata": {},
   "outputs": [
    {
     "name": "stdout",
     "output_type": "stream",
     "text": [
      "\n",
      "UUU  2.7(     3)  UCU  0.9(     1)  UAU 16.2(    18)  UGU  0.0(     0)\n",
      "UUC 20.8(    23)  UCC 19.0(    21)  UAC  9.9(    11)  UGC  9.9(    11)\n",
      "UUA  0.0(     0)  UCA  2.7(     3)  UAA  0.0(     0)  UGA  2.7(     3)\n",
      "UUG  3.6(     4)  UCG 19.9(    22)  UAG  0.9(     1)  UGG  9.9(    11)\n",
      "\n",
      "CUU  6.3(     7)  CCU  1.8(     2)  CAU 13.5(    15)  CGU 15.3(    17)\n",
      "CUC 39.7(    44)  CCC 16.2(    18)  CAC 13.5(    15)  CGC 39.7(    44)\n",
      "CUA  0.0(     0)  CCA  0.9(     1)  CAA  0.9(     1)  CGA  0.9(     1)\n",
      "CUG 37.9(    42)  CCG 34.3(    38)  CAG 27.1(    30)  CGG 16.2(    18)\n",
      "\n",
      "AUU  6.3(     7)  ACU  2.7(     3)  AAU  3.6(     4)  AGU  0.9(     1)\n",
      "AUC 26.2(    29)  ACC 40.6(    45)  AAC 20.8(    23)  AGC 15.3(    17)\n",
      "AUA  0.9(     1)  ACA  0.9(     1)  AAA  2.7(     3)  AGA  0.0(     0)\n",
      "AUG 17.1(    19)  ACG 26.2(    29)  AAG 43.3(    48)  AGG  2.7(     3)\n",
      "\n",
      "GUU  9.0(    10)  GCU  9.9(    11)  GAU 18.1(    20)  GGU  6.3(     7)\n",
      "GUC 36.1(    40)  GCC 70.4(    78)  GAC 35.2(    39)  GGC 53.2(    59)\n",
      "GUA  1.8(     2)  GCA  8.1(     9)  GAA 26.2(    29)  GGA  8.1(     9)\n",
      "GUG 26.2(    29)  GCG 51.4(    57)  GAG 37.9(    42)  GGG  8.1(     9)\n",
      "\n"
     ]
    }
   ],
   "source": [
    "table = soup.find(\"pre\").find(text=True)\n",
    "print(table)"
   ]
  },
  {
   "cell_type": "code",
   "execution_count": 318,
   "metadata": {},
   "outputs": [],
   "source": [
    "import re"
   ]
  },
  {
   "cell_type": "code",
   "execution_count": 319,
   "metadata": {},
   "outputs": [
    {
     "data": {
      "text/plain": [
       "bs4.element.NavigableString"
      ]
     },
     "execution_count": 319,
     "metadata": {},
     "output_type": "execute_result"
    }
   ],
   "source": [
    "type(table)"
   ]
  },
  {
   "cell_type": "code",
   "execution_count": 320,
   "metadata": {},
   "outputs": [
    {
     "data": {
      "text/plain": [
       "'\\nUUU  2.7(     3)  UCU  0.9(     1)  UAU 16.2(    18)  UGU  0.0(     0)\\nUUC 20.8(    23)  UCC 19.0(    21)  UAC  9.9(    11)  UGC  9.9(    11)\\nUUA  0.0(     0)  UCA  2.7(     3)  UAA  0.0(     0)  UGA  2.7(     3)\\nUUG  3.6(     4)  UCG 19.9(    22)  UAG  0.9(     1)  UGG  9.9(    11)\\n\\nCUU  6.3(     7)  CCU  1.8(     2)  CAU 13.5(    15)  CGU 15.3(    17)\\nCUC 39.7(    44)  CCC 16.2(    18)  CAC 13.5(    15)  CGC 39.7(    44)\\nCUA  0.0(     0)  CCA  0.9(     1)  CAA  0.9(     1)  CGA  0.9(     1)\\nCUG 37.9(    42)  CCG 34.3(    38)  CAG 27.1(    30)  CGG 16.2(    18)\\n\\nAUU  6.3(     7)  ACU  2.7(     3)  AAU  3.6(     4)  AGU  0.9(     1)\\nAUC 26.2(    29)  ACC 40.6(    45)  AAC 20.8(    23)  AGC 15.3(    17)\\nAUA  0.9(     1)  ACA  0.9(     1)  AAA  2.7(     3)  AGA  0.0(     0)\\nAUG 17.1(    19)  ACG 26.2(    29)  AAG 43.3(    48)  AGG  2.7(     3)\\n\\nGUU  9.0(    10)  GCU  9.9(    11)  GAU 18.1(    20)  GGU  6.3(     7)\\nGUC 36.1(    40)  GCC 70.4(    78)  GAC 35.2(    39)  GGC 53.2(    59)\\nGUA  1.8(     2)  GCA  8.1(     9)  GAA 26.2(    29)  GGA  8.1(     9)\\nGUG 26.2(    29)  GCG 51.4(    57)  GAG 37.9(    42)  GGG  8.1(     9)\\n'"
      ]
     },
     "execution_count": 320,
     "metadata": {},
     "output_type": "execute_result"
    }
   ],
   "source": [
    "codons = table.text\n",
    "\n",
    "codons"
   ]
  },
  {
   "cell_type": "code",
   "execution_count": 321,
   "metadata": {},
   "outputs": [
    {
     "data": {
      "text/plain": [
       "['\\nUUU  2.7',\n",
       " '  UCU  0.9',\n",
       " '  UAU 16.2',\n",
       " '  UGU  0.0',\n",
       " '\\nUUC 20.8',\n",
       " '  UCC 19.0',\n",
       " '  UAC  9.9',\n",
       " '  UGC  9.9',\n",
       " '\\nUUA  0.0',\n",
       " '  UCA  2.7',\n",
       " '  UAA  0.0',\n",
       " '  UGA  2.7',\n",
       " '\\nUUG  3.6',\n",
       " '  UCG 19.9',\n",
       " '  UAG  0.9',\n",
       " '  UGG  9.9',\n",
       " '\\n\\nCUU  6.3',\n",
       " '  CCU  1.8',\n",
       " '  CAU 13.5',\n",
       " '  CGU 15.3',\n",
       " '\\nCUC 39.7',\n",
       " '  CCC 16.2',\n",
       " '  CAC 13.5',\n",
       " '  CGC 39.7',\n",
       " '\\nCUA  0.0',\n",
       " '  CCA  0.9',\n",
       " '  CAA  0.9',\n",
       " '  CGA  0.9',\n",
       " '\\nCUG 37.9',\n",
       " '  CCG 34.3',\n",
       " '  CAG 27.1',\n",
       " '  CGG 16.2',\n",
       " '\\n\\nAUU  6.3',\n",
       " '  ACU  2.7',\n",
       " '  AAU  3.6',\n",
       " '  AGU  0.9',\n",
       " '\\nAUC 26.2',\n",
       " '  ACC 40.6',\n",
       " '  AAC 20.8',\n",
       " '  AGC 15.3',\n",
       " '\\nAUA  0.9',\n",
       " '  ACA  0.9',\n",
       " '  AAA  2.7',\n",
       " '  AGA  0.0',\n",
       " '\\nAUG 17.1',\n",
       " '  ACG 26.2',\n",
       " '  AAG 43.3',\n",
       " '  AGG  2.7',\n",
       " '\\n\\nGUU  9.0',\n",
       " '  GCU  9.9',\n",
       " '  GAU 18.1',\n",
       " '  GGU  6.3',\n",
       " '\\nGUC 36.1',\n",
       " '  GCC 70.4',\n",
       " '  GAC 35.2',\n",
       " '  GGC 53.2',\n",
       " '\\nGUA  1.8',\n",
       " '  GCA  8.1',\n",
       " '  GAA 26.2',\n",
       " '  GGA  8.1',\n",
       " '\\nGUG 26.2',\n",
       " '  GCG 51.4',\n",
       " '  GAG 37.9',\n",
       " '  GGG  8.1',\n",
       " '\\n']"
      ]
     },
     "execution_count": 321,
     "metadata": {},
     "output_type": "execute_result"
    }
   ],
   "source": [
    "codons_list = re.split('\\(\\s+\\d+\\)', codons)\n",
    "codons_list"
   ]
  },
  {
   "cell_type": "code",
   "execution_count": 322,
   "metadata": {},
   "outputs": [
    {
     "data": {
      "text/plain": [
       "['UUU  2.7',\n",
       " 'UCU  0.9',\n",
       " 'UAU 16.2',\n",
       " 'UGU  0.0',\n",
       " 'UUC 20.8',\n",
       " 'UCC 19.0',\n",
       " 'UAC  9.9',\n",
       " 'UGC  9.9',\n",
       " 'UUA  0.0',\n",
       " 'UCA  2.7',\n",
       " 'UAA  0.0',\n",
       " 'UGA  2.7',\n",
       " 'UUG  3.6',\n",
       " 'UCG 19.9',\n",
       " 'UAG  0.9',\n",
       " 'UGG  9.9',\n",
       " 'CUU  6.3',\n",
       " 'CCU  1.8',\n",
       " 'CAU 13.5',\n",
       " 'CGU 15.3',\n",
       " 'CUC 39.7',\n",
       " 'CCC 16.2',\n",
       " 'CAC 13.5',\n",
       " 'CGC 39.7',\n",
       " 'CUA  0.0',\n",
       " 'CCA  0.9',\n",
       " 'CAA  0.9',\n",
       " 'CGA  0.9',\n",
       " 'CUG 37.9',\n",
       " 'CCG 34.3',\n",
       " 'CAG 27.1',\n",
       " 'CGG 16.2',\n",
       " 'AUU  6.3',\n",
       " 'ACU  2.7',\n",
       " 'AAU  3.6',\n",
       " 'AGU  0.9',\n",
       " 'AUC 26.2',\n",
       " 'ACC 40.6',\n",
       " 'AAC 20.8',\n",
       " 'AGC 15.3',\n",
       " 'AUA  0.9',\n",
       " 'ACA  0.9',\n",
       " 'AAA  2.7',\n",
       " 'AGA  0.0',\n",
       " 'AUG 17.1',\n",
       " 'ACG 26.2',\n",
       " 'AAG 43.3',\n",
       " 'AGG  2.7',\n",
       " 'GUU  9.0',\n",
       " 'GCU  9.9',\n",
       " 'GAU 18.1',\n",
       " 'GGU  6.3',\n",
       " 'GUC 36.1',\n",
       " 'GCC 70.4',\n",
       " 'GAC 35.2',\n",
       " 'GGC 53.2',\n",
       " 'GUA  1.8',\n",
       " 'GCA  8.1',\n",
       " 'GAA 26.2',\n",
       " 'GGA  8.1',\n",
       " 'GUG 26.2',\n",
       " 'GCG 51.4',\n",
       " 'GAG 37.9',\n",
       " 'GGG  8.1']"
      ]
     },
     "execution_count": 322,
     "metadata": {},
     "output_type": "execute_result"
    }
   ],
   "source": [
    "codon_list = [i.strip() for i in codons_list]\n",
    "\n",
    "del codon_list[-1]\n",
    "\n",
    "codon_list"
   ]
  },
  {
   "cell_type": "code",
   "execution_count": 323,
   "metadata": {},
   "outputs": [
    {
     "ename": "IndentationError",
     "evalue": "unexpected indent (640607889.py, line 4)",
     "output_type": "error",
     "traceback": [
      "\u001b[0;36m  Input \u001b[0;32mIn [323]\u001b[0;36m\u001b[0m\n\u001b[0;31m    codon_value.append(re.split('(\\d+\\.\\d+)', i))\u001b[0m\n\u001b[0m    ^\u001b[0m\n\u001b[0;31mIndentationError\u001b[0m\u001b[0;31m:\u001b[0m unexpected indent\n"
     ]
    }
   ],
   "source": [
    "a, b = zip(*(s.split(\"~\") for s in x))\n",
    "\n",
    "codon_key.append(re.split('(\\w[AUCG]+)', i))\n",
    "    codon_value.append(re.split('(\\d+\\.\\d+)', i))"
   ]
  },
  {
   "cell_type": "code",
   "execution_count": 324,
   "metadata": {},
   "outputs": [
    {
     "data": {
      "text/plain": [
       "'UCU  0.9'"
      ]
     },
     "execution_count": 324,
     "metadata": {},
     "output_type": "execute_result"
    }
   ],
   "source": [
    "codon_list[1]"
   ]
  },
  {
   "cell_type": "code",
   "execution_count": 325,
   "metadata": {},
   "outputs": [
    {
     "data": {
      "text/plain": [
       "['UUU  2.7',\n",
       " 'UCU  0.9',\n",
       " 'UAU 16.2',\n",
       " 'UGU  0.0',\n",
       " 'UUC 20.8',\n",
       " 'UCC 19.0',\n",
       " 'UAC  9.9',\n",
       " 'UGC  9.9',\n",
       " 'UUA  0.0',\n",
       " 'UCA  2.7',\n",
       " 'UAA  0.0',\n",
       " 'UGA  2.7',\n",
       " 'UUG  3.6',\n",
       " 'UCG 19.9',\n",
       " 'UAG  0.9',\n",
       " 'UGG  9.9',\n",
       " 'CUU  6.3',\n",
       " 'CCU  1.8',\n",
       " 'CAU 13.5',\n",
       " 'CGU 15.3',\n",
       " 'CUC 39.7',\n",
       " 'CCC 16.2',\n",
       " 'CAC 13.5',\n",
       " 'CGC 39.7',\n",
       " 'CUA  0.0',\n",
       " 'CCA  0.9',\n",
       " 'CAA  0.9',\n",
       " 'CGA  0.9',\n",
       " 'CUG 37.9',\n",
       " 'CCG 34.3',\n",
       " 'CAG 27.1',\n",
       " 'CGG 16.2',\n",
       " 'AUU  6.3',\n",
       " 'ACU  2.7',\n",
       " 'AAU  3.6',\n",
       " 'AGU  0.9',\n",
       " 'AUC 26.2',\n",
       " 'ACC 40.6',\n",
       " 'AAC 20.8',\n",
       " 'AGC 15.3',\n",
       " 'AUA  0.9',\n",
       " 'ACA  0.9',\n",
       " 'AAA  2.7',\n",
       " 'AGA  0.0',\n",
       " 'AUG 17.1',\n",
       " 'ACG 26.2',\n",
       " 'AAG 43.3',\n",
       " 'AGG  2.7',\n",
       " 'GUU  9.0',\n",
       " 'GCU  9.9',\n",
       " 'GAU 18.1',\n",
       " 'GGU  6.3',\n",
       " 'GUC 36.1',\n",
       " 'GCC 70.4',\n",
       " 'GAC 35.2',\n",
       " 'GGC 53.2',\n",
       " 'GUA  1.8',\n",
       " 'GCA  8.1',\n",
       " 'GAA 26.2',\n",
       " 'GGA  8.1',\n",
       " 'GUG 26.2',\n",
       " 'GCG 51.4',\n",
       " 'GAG 37.9',\n",
       " 'GGG  8.1']"
      ]
     },
     "execution_count": 325,
     "metadata": {},
     "output_type": "execute_result"
    }
   ],
   "source": [
    "codon_list"
   ]
  },
  {
   "cell_type": "code",
   "execution_count": 326,
   "metadata": {},
   "outputs": [
    {
     "name": "stdout",
     "output_type": "stream",
     "text": [
      "['UUU  2.7', 'UCU  0.9', 'UAU 16.2', 'UGU  0.0', 'UUC 20.8', 'UCC 19.0', 'UAC  9.9', 'UGC  9.9', 'UUA  0.0', 'UCA  2.7', 'UAA  0.0', 'UGA  2.7', 'UUG  3.6', 'UCG 19.9', 'UAG  0.9', 'UGG  9.9', 'CUU  6.3', 'CCU  1.8', 'CAU 13.5', 'CGU 15.3', 'CUC 39.7', 'CCC 16.2', 'CAC 13.5', 'CGC 39.7', 'CUA  0.0', 'CCA  0.9', 'CAA  0.9', 'CGA  0.9', 'CUG 37.9', 'CCG 34.3', 'CAG 27.1', 'CGG 16.2', 'AUU  6.3', 'ACU  2.7', 'AAU  3.6', 'AGU  0.9', 'AUC 26.2', 'ACC 40.6', 'AAC 20.8', 'AGC 15.3', 'AUA  0.9', 'ACA  0.9', 'AAA  2.7', 'AGA  0.0', 'AUG 17.1', 'ACG 26.2', 'AAG 43.3', 'AGG  2.7', 'GUU  9.0', 'GCU  9.9', 'GAU 18.1', 'GGU  6.3', 'GUC 36.1', 'GCC 70.4', 'GAC 35.2', 'GGC 53.2', 'GUA  1.8', 'GCA  8.1', 'GAA 26.2', 'GGA  8.1', 'GUG 26.2', 'GCG 51.4', 'GAG 37.9', 'GGG  8.1']\n"
     ]
    }
   ],
   "source": [
    "# codon_dict = {}\n",
    "# codon_value = []\n",
    "# codon_key = []\n",
    "\n",
    "for i in codon_list:\n",
    "\n",
    "    re.sub('\\\\s+',' ', i)\n",
    "\n",
    "\n",
    "print(codon_list)"
   ]
  },
  {
   "cell_type": "code",
   "execution_count": 327,
   "metadata": {},
   "outputs": [
    {
     "data": {
      "text/plain": [
       "list"
      ]
     },
     "execution_count": 327,
     "metadata": {},
     "output_type": "execute_result"
    }
   ],
   "source": [
    "type(codon_list)"
   ]
  },
  {
   "cell_type": "code",
   "execution_count": 328,
   "metadata": {},
   "outputs": [],
   "source": [
    "codon_key, codon_value = zip(*(s.split(\" \") for s in codon_list))"
   ]
  },
  {
   "cell_type": "code",
   "execution_count": 329,
   "metadata": {},
   "outputs": [],
   "source": [
    "codon_value = list(codon_value)"
   ]
  },
  {
   "cell_type": "code",
   "execution_count": 330,
   "metadata": {},
   "outputs": [],
   "source": [
    "codon_value.remove('')"
   ]
  },
  {
   "cell_type": "code",
   "execution_count": 331,
   "metadata": {},
   "outputs": [
    {
     "data": {
      "text/plain": [
       "['',\n",
       " '16.2',\n",
       " '',\n",
       " '20.8',\n",
       " '19.0',\n",
       " '',\n",
       " '',\n",
       " '',\n",
       " '',\n",
       " '',\n",
       " '',\n",
       " '',\n",
       " '19.9',\n",
       " '',\n",
       " '',\n",
       " '',\n",
       " '',\n",
       " '13.5',\n",
       " '15.3',\n",
       " '39.7',\n",
       " '16.2',\n",
       " '13.5',\n",
       " '39.7',\n",
       " '',\n",
       " '',\n",
       " '',\n",
       " '',\n",
       " '37.9',\n",
       " '34.3',\n",
       " '27.1',\n",
       " '16.2',\n",
       " '',\n",
       " '',\n",
       " '',\n",
       " '',\n",
       " '26.2',\n",
       " '40.6',\n",
       " '20.8',\n",
       " '15.3',\n",
       " '',\n",
       " '',\n",
       " '',\n",
       " '',\n",
       " '17.1',\n",
       " '26.2',\n",
       " '43.3',\n",
       " '',\n",
       " '',\n",
       " '',\n",
       " '18.1',\n",
       " '',\n",
       " '36.1',\n",
       " '70.4',\n",
       " '35.2',\n",
       " '53.2',\n",
       " '',\n",
       " '',\n",
       " '26.2',\n",
       " '',\n",
       " '26.2',\n",
       " '51.4',\n",
       " '37.9',\n",
       " '']"
      ]
     },
     "execution_count": 331,
     "metadata": {},
     "output_type": "execute_result"
    }
   ],
   "source": [
    "codon_value"
   ]
  },
  {
   "cell_type": "code",
   "execution_count": 398,
   "metadata": {},
   "outputs": [
    {
     "name": "stdout",
     "output_type": "stream",
     "text": [
      "<strong><i>Ancylobacter aquaticus </i>[gbbct]: 4 CDS's (1108 codons)</strong>\n"
     ]
    }
   ],
   "source": [
    "table = soup.find(\"strong\")\n",
    "print(table)"
   ]
  },
  {
   "cell_type": "code",
   "execution_count": 383,
   "metadata": {},
   "outputs": [
    {
     "data": {
      "text/plain": [
       "'Ancylobacter aquaticus '"
      ]
     },
     "execution_count": 383,
     "metadata": {},
     "output_type": "execute_result"
    }
   ],
   "source": [
    "str(table).split('<i>')[1].split('</i>')[0]"
   ]
  },
  {
   "cell_type": "code",
   "execution_count": 388,
   "metadata": {},
   "outputs": [
    {
     "data": {
      "text/plain": [
       "'1108 codons'"
      ]
     },
     "execution_count": 388,
     "metadata": {},
     "output_type": "execute_result"
    }
   ],
   "source": [
    "str(table).split(' (')[1].split(')</str')[0]"
   ]
  },
  {
   "cell_type": "code",
   "execution_count": 401,
   "metadata": {},
   "outputs": [
    {
     "data": {
      "text/plain": [
       "'bct'"
      ]
     },
     "execution_count": 401,
     "metadata": {},
     "output_type": "execute_result"
    }
   ],
   "source": [
    "str(table).split('>[gb')[1].split(']: ')[0]"
   ]
  },
  {
   "cell_type": "code",
   "execution_count": 376,
   "metadata": {},
   "outputs": [],
   "source": [
    "match = re.search('<i>\\w+</i>',str(table))"
   ]
  },
  {
   "cell_type": "code",
   "execution_count": 378,
   "metadata": {},
   "outputs": [],
   "source": [
    "match"
   ]
  },
  {
   "cell_type": "code",
   "execution_count": 391,
   "metadata": {},
   "outputs": [
    {
     "name": "stdout",
     "output_type": "stream",
     "text": [
      "[]\n"
     ]
    }
   ],
   "source": [
    "#soup = BeautifulSoup(html,\"lxml\")\n",
    "\n",
    "#('gb\\w{3}') for gbbct\n",
    "table = soup.findAll(\"strong\", text= re.compile('\\['))\n",
    "print(table)"
   ]
  },
  {
   "cell_type": "code",
   "execution_count": 66,
   "metadata": {},
   "outputs": [
    {
     "ename": "KeyError",
     "evalue": "'pre'",
     "output_type": "error",
     "traceback": [
      "\u001b[0;31m---------------------------------------------------------------------------\u001b[0m",
      "\u001b[0;31mKeyError\u001b[0m                                  Traceback (most recent call last)",
      "\u001b[1;32m/home/amina/Documents/Jasmine/BrainStation/codon/notebooks/scrapingcodonwebsite.ipynb Cell 13\u001b[0m in \u001b[0;36m<cell line: 1>\u001b[0;34m()\u001b[0m\n\u001b[0;32m----> <a href='vscode-notebook-cell:/home/amina/Documents/Jasmine/BrainStation/codon/notebooks/scrapingcodonwebsite.ipynb#ch0000011?line=0'>1</a>\u001b[0m project_href \u001b[39m=\u001b[39m [i[\u001b[39m'\u001b[39m\u001b[39mpre\u001b[39m\u001b[39m'\u001b[39m] \u001b[39mfor\u001b[39;00m i \u001b[39min\u001b[39;00m soup\u001b[39m.\u001b[39mfind_all(\u001b[39m'\u001b[39m\u001b[39mpre\u001b[39m\u001b[39m'\u001b[39m, href\u001b[39m=\u001b[39m\u001b[39mFalse\u001b[39;00m)]\n\u001b[1;32m      <a href='vscode-notebook-cell:/home/amina/Documents/Jasmine/BrainStation/codon/notebooks/scrapingcodonwebsite.ipynb#ch0000011?line=1'>2</a>\u001b[0m \u001b[39mprint\u001b[39m(project_href)\n",
      "\u001b[1;32m/home/amina/Documents/Jasmine/BrainStation/codon/notebooks/scrapingcodonwebsite.ipynb Cell 13\u001b[0m in \u001b[0;36m<listcomp>\u001b[0;34m(.0)\u001b[0m\n\u001b[0;32m----> <a href='vscode-notebook-cell:/home/amina/Documents/Jasmine/BrainStation/codon/notebooks/scrapingcodonwebsite.ipynb#ch0000011?line=0'>1</a>\u001b[0m project_href \u001b[39m=\u001b[39m [i[\u001b[39m'\u001b[39;49m\u001b[39mpre\u001b[39;49m\u001b[39m'\u001b[39;49m] \u001b[39mfor\u001b[39;00m i \u001b[39min\u001b[39;00m soup\u001b[39m.\u001b[39mfind_all(\u001b[39m'\u001b[39m\u001b[39mpre\u001b[39m\u001b[39m'\u001b[39m, href\u001b[39m=\u001b[39m\u001b[39mFalse\u001b[39;00m)]\n\u001b[1;32m      <a href='vscode-notebook-cell:/home/amina/Documents/Jasmine/BrainStation/codon/notebooks/scrapingcodonwebsite.ipynb#ch0000011?line=1'>2</a>\u001b[0m \u001b[39mprint\u001b[39m(project_href)\n",
      "File \u001b[0;32m~/.local/lib/python3.8/site-packages/bs4/element.py:1519\u001b[0m, in \u001b[0;36mTag.__getitem__\u001b[0;34m(self, key)\u001b[0m\n\u001b[1;32m   1516\u001b[0m \u001b[39mdef\u001b[39;00m \u001b[39m__getitem__\u001b[39m(\u001b[39mself\u001b[39m, key):\n\u001b[1;32m   1517\u001b[0m     \u001b[39m\"\"\"tag[key] returns the value of the 'key' attribute for the Tag,\u001b[39;00m\n\u001b[1;32m   1518\u001b[0m \u001b[39m    and throws an exception if it's not there.\"\"\"\u001b[39;00m\n\u001b[0;32m-> 1519\u001b[0m     \u001b[39mreturn\u001b[39;00m \u001b[39mself\u001b[39;49m\u001b[39m.\u001b[39;49mattrs[key]\n",
      "\u001b[0;31mKeyError\u001b[0m: 'pre'"
     ]
    }
   ],
   "source": [
    "project_href = [i['href'] for i in soup.find_all('a', href=True)]\n",
    "print(project_href)"
   ]
  },
  {
   "cell_type": "code",
   "execution_count": 39,
   "metadata": {},
   "outputs": [],
   "source": [
    "import re\n",
    "r = re.compile('codon\\/cgi\\-bin\\/showcodon\\.cgi\\?species=\\d{1,10}')\n",
    "filtered_href = list(filter(r.search, project_href))\n"
   ]
  },
  {
   "cell_type": "code",
   "execution_count": 49,
   "metadata": {},
   "outputs": [
    {
     "data": {
      "text/plain": [
       "1510"
      ]
     },
     "execution_count": 49,
     "metadata": {},
     "output_type": "execute_result"
    }
   ],
   "source": [
    "len(filtered_href)"
   ]
  },
  {
   "cell_type": "code",
   "execution_count": 52,
   "metadata": {},
   "outputs": [
    {
     "data": {
      "text/plain": [
       "1510"
      ]
     },
     "execution_count": 52,
     "metadata": {},
     "output_type": "execute_result"
    }
   ],
   "source": [
    "filtered_href = ['https://www.kazusa.or.jp'+i for i in filtered_href]\n",
    "\n",
    "len(filtered_href)"
   ]
  },
  {
   "cell_type": "code",
   "execution_count": null,
   "metadata": {},
   "outputs": [],
   "source": []
  }
 ],
 "metadata": {
  "kernelspec": {
   "display_name": "Python 3.8.13 ('plotly_bokeh')",
   "language": "python",
   "name": "python3"
  },
  "language_info": {
   "codemirror_mode": {
    "name": "ipython",
    "version": 3
   },
   "file_extension": ".py",
   "mimetype": "text/x-python",
   "name": "python",
   "nbconvert_exporter": "python",
   "pygments_lexer": "ipython3",
   "version": "3.8.13"
  },
  "orig_nbformat": 4,
  "vscode": {
   "interpreter": {
    "hash": "b2552d6eb3daaebc59a7ce400d4e256405ba48cf0a857688d9d9b21f3c117d11"
   }
  }
 },
 "nbformat": 4,
 "nbformat_minor": 2
}
